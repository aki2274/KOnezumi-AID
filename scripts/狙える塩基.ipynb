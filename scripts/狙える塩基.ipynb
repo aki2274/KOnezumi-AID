{
 "cells": [
  {
   "cell_type": "code",
   "execution_count": 4,
   "id": "a7a9908c",
   "metadata": {},
   "outputs": [],
   "source": [
    "import re    "
   ]
  },
  {
   "cell_type": "code",
   "execution_count": 111,
   "id": "7ed7bd43",
   "metadata": {},
   "outputs": [],
   "source": [
    "def target_base_CT(seq):\n",
    "    match = re.findall('\\w{17}GG', seq)\n",
    "    target_list=[]\n",
    "    for i in range(len(match)):\n",
    "        target = match[i][0:3]\n",
    "        if target =='CAA'or target =='CAG'or target =='CGA':\n",
    "            target_list.append(True)\n",
    "        \n",
    "        else:\n",
    "            target_list.append(False)\n",
    "    result =[match[s] for s in range(len(match)) if target_list[s]]\n",
    "    return result"
   ]
  },
  {
   "cell_type": "code",
   "execution_count": null,
   "id": "799e55b2",
   "metadata": {},
   "outputs": [],
   "source": [
    "def target_base_AG(seq):\n",
    "    match = re.findall('\\w{17}GG', seq)\n",
    "    target_list=[]\n",
    "    for i in range(len(match)):\n",
    "        target = match[i][0:3]\n",
    "        if target =='TGG':\n",
    "            target_list.append(True)\n",
    "        \n",
    "        else:\n",
    "            target_list.append(False)\n",
    "    result =[match[s] for s in range(len(match)) if target_list[s]]\n",
    "    return result"
   ]
  }
 ],
 "metadata": {
  "kernelspec": {
   "display_name": "Python 3",
   "language": "python",
   "name": "python3"
  },
  "language_info": {
   "codemirror_mode": {
    "name": "ipython",
    "version": 3
   },
   "file_extension": ".py",
   "mimetype": "text/x-python",
   "name": "python",
   "nbconvert_exporter": "python",
   "pygments_lexer": "ipython3",
   "version": "3.8.8"
  }
 },
 "nbformat": 4,
 "nbformat_minor": 5
}
