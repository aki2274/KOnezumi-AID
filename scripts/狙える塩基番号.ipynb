{
 "cells": [
  {
   "cell_type": "code",
   "execution_count": null,
   "id": "81329b8c",
   "metadata": {},
   "outputs": [],
   "source": [
    "import pandas as pd\n",
    "import numpy as np\n",
    "from pandas import DataFrame, Series\n",
    "\n",
    "path = \"refFlat.txt\"\n",
    "path_fa = \"result.fa\"\n",
    "path_name =\"name.txt\""
   ]
  },
  {
   "cell_type": "code",
   "execution_count": null,
   "id": "aa5f7bf5",
   "metadata": {},
   "outputs": [],
   "source": [
    "def read_fasta(file_path):\n",
    "    sequences = {}\n",
    "    seq_id = None\n",
    "    current_seq = \"\"\n",
    "\n",
    "    with open(file_path, \"r\") as file:\n",
    "        for line in file:\n",
    "            line = line.strip()\n",
    "\n",
    "            if line.startswith(\">\"):  \n",
    "                if seq_id is not None:\n",
    "                    sequences[seq_id] = current_seq\n",
    "                    current_seq = \"\"\n",
    "                seq_id = line[1:]  \n",
    "            else:\n",
    "                current_seq += line\n",
    "\n",
    "        if seq_id is not None and current_seq != \"\":\n",
    "            sequences[seq_id] = current_seq\n",
    "\n",
    "    return sequences\n",
    "\n"
   ]
  },
  {
   "cell_type": "code",
   "execution_count": null,
   "id": "419c3ef9",
   "metadata": {},
   "outputs": [],
   "source": [
    "import re\n",
    "\n",
    "def split_by_space(text):\n",
    "    return re.split('\\s+', text)"
   ]
  },
  {
   "cell_type": "code",
   "execution_count": null,
   "id": "14a5ad4d",
   "metadata": {},
   "outputs": [],
   "source": [
    "def gene_data(text_list):\n",
    "    contents =[]\n",
    "    for i in range(len(text_list)-1):\n",
    "        contents.append(text_list[i])\n",
    "    return contents"
   ]
  },
  {
   "cell_type": "code",
   "execution_count": null,
   "id": "f05cd42a",
   "metadata": {},
   "outputs": [],
   "source": [
    "def result(path):\n",
    "    with open(path, \"r\", encoding=\"utf-8\") as file:\n",
    "        lines =file.readlines()\n",
    "    result = []\n",
    "    for line in lines:\n",
    "        line =split_by_space(line)\n",
    "        contents=gene_data(line)\n",
    "        result.append(contents)\n",
    "    return result\n",
    "    "
   ]
  },
  {
   "cell_type": "code",
   "execution_count": null,
   "id": "13feaf25",
   "metadata": {},
   "outputs": [],
   "source": [
    "def get_name(path):\n",
    "    name={}\n",
    "    with open(path, \"r\", encoding=\"utf-8\") as file:\n",
    "        lines =file.readlines()\n",
    "    \n",
    "    for line in lines:\n",
    "        line =split_by_space(line)\n",
    "        key = line[1]\n",
    "        value = line[0]\n",
    "        name[key] = value\n",
    "        \n",
    "    return name\n",
    "    "
   ]
  },
  {
   "cell_type": "code",
   "execution_count": null,
   "id": "2b187374",
   "metadata": {},
   "outputs": [],
   "source": [
    "gene_data =result(path)"
   ]
  },
  {
   "cell_type": "code",
   "execution_count": null,
   "id": "3302b266",
   "metadata": {},
   "outputs": [],
   "source": [
    "col_names =['geneName','name','chrom','strand','txStart','txEnd','cdsStart','cdsEnd','exonCount','exonStarts','exonEnds']"
   ]
  },
  {
   "cell_type": "code",
   "execution_count": null,
   "id": "e67032c4",
   "metadata": {},
   "outputs": [],
   "source": [
    "gene_df=pd.DataFrame(gene_data,columns=col_names)"
   ]
  },
  {
   "cell_type": "code",
   "execution_count": null,
   "id": "8812161b",
   "metadata": {},
   "outputs": [],
   "source": [
    "base_data = read_fasta(path_fa)"
   ]
  },
  {
   "cell_type": "code",
   "execution_count": null,
   "id": "c9786d56",
   "metadata": {},
   "outputs": [],
   "source": [
    "gene_name = get_name(path_name)"
   ]
  },
  {
   "cell_type": "code",
   "execution_count": null,
   "id": "702a1d2f",
   "metadata": {},
   "outputs": [],
   "source": [
    "gene_name['NM_001357045']"
   ]
  },
  {
   "cell_type": "code",
   "execution_count": null,
   "id": "7e5eaa5e",
   "metadata": {},
   "outputs": [],
   "source": [
    "base_data[gene_name['NM_001357045']]"
   ]
  },
  {
   "cell_type": "code",
   "execution_count": null,
   "id": "a09b0707",
   "metadata": {},
   "outputs": [],
   "source": [
    "gene_df[gene_df['geneName']=='Gpr1']"
   ]
  },
  {
   "cell_type": "code",
   "execution_count": null,
   "id": "8913366f",
   "metadata": {},
   "outputs": [],
   "source": [
    "gene_df[gene_df['name']=='NR_045921']\n"
   ]
  },
  {
   "cell_type": "code",
   "execution_count": null,
   "id": "0b1d8c9d",
   "metadata": {},
   "outputs": [],
   "source": [
    "def target_base_CT(seq):\n",
    "    match = re.findall('\\w{17}GG', seq)\n",
    "    target_list=[]\n",
    "    for i in range(len(match)):\n",
    "        target = match[i][0:3]\n",
    "        if target =='CAA'or target =='CAG'or target =='CGA':\n",
    "            target_list.append(True)\n",
    "        \n",
    "        else:\n",
    "            target_list.append(False)\n",
    "    result =[match[s] for s in range(len(match)) if target_list[s]]\n",
    "    return result"
   ]
  },
  {
   "cell_type": "code",
   "execution_count": null,
   "id": "315d8b71",
   "metadata": {},
   "outputs": [],
   "source": [
    "target_base_CT(base_data[gene_name['NM_001357045']])"
   ]
  },
  {
   "cell_type": "code",
   "execution_count": null,
   "id": "fa0dc998",
   "metadata": {},
   "outputs": [],
   "source": [
    "def target_start(target_list,qua):    \n",
    "    result = []\n",
    "    for i in target_list:\n",
    "        matches = re.finditer(i, qua)\n",
    "        for match in matches:\n",
    "            start_index = match.start()\n",
    "            result.append(start_index)\n",
    "    return result"
   ]
  },
  {
   "cell_type": "code",
   "execution_count": null,
   "id": "1f6263b1",
   "metadata": {},
   "outputs": [],
   "source": [
    "target_start(target_base_CT(base_data[gene_name['NM_001357045']]),base_data[gene_name['NM_001357045']])"
   ]
  },
  {
   "cell_type": "code",
   "execution_count": null,
   "id": "6e60c576",
   "metadata": {},
   "outputs": [],
   "source": [
    "def target_gene_start(name,target):\n",
    "    data = gene_df[gene_df['name']==name]\n",
    "    num = data['txStart'].astype(int).to_numpy()\n",
    "    target = np.array(target)\n",
    "    result = target+num\n",
    "    #ここ-1が必要かもしれない？\n",
    "    return result\n",
    "    "
   ]
  },
  {
   "cell_type": "code",
   "execution_count": null,
   "id": "e394a077",
   "metadata": {},
   "outputs": [],
   "source": [
    "target_gene_start('NM_001357045',target_start(target_base_CT(base_data[gene_name['NM_001357045']]),base_data[gene_name['NM_001357045']]))"
   ]
  },
  {
   "cell_type": "code",
   "execution_count": null,
   "id": "5a1439c1",
   "metadata": {},
   "outputs": [],
   "source": [
    "def in_exon(name,start_exon,):\n",
    "    data = gene_df[gene_df['name']==name]\n",
    "    start = data['exonStarts'].to_list()[0]\n",
    "    end = a= data['exonEnds'].to_list()[0]\n",
    "    start =np.array(list(start.split(',')))\n",
    "    end = np.array(list(end.split(',')))\n",
    "    bool_list  = []\n",
    "    for i in range(len(start_exon)):\n",
    "        bool_list.append(False)\n",
    "        for s in range(len(start)-1):\n",
    "            if (start[s].astype(int) <= start_exon[i] <=end[s].astype(int)):\n",
    "                bool_list[-1] = True\n",
    "    \n",
    "    result = [start_exon[i] for i in range(len(bool_list)) if bool_list[i]]\n",
    "\n",
    "    \n",
    "    return result"
   ]
  },
  {
   "cell_type": "code",
   "execution_count": null,
   "id": "5b502fe4",
   "metadata": {},
   "outputs": [],
   "source": [
    "in_exon('NM_001357045',target_gene_start('NM_001357045',target_start(target_base_CT(base_data[gene_name['NM_001357045']]),base_data[gene_name['NM_001357045']])))"
   ]
  },
  {
   "cell_type": "code",
   "execution_count": null,
   "id": "9b929e4d",
   "metadata": {},
   "outputs": [],
   "source": [
    "def target_exon():\n",
    "    input_name = input(\"遺伝子名: \")\n",
    "    name_list = gene_df[gene_df['geneName']==input_name]['name'].to_list()\n",
    "    if 1<len(name_list):\n",
    "        num_list=[]\n",
    "        for i in range(len(name_list)):\n",
    "            name = name_list[i]\n",
    "            start_num =target_start(target_base_CT(base_data[gene_name[name]]),base_data[gene_name[name]])  \n",
    "            start =target_gene_start(name,start_num)\n",
    "            num_list.append(in_exon(name,start))\n",
    "        result_list = [num for sublist in num_list for num in sublist]\n",
    "        result = set([x for x in result_list if result_list.count(x) >= (len(name_list))])\n",
    "    else:\n",
    "        name = name_list[0]\n",
    "        start_num =target_start(target_base_CT(base_data[gene_name[name]]),base_data[gene_name[name]])  \n",
    "        start =target_gene_start(name,start_num)\n",
    "        result = in_exon(name,start)\n",
    "    return result"
   ]
  },
  {
   "cell_type": "code",
   "execution_count": null,
   "id": "af44160f",
   "metadata": {},
   "outputs": [],
   "source": [
    "target_exon()"
   ]
  },
  {
   "cell_type": "code",
   "execution_count": null,
   "id": "63838cf6",
   "metadata": {},
   "outputs": [],
   "source": []
  }
 ],
 "metadata": {
  "kernelspec": {
   "display_name": "Python 3",
   "language": "python",
   "name": "python3"
  },
  "language_info": {
   "codemirror_mode": {
    "name": "ipython",
    "version": 3
   },
   "file_extension": ".py",
   "mimetype": "text/x-python",
   "name": "python",
   "nbconvert_exporter": "python",
   "pygments_lexer": "ipython3",
   "version": "3.8.8"
  }
 },
 "nbformat": 4,
 "nbformat_minor": 5
}
