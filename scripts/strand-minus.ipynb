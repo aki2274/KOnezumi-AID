{
 "cells": [
  {
   "cell_type": "code",
   "execution_count": 41,
   "id": "5fa0a577",
   "metadata": {},
   "outputs": [],
   "source": [
    "import pandas as pd\n",
    "import numpy as np\n",
    "from pandas import DataFrame, Series\n",
    "\n",
    "path = \"refFlat.txt\"\n",
    "path_fa = \"result.fa\""
   ]
  },
  {
   "cell_type": "code",
   "execution_count": 42,
   "id": "d9009930",
   "metadata": {},
   "outputs": [],
   "source": [
    "def read_fasta(file_path):\n",
    "    sequences = {}\n",
    "    seq_id = None\n",
    "    current_seq = \"\"\n",
    "\n",
    "    with open(file_path, \"r\") as file:\n",
    "        for line in file:\n",
    "            line = line.strip()\n",
    "\n",
    "            if line.startswith(\">\"):  \n",
    "                if seq_id is not None:\n",
    "                    sequences[seq_id] = current_seq\n",
    "                    current_seq = \"\"\n",
    "                seq_id = line[1:]  \n",
    "            else:\n",
    "                current_seq += line\n",
    "\n",
    "        if seq_id is not None and current_seq != \"\":\n",
    "            sequences[seq_id] = current_seq\n",
    "\n",
    "    return sequences"
   ]
  },
  {
   "cell_type": "code",
   "execution_count": 43,
   "id": "e455b845",
   "metadata": {},
   "outputs": [],
   "source": [
    "import re\n",
    "\n",
    "def split_by_space(text):\n",
    "    return re.split('\\s+', text)"
   ]
  },
  {
   "cell_type": "code",
   "execution_count": 44,
   "id": "28364790",
   "metadata": {},
   "outputs": [],
   "source": [
    "def gene_data(text_list):\n",
    "    contents =[]\n",
    "    for i in range(len(text_list)-1):\n",
    "        contents.append(text_list[i])\n",
    "    return contents"
   ]
  },
  {
   "cell_type": "code",
   "execution_count": 5,
   "id": "68683a2f",
   "metadata": {},
   "outputs": [],
   "source": [
    "def result(path):\n",
    "    with open(path, \"r\", encoding=\"utf-8\") as file:\n",
    "        lines =file.readlines()\n",
    "    result = []\n",
    "    for line in lines:\n",
    "        line =split_by_space(line)\n",
    "        contents=gene_data(line)\n",
    "        result.append(contents)\n",
    "    return result\n",
    "    "
   ]
  },
  {
   "cell_type": "code",
   "execution_count": 6,
   "id": "4bc65f1c",
   "metadata": {},
   "outputs": [],
   "source": [
    "gene_data =result(path)\n",
    "col_names =['geneName','name','chrom','strand','txStart','txEnd','cdsStart','cdsEnd','exonCount','exonStarts','exonEnds']\n",
    "gene_df=pd.DataFrame(gene_data,columns=col_names)"
   ]
  },
  {
   "cell_type": "code",
   "execution_count": 7,
   "id": "c9ab9e94",
   "metadata": {},
   "outputs": [],
   "source": [
    "base_data = read_fasta(path_fa)"
   ]
  },
  {
   "cell_type": "code",
   "execution_count": 222,
   "id": "25c014b3",
   "metadata": {},
   "outputs": [],
   "source": []
  },
  {
   "cell_type": "code",
   "execution_count": 219,
   "id": "c75446d5",
   "metadata": {},
   "outputs": [
    {
     "name": "stdout",
     "output_type": "stream",
     "text": [
      "GAA\n"
     ]
    },
    {
     "data": {
      "text/plain": [
       "['CCTTCCTCAACAGCCTTTTGAA']"
      ]
     },
     "execution_count": 219,
     "metadata": {},
     "output_type": "execute_result"
    }
   ],
   "source": [
    "target_base_CT_minus(seq)"
   ]
  },
  {
   "cell_type": "code",
   "execution_count": 256,
   "id": "892e9ec2",
   "metadata": {},
   "outputs": [],
   "source": [
    "def target_base_CT_minus(seq):\n",
    "    match = re.findall(r'(?=(CC\\w{20}))', seq)#ここ不安\n",
    "    target_list=[]\n",
    "    for i in range(len(match)):\n",
    "        target_1 = match[i][19:22]\n",
    "        target_2 = match[i][18:21]\n",
    "        target_3 = match[i][17:20]\n",
    "        if (target_1 =='TCG'or target_1 =='CTG'or target_1 =='TTG')or(target_2 =='TCG'or target_2 =='CTG'or target_2 =='TTG')or(target_3 =='TCG'or target_3 =='CTG'or target_3 =='TTG'):\n",
    "            target_list.append(True)\n",
    "        \n",
    "        else:\n",
    "            target_list.append(False)\n",
    "    result =[match[s] for s in range(len(match)) if target_list[s]]\n",
    "    result = list(dict.fromkeys(result))\n",
    "    return result"
   ]
  },
  {
   "cell_type": "code",
   "execution_count": 257,
   "id": "c767b66c",
   "metadata": {},
   "outputs": [],
   "source": [
    "def target_base_AG_minus(seq):\n",
    "    match = re.findall('(?=(\\w{18,22}GG))', seq)\n",
    "    target_list=[]\n",
    "    for i in range(len(match)):\n",
    "        target = match[i][0:3]\n",
    "        \n",
    "        if target =='CCA':\n",
    "            target_list.append(True)\n",
    "        \n",
    "        else:\n",
    "            target_list.append(False)\n",
    "    result =[match[s] for s in range(len(match)) if target_list[s]]\n",
    "    result = list(dict.fromkeys(result))\n",
    "    return result"
   ]
  },
  {
   "cell_type": "code",
   "execution_count": null,
   "id": "b62168c0",
   "metadata": {},
   "outputs": [],
   "source": []
  },
  {
   "cell_type": "code",
   "execution_count": 303,
   "id": "7511475f",
   "metadata": {},
   "outputs": [],
   "source": [
    "def CT_target_start_minus(target_list,qua):    \n",
    "    result = []\n",
    "    for i in target_list:\n",
    "        matches = re.finditer(i, qua)\n",
    "        for match in matches:\n",
    "            seq = match.group()[::-1]#TGGのTの位置を取得したいので逆にしてTの位置を判断している\n",
    "            add_seq = re.search(('GCT|GTC|GTT'),seq)\n",
    "            add_num =add_seq.start()\n",
    "            start_index = match.start()\n",
    "            result.append(start_index+21-add_num)\n",
    "    return result"
   ]
  },
  {
   "cell_type": "code",
   "execution_count": 306,
   "id": "33e56e9c",
   "metadata": {},
   "outputs": [
    {
     "data": {
      "text/plain": [
       "array([97603043, 97603292, 97603439, 97603451, 97603451, 97603520,\n",
       "       97603579, 97603828, 97603828, 97603898, 97604011, 97604016,\n",
       "       97604037, 97604058, 97604081, 97604081, 97604134, 97604343,\n",
       "       97604389, 97604485, 97604703, 97604820])"
      ]
     },
     "execution_count": 306,
     "metadata": {},
     "output_type": "execute_result"
    }
   ],
   "source": [
    "target_gene_start('NM_010294',CT_target_start_minus(target_base_CT_minus(seq),seq))"
   ]
  },
  {
   "cell_type": "code",
   "execution_count": 259,
   "id": "c73e9a1d",
   "metadata": {},
   "outputs": [
    {
     "data": {
      "text/plain": [
       "'CCTTCTTTTGGGTATTCTTGTGT'"
      ]
     },
     "execution_count": 259,
     "metadata": {},
     "output_type": "execute_result"
    }
   ],
   "source": [
    "transcription('ACACAAGAATACCCAAAAGAAGG')"
   ]
  },
  {
   "cell_type": "code",
   "execution_count": 260,
   "id": "6c0ebd04",
   "metadata": {},
   "outputs": [],
   "source": [
    "seq='CCTTCTTTTGGGTATTCTTGTGT'"
   ]
  },
  {
   "cell_type": "code",
   "execution_count": 261,
   "id": "5a8464d5",
   "metadata": {},
   "outputs": [
    {
     "data": {
      "text/plain": [
       "['CCTTCTTTTGGGTATTCTTGTG']"
      ]
     },
     "execution_count": 261,
     "metadata": {},
     "output_type": "execute_result"
    }
   ],
   "source": [
    "target_base_CT_minus(seq)"
   ]
  },
  {
   "cell_type": "code",
   "execution_count": 267,
   "id": "2f7a07f1",
   "metadata": {},
   "outputs": [],
   "source": [
    "seq='AAAAACCAGATGAGCCAAGAGTCGATGG'"
   ]
  },
  {
   "cell_type": "code",
   "execution_count": 268,
   "id": "d4435536",
   "metadata": {},
   "outputs": [
    {
     "data": {
      "text/plain": [
       "['CCAGATGAGCCAAGAGTCGATGG']"
      ]
     },
     "execution_count": 268,
     "metadata": {},
     "output_type": "execute_result"
    }
   ],
   "source": [
    "target_base_AG_minus(seq)"
   ]
  },
  {
   "cell_type": "code",
   "execution_count": 271,
   "id": "fe084b63",
   "metadata": {},
   "outputs": [
    {
     "data": {
      "text/plain": [
       "[7]"
      ]
     },
     "execution_count": 271,
     "metadata": {},
     "output_type": "execute_result"
    }
   ],
   "source": [
    "AG_target_start_minus(target_base_AG_minus(seq),seq)"
   ]
  },
  {
   "cell_type": "code",
   "execution_count": 264,
   "id": "dba55a51",
   "metadata": {},
   "outputs": [
    {
     "data": {
      "text/plain": [
       "['CCTTTATTTTAAGGAGTATTTG',\n",
       " 'CCATTTTCAGGGTCCTTTGCTG',\n",
       " 'CCAAACATTTACCCCTTCTGCA',\n",
       " 'CCCCTTCTGCAGCTCCGGCTGC',\n",
       " 'CCCTTCTGCAGCTCCGGCTGCC',\n",
       " 'CCGGAATGTGCAGAATATCTGC',\n",
       " 'CCATCGACCTGCAAATGACTGA',\n",
       " 'CCCTGAGGTTGTTATAATTTCG',\n",
       " 'CCTGAGGTTGTTATAATTTCGA',\n",
       " 'CCTTCTAAGGCATAAAAAACTG',\n",
       " 'CCTGTTCCGTATGTGTTTTTGG',\n",
       " 'CCGTATGTGTTTTTGGCTTGAC',\n",
       " 'CCTTCATGGAAACACATTTGTC',\n",
       " 'CCCACTAAAGCAGCAGACTGAT',\n",
       " 'CCCCCAAACATCCAGATATTGG',\n",
       " 'CCCCAAACATCCAGATATTGGC',\n",
       " 'CCATAGATCTCAGAAGAACTGC',\n",
       " 'CCTTCCTCAACAGCCTTTTGAA',\n",
       " 'CCACCGCAGCTTCACAGCACTG',\n",
       " 'CCACAGTAGACTGGGTTCTGAG',\n",
       " 'CCTTCTTTTGGGTATTCTTGTG',\n",
       " 'CCAACGGTCCCGCAGAGGTTTG']"
      ]
     },
     "execution_count": 264,
     "metadata": {},
     "output_type": "execute_result"
    }
   ],
   "source": [
    "target_base_CT_minus(base_data['NM_010294::chr5:97602988-97604882'])"
   ]
  },
  {
   "cell_type": "code",
   "execution_count": 270,
   "id": "9d5c2f0b",
   "metadata": {},
   "outputs": [],
   "source": [
    "def AG_target_start_minus(target_list,qua):    \n",
    "    result = []\n",
    "    for i in target_list:\n",
    "        matches = re.finditer(i, qua)\n",
    "        for match in matches:\n",
    "            start_index = match.start()\n",
    "            \n",
    "            result.append(start_index+2)#もしかしたら+3?\n",
    "    return result"
   ]
  },
  {
   "cell_type": "code",
   "execution_count": 272,
   "id": "9b14f171",
   "metadata": {},
   "outputs": [],
   "source": [
    "def target_gene_start(name,target):\n",
    "    data = gene_df[gene_df['name']==name]\n",
    "    num = data['txStart'].astype(int).to_numpy()\n",
    "    target = np.array(target)\n",
    "    result = target+num\n",
    "    #ここ-1が必要かもしれない？\n",
    "    return result\n",
    "    "
   ]
  },
  {
   "cell_type": "code",
   "execution_count": 277,
   "id": "edd8045e",
   "metadata": {},
   "outputs": [],
   "source": [
    "seq = base_data['NM_010294::chr5:97602988-97604882']"
   ]
  },
  {
   "cell_type": "code",
   "execution_count": 278,
   "id": "27b3190f",
   "metadata": {},
   "outputs": [
    {
     "data": {
      "text/plain": [
       "array([97603613, 97604093, 97604286, 97604496, 97604501, 97604543,\n",
       "       97604678])"
      ]
     },
     "execution_count": 278,
     "metadata": {},
     "output_type": "execute_result"
    }
   ],
   "source": [
    "target_gene_start('NM_010294',AG_target_start_minus(target_base_AG_minus(seq),seq))"
   ]
  },
  {
   "cell_type": "code",
   "execution_count": null,
   "id": "e87986f1",
   "metadata": {},
   "outputs": [],
   "source": []
  },
  {
   "cell_type": "code",
   "execution_count": null,
   "id": "d8c47dec",
   "metadata": {},
   "outputs": [],
   "source": []
  },
  {
   "cell_type": "code",
   "execution_count": null,
   "id": "03ba881e",
   "metadata": {},
   "outputs": [],
   "source": []
  },
  {
   "cell_type": "code",
   "execution_count": null,
   "id": "685c6d83",
   "metadata": {},
   "outputs": [],
   "source": []
  },
  {
   "cell_type": "code",
   "execution_count": null,
   "id": "9e1332dd",
   "metadata": {},
   "outputs": [],
   "source": []
  },
  {
   "cell_type": "code",
   "execution_count": 10,
   "id": "6e9912db",
   "metadata": {},
   "outputs": [],
   "source": [
    "def transcription(seq):\n",
    "    complementary = {'A':'T','T':'A','G':'C','C':'G'}\n",
    "    rev_seq = seq[::-1]\n",
    "    result = []\n",
    "    for base in rev_seq:\n",
    "        base =base.upper()\n",
    "        result.append(complementary[base])\n",
    "    \n",
    "    return ''.join(result)"
   ]
  },
  {
   "cell_type": "code",
   "execution_count": 11,
   "id": "333355b5",
   "metadata": {},
   "outputs": [],
   "source": [
    "def where_start_codon(name):\n",
    "    data = gene_df[gene_df['name']==name]\n",
    "    cdsStart =int(data['cdsEnd'].to_list()[0])#strand-minusなのでcdsEndが開始コドン\n",
    "    start = data['exonStarts'].to_list()[0]\n",
    "    end = data['exonEnds'].to_list()[0]#最後に空白があるからその対処\n",
    "    start = list(start.split(','))\n",
    "    end = list(end.split(','))\n",
    "    for s in range(len(start)-1):\n",
    "        if (int(start[s]) <= cdsStart<=int(end[s])):\n",
    "            exon_num =s\n",
    "    return exon_num\n"
   ]
  },
  {
   "cell_type": "code",
   "execution_count": null,
   "id": "dec0e26f",
   "metadata": {},
   "outputs": [],
   "source": []
  },
  {
   "cell_type": "code",
   "execution_count": 89,
   "id": "30e2cc04",
   "metadata": {},
   "outputs": [],
   "source": [
    "def transcription_exon_start(name,sequence_data):#transcription名乗ってるけど翻訳される前のエクソンを出してる。\n",
    " \n",
    "    \n",
    "    \n",
    "    data = gene_df[gene_df['name']==name]\n",
    "    \n",
    "    set_num =int(data['txStart'].to_list()[0])\n",
    "    start = data['exonStarts'].to_list()[0]\n",
    "    end = data['exonEnds'].to_list()[0]#最後に空白があるからその対処\n",
    "    exon_seq_list = []\n",
    "    start_list = [num for num in start.split(\",\")]\n",
    "    end_list = [num for num in end.split(\",\")]\n",
    "    \n",
    "    for s in range(len(start_list)-1):\n",
    "        start_num = int(start_list[s])- set_num\n",
    "        \n",
    "        end_num= int(end_list[s]) - set_num\n",
    "    \n",
    "        \n",
    "        exon_seq =sequence_data[start_num:end_num]\n",
    "        exon_seq_list.append(exon_seq)\n",
    "\n",
    "    result = ''.join(exon_seq_list)\n",
    "    \n",
    "    exon_num=where_start_codon(name)\n",
    "    \n",
    "    exon_count = data['exonCount']\n",
    "    exon_start = int(exon_count)-1-exon_num\n",
    "    \n",
    "    \n",
    "    \n",
    "    if exon_start == 0:\n",
    "        result = result[:- (int(end_list[len(start_list)-2])-int(data['cdsEnd'].to_list()[0]))]\n",
    "        \n",
    "\n",
    "    else:\n",
    "        exon_start_num =0\n",
    "        for s in range(exon_start):\n",
    "            exon_start_num += int(end_list[-2-s])-int(start_list[-2-s])\n",
    "            \n",
    "        exon_start_num += int(end_list[-2-exon_start])-int(data['cdsEnd'].to_list()[0])\n",
    "        result = result[:-(exon_start_num)]\n",
    "        \n",
    "    \n",
    "    return result\n",
    "    \n",
    "    "
   ]
  },
  {
   "cell_type": "code",
   "execution_count": 90,
   "id": "da137f79",
   "metadata": {},
   "outputs": [],
   "source": [
    "def end_codon(cds_seq):#seqはtranscription\n",
    "    matches = re.finditer('(?=(CAA)|(?=(CAG))|(?=(CGA))|(?=(TGG)))', cds_seq)\n",
    "    result=[]\n",
    "    for match in matches:\n",
    "        start_pos = match.start() \n",
    "        \n",
    "        if (start_pos % 3) == 0:\n",
    "            result.append(start_pos)\n",
    "    return result"
   ]
  },
  {
   "cell_type": "code",
   "execution_count": 96,
   "id": "b441c8ae",
   "metadata": {},
   "outputs": [],
   "source": [
    "def add_num_list(name):\n",
    "    data = gene_df[gene_df['name']==name]\n",
    "    set_num =int(data['cdsStart'].to_list()[0])\n",
    "    start = data['exonStarts'].to_list()[0]\n",
    "    end = data['exonEnds'].to_list()[0]#最後に空白があるからその対処\n",
    "    start = list(start.split(','))\n",
    "    end = list(end.split(','))\n",
    "    add_list=[]\n",
    "    num = 0\n",
    "    for s in range(len(start)-1):\n",
    "        element_list=[]\n",
    "        element_list.append(num)\n",
    "        \n",
    "        num += int(end[s])-int(start[s])\n",
    "        \n",
    "        element_list.append(num)\n",
    "        add_list.append(element_list)\n",
    "        \n",
    "    return add_list"
   ]
  },
  {
   "cell_type": "code",
   "execution_count": null,
   "id": "dd48e954",
   "metadata": {},
   "outputs": [],
   "source": []
  },
  {
   "cell_type": "code",
   "execution_count": 130,
   "id": "15f161c3",
   "metadata": {},
   "outputs": [],
   "source": [
    "def correct_codon_num(name,end_codon_data,range_list):#txStartからの距離に変換\n",
    "    \n",
    "    \n",
    "    data = gene_df[gene_df['name']==name]\n",
    "    exonCount = int(data['exonCount'])\n",
    "    set_num =int(data['txStart'].to_list()[0])\n",
    "    start = data['exonStarts'].to_list()[0]\n",
    "    end = data['exonEnds'].to_list()[0]#最後に空白があるからその対処\n",
    "    exon_seq_list = []\n",
    "    start_list = [num for num in start.split(\",\")]\n",
    "    end_list = [num for num in end.split(\",\")]\n",
    "    \n",
    "    exon_num=where_start_codon(name)\n",
    "    \n",
    "    exon_count = data['exonCount']\n",
    "    exon_start = int(exon_count)-1-exon_num\n",
    "    \n",
    "\n",
    "    if exon_start == 0:#確認してない\n",
    "        add_num =  (int(end_list[len(start_list)-2])-int(data['cdsEnd'].to_list()[0]))\n",
    "        \n",
    "\n",
    "    else:#あってそう\n",
    "        add_num =0\n",
    "        for s in range(exon_start): \n",
    "            add_num += int(end_list[-2-s])-int(start_list[-2-s])  \n",
    "\n",
    "        \n",
    "        add_num += int(end_list[-2-exon_start])-int(data['cdsEnd'].to_list()[0])\n",
    "     \n",
    "   \n",
    "    end_codon_data = np.array(end_codon_data)   \n",
    "    end_codon_data = end_codon_data + add_num\n",
    "    \n",
    "    end_codon_data = abs(end_codon_data - range_list[exonCount-1][1]+1)#+1するかは微妙なライン、この後の処理に合わせて変えるべき\n",
    "    \n",
    "    result = end_codon_data.tolist()\n",
    "    \n",
    "    return result"
   ]
  },
  {
   "cell_type": "code",
   "execution_count": 147,
   "id": "9bed1737",
   "metadata": {},
   "outputs": [],
   "source": [
    "def codon_in_exon(name,correct_num,range_list):\n",
    "\n",
    "    data = gene_df[gene_df['name']==name]\n",
    "    set_num =int(data['txStart'].to_list()[0])\n",
    "    start = data['exonStarts'].to_list()[0]\n",
    "    end = data['exonEnds'].to_list()[0]#最後に空白があるからその対処\n",
    "    start = list(start.split(','))\n",
    "    end = list(end.split(','))\n",
    "    add_result=[]\n",
    "    \n",
    "    \n",
    "    \n",
    "    indices = []\n",
    "    for number in correct_num:\n",
    "        for index, interval in enumerate(range_list):\n",
    "            if int(interval[0]) <= int(number) < int(interval[1]):\n",
    "                indices.append(index)\n",
    "                break\n",
    "            \n",
    "    for i in indices:\n",
    "        if i == 0:\n",
    "            add_result.append(set_num)\n",
    "        else:\n",
    "            add_result.append(int(start[i]))\n",
    "\n",
    "    return add_result\n",
    "    "
   ]
  },
  {
   "cell_type": "code",
   "execution_count": 141,
   "id": "c1aabdb0",
   "metadata": {},
   "outputs": [],
   "source": [
    "def add_num_correct(name,correct_num, range_list):\n",
    "    data = gene_df[gene_df['name']==name]\n",
    "    set_num =int(data['cdsStart'].to_list()[0])\n",
    "    start = data['exonStarts'].to_list()[0]\n",
    "    end = data['exonEnds'].to_list()[0]#最後に空白があるからその対処\n",
    "    start = list(start.split(','))\n",
    "    end = list(end.split(','))\n",
    "    add_result=[]\n",
    "         \n",
    "     \n",
    "    indices = []\n",
    "    for number in correct_num:\n",
    "        for index, interval in enumerate(range_list):\n",
    "            if int(interval[0]) <= int(number) < int(interval[1]):\n",
    "                indices.append(index)\n",
    "                break\n",
    "    n =0        \n",
    "    for i in indices:\n",
    "        add_result.append(int(correct_num[n])-int(range_list[i][0]))\n",
    "        n += 1\n",
    "\n",
    "    return add_result"
   ]
  },
  {
   "cell_type": "raw",
   "id": "5c4e8ba6",
   "metadata": {},
   "source": [
    "Gk2\n",
    "ACACAAGAATACCCAAAAGA AGG\n",
    "ATTCAAAAGGCTGTTGAGGA AGG\n",
    "CCAGATGAGCCAAGAGTCGA TGG"
   ]
  },
  {
   "cell_type": "code",
   "execution_count": 149,
   "id": "35f14f7c",
   "metadata": {},
   "outputs": [
    {
     "data": {
      "text/html": [
       "<div>\n",
       "<style scoped>\n",
       "    .dataframe tbody tr th:only-of-type {\n",
       "        vertical-align: middle;\n",
       "    }\n",
       "\n",
       "    .dataframe tbody tr th {\n",
       "        vertical-align: top;\n",
       "    }\n",
       "\n",
       "    .dataframe thead th {\n",
       "        text-align: right;\n",
       "    }\n",
       "</style>\n",
       "<table border=\"1\" class=\"dataframe\">\n",
       "  <thead>\n",
       "    <tr style=\"text-align: right;\">\n",
       "      <th></th>\n",
       "      <th>geneName</th>\n",
       "      <th>name</th>\n",
       "      <th>chrom</th>\n",
       "      <th>strand</th>\n",
       "      <th>txStart</th>\n",
       "      <th>txEnd</th>\n",
       "      <th>cdsStart</th>\n",
       "      <th>cdsEnd</th>\n",
       "      <th>exonCount</th>\n",
       "      <th>exonStarts</th>\n",
       "      <th>exonEnds</th>\n",
       "    </tr>\n",
       "  </thead>\n",
       "  <tbody>\n",
       "    <tr>\n",
       "      <th>32045</th>\n",
       "      <td>Gk2</td>\n",
       "      <td>NM_010294</td>\n",
       "      <td>chr5</td>\n",
       "      <td>-</td>\n",
       "      <td>97602988</td>\n",
       "      <td>97604882</td>\n",
       "      <td>97603171</td>\n",
       "      <td>97604836</td>\n",
       "      <td>1</td>\n",
       "      <td>97602988,</td>\n",
       "      <td>97604882,</td>\n",
       "    </tr>\n",
       "  </tbody>\n",
       "</table>\n",
       "</div>"
      ],
      "text/plain": [
       "      geneName       name chrom strand   txStart     txEnd  cdsStart  \\\n",
       "32045      Gk2  NM_010294  chr5      -  97602988  97604882  97603171   \n",
       "\n",
       "         cdsEnd exonCount exonStarts   exonEnds  \n",
       "32045  97604836         1  97602988,  97604882,  "
      ]
     },
     "execution_count": 149,
     "metadata": {},
     "output_type": "execute_result"
    }
   ],
   "source": [
    "gene_df[gene_df['geneName']=='Gk2']"
   ]
  },
  {
   "cell_type": "code",
   "execution_count": 150,
   "id": "088fe641",
   "metadata": {},
   "outputs": [
    {
     "data": {
      "text/plain": [
       "'NM_010294::chr5:97602988-97604882'"
      ]
     },
     "execution_count": 150,
     "metadata": {},
     "output_type": "execute_result"
    }
   ],
   "source": [
    "'NM_010294::chr5:97602988-97604882'"
   ]
  },
  {
   "cell_type": "code",
   "execution_count": 151,
   "id": "bd526e26",
   "metadata": {},
   "outputs": [],
   "source": [
    "a= end_codon(transcription(transcription_exon_start('NM_010294',base_data['NM_010294::chr5:97602988-97604882'])))"
   ]
  },
  {
   "cell_type": "code",
   "execution_count": 152,
   "id": "2f2462fa",
   "metadata": {},
   "outputs": [],
   "source": [
    "aa= codon_in_exon('NM_010294',correct_codon_num('NM_010294',a,add_num_list('NM_010294')),add_num_list('NM_010294'))"
   ]
  },
  {
   "cell_type": "code",
   "execution_count": 153,
   "id": "96648226",
   "metadata": {},
   "outputs": [],
   "source": [
    "bb= add_num_correct('NM_010294',correct_codon_num('NM_010294',a,add_num_list('NM_010294')),add_num_list('NM_010294'))"
   ]
  },
  {
   "cell_type": "code",
   "execution_count": 154,
   "id": "a5f42069",
   "metadata": {},
   "outputs": [
    {
     "data": {
      "text/plain": [
       "array([97604820, 97604784, 97604718, 97604703, 97604682, 97604673,\n",
       "       97604559, 97604538, 97604496, 97604478, 97604370, 97604343,\n",
       "       97604295, 97604286, 97604193, 97604058, 97604037, 97604016,\n",
       "       97603965, 97603845, 97603722, 97603683, 97603629, 97603623,\n",
       "       97603569, 97603530, 97603524, 97603422, 97603380, 97603368,\n",
       "       97603362, 97603329, 97603299])"
      ]
     },
     "execution_count": 154,
     "metadata": {},
     "output_type": "execute_result"
    }
   ],
   "source": [
    "np.array(aa)+np.array(bb)"
   ]
  },
  {
   "cell_type": "code",
   "execution_count": 155,
   "id": "5911aaef",
   "metadata": {
    "scrolled": true
   },
   "outputs": [
    {
     "data": {
      "text/plain": [
       "'CCATCGACTCTTGGCTCATCTGGT'"
      ]
     },
     "execution_count": 155,
     "metadata": {},
     "output_type": "execute_result"
    }
   ],
   "source": [
    "transcription('ACCAGATGAGCCAAGAGTCGATGG')"
   ]
  },
  {
   "cell_type": "code",
   "execution_count": 198,
   "id": "9f60cb9c",
   "metadata": {},
   "outputs": [],
   "source": [
    "#base_data['NM_010294::chr5:97602988-97604882']"
   ]
  },
  {
   "cell_type": "code",
   "execution_count": 157,
   "id": "2768b606",
   "metadata": {},
   "outputs": [
    {
     "data": {
      "text/plain": [
       "'GTCTCCTAACTGGCATCACCAGGGAAACAGTCCACTGACCAGTTTCATGGCAGCCTCGAAGCAAACCTCTGCGGGACCGTTGGTAGGAGCGGTGGTCCAGGGAACCAACTCCACTCGCTTTCTAGTTTTCAATAGCAAAACAGCAGAACTAGTTTGCTCTCATCAGGTGGAACTGACACAAGAATACCCAAAAGAAGGATGGGTGGAGCAAGACCCCAAGGAAATCCTTAAATCTGTCTATGAGTGCATAGCGAAAGCTTGTGAAAAACTTGCTGAAGTGAACATTGATATTTCCAACATTAAAGCTATCGGCGTGAGTAACCAGCGGGAAACCACTGTGGTCTGGGACAAGTTCACGGGAGACCCTCTGTACAATGCCGTGGTGTGGCTTGATCTCAGAACCCAGTCTACTGTGGAGACTCTCACTAAGAAAATCCCAGGAAATAGCAACTTTGTCAAGTCTAAGACCGGCCTTCCTCTTAGCACTTACTTCAGTGCTGTGAAGCTGCGGTGGATGCTGGACAACCTAAGACCCATTCAAAAGGCTGTTGAGGAAGGCAGAGCCATGTTTGGAACCATCGACTCTTGGCTCATCTGGTGTATGACCGGAGGAGTCAATGGAGGCATCCATTGCACCGATGTAACAAATGCATGCAGAACGATGCTTTTTAACATCCACTCTTTGGAATGGGATAAAGATCTCTGTGACTTTTTTGAAATTCCAATGAGCATCCTCCCAAATGTATGCAGTTCTTCTGAGATCTATGGCCTGATGACATCAGGGGCCTTGGAAGGCGTGCCAATATCTGGATGTTTGGGGGATCAGTCTGCTGCTTTAGTGGGACAAATGTGTTTCCATGAAGGTCAAGCCAAAAACACATACGGAACAGGCTGTTTTTTACTATGTAATACAGGCCAGAAATGTGTGTTTTCTGAACATGGCCTTCTGACCACATTGGCTTACAAACTAGGCAAAAATAAGCCAGTTTTTTATGCCTTAGAAGGTTCTGTTGCTATAGCTGGTGCTGTTATTCGCTGGCTAAGAGACAATTTCGAAATTATAACAACCTCAGGGGAAGTTGAAAATCTTGCAAGAGAGGTAGGCACTTCCTATGGCTGCTACTTTGTCCCAGCCTTTTCGGGGCTGTATGCACCTTACTGGGAACCCAGTGCAAGAGGGATAATCTGTGGTCTCACTCAGTTCACCAACAAATGCCATATTGCCTTTGCTGCGTTAGAAGCTGTTTGTTTCCAAACCCGAGAGATTTTGGATGCCATGAATCGCGACTGTGGAATTCCACTCAGTCATTTGCAGGTCGATGGAGGAATGACCAACAACAGGATTCTTATGCAGCTACAGGCAGATATTCTGCACATTCCGGTAGTTAAGTCTGTCATGCCTGAAACGACGGCCCTGGGAGCTGCCATGGCAGCCGGAGCTGCAGAAGGGGTAAATGTTTGGAGTCTTGAACCTGAAGATTTGTCTACGATCTTGATGGAACGATATGAACCACAAATCCAAGCCACAGAGAGTGAAATTCGTTTTTCAACATGGAAGAGAGCAGTGATGAAGTCAATGGGTTGGGTTACAGCAAAGGACCCTGAAAATGGCGATAACCCTGTCTTCTCTTGTCTGCCCTTGGGTTTTTTTATAGTGAGTAGCATGACGTTATTAATTGGAGCAAGATGTGTCTCAACTGCTGAAGAGTAATTTGAACCACGGACTTGCAATGTGTGAACTTTTTACAGAAAGAATTCCATCTTTTAGTGTGAAACCAATATTATAGGTTTATTTTTACCTATAGGCCACTTGCTTACAGGAACCCATGAGGCCCCTACAAATACTCCTTAAAATAAAGGTTTTGAATAAAGAGAACACATTAGAAAAACAGTA'"
      ]
     },
     "execution_count": 157,
     "metadata": {},
     "output_type": "execute_result"
    }
   ],
   "source": [
    "transcription(base_data['NM_010294::chr5:97602988-97604882'])"
   ]
  },
  {
   "cell_type": "code",
   "execution_count": 158,
   "id": "2e36af3f",
   "metadata": {},
   "outputs": [
    {
     "data": {
      "text/plain": [
       "914"
      ]
     },
     "execution_count": 158,
     "metadata": {},
     "output_type": "execute_result"
    }
   ],
   "source": [
    "len('TCTCCTAACTGGCATCACCAGGGAAACAGTCCACTGACCAGTTTCATGGCAGCCTCGAAGCAAACCTCTGCGGGACCGTTGGTAGGAGCGGTGGTCCAGGGAACCAACTCCACTCGCTTTCTAGTTTTCAATAGCAAAACAGCAGAACTAGTTTGCTCTCATCAGGTGGAACTGACACAAGAATACCCAAAAGAAGGATGGGTGGAGCAAGACCCCAAGGAAATCCTTAAATCTGTCTATGAGTGCATAGCGAAAGCTTGTGAAAAACTTGCTGAAGTGAACATTGATATTTCCAACATTAAAGCTATCGGCGTGAGTAACCAGCGGGAAACCACTGTGGTCTGGGACAAGTTCACGGGAGACCCTCTGTACAATGCCGTGGTGTGGCTTGATCTCAGAACCCAGTCTACTGTGGAGACTCTCACTAAGAAAATCCCAGGAAATAGCAACTTTGTCAAGTCTAAGACCGGCCTTCCTCTTAGCACTTACTTCAGTGCTGTGAAGCTGCGGTGGATGCTGGACAACCTAAGACCCATTCAAAAGGCTGTTGAGGAAGGCAGAGCCATGTTTGGAACCATCGACTCTTGGCTCATCTGGTGTATGACCGGAGGAGTCAATGGAGGCATCCATTGCACCGATGTAACAAATGCATGCAGAACGATGCTTTTTAACATCCACTCTTTGGAATGGGATAAAGATCTCTGTGACTTTTTTGAAATTCCAATGAGCATCCTCCCAAATGTATGCAGTTCTTCTGAGATCTATGGCCTGATGACATCAGGGGCCTTGGAAGGCGTGCCAATATCTGGATGTTTGGGGGATCAGTCTGCTGCTTTAGTGGGACAAATGTGTTTCCATGAAGGTCAAGCCAAAAACACATACGGAACAGGCTGTTTTTTACTATGTAATACAGG')"
   ]
  },
  {
   "cell_type": "code",
   "execution_count": 159,
   "id": "07cdccd0",
   "metadata": {},
   "outputs": [],
   "source": [
    "#CAGATGAGCCAAGAGTCGATGG"
   ]
  },
  {
   "cell_type": "code",
   "execution_count": 160,
   "id": "c623feb5",
   "metadata": {},
   "outputs": [
    {
     "data": {
      "text/plain": [
       "['CAAACCTCTGCGGGACCGTTGG',\n",
       " 'CAAGAATACCCAAAAGAAGG',\n",
       " 'CAGAACCCAGTCTACTGTGG',\n",
       " 'CAGTGCTGTGAAGCTGCGGTGG',\n",
       " 'CAAAAGGCTGTTGAGGAAGG',\n",
       " 'CAGTTCTTCTGAGATCTATGG',\n",
       " 'CAATATCTGGATGTTTGGGGG',\n",
       " 'CAGTCTGCTGCTTTAGTGGG',\n",
       " 'CAAATGTGTTTCCATGAAGG',\n",
       " 'CAAGCCAAAAACACATACGG',\n",
       " 'CAAAAACACATACGGAACAGG',\n",
       " 'CAGTTTTTTATGCCTTAGAAGG',\n",
       " 'CGAAATTATAACAACCTCAGGG',\n",
       " 'CAGTCATTTGCAGGTCGATGG',\n",
       " 'CAGATATTCTGCACATTCCGG',\n",
       " 'CAGCCGGAGCTGCAGAAGGGG',\n",
       " 'CAGAAGGGGTAAATGTTTGG',\n",
       " 'CAGCAAAGGACCCTGAAAATGG',\n",
       " 'CAAATACTCCTTAAAATAAAGG']"
      ]
     },
     "execution_count": 160,
     "metadata": {},
     "output_type": "execute_result"
    }
   ],
   "source": [
    "target_base_CT_minus(transcription(base_data['NM_010294::chr5:97602988-97604882']))"
   ]
  },
  {
   "cell_type": "code",
   "execution_count": 161,
   "id": "b9c45999",
   "metadata": {},
   "outputs": [],
   "source": [
    "def CT_target_start(target_list,qua):    \n",
    "    result = []\n",
    "    for i in target_list:\n",
    "        matches = re.finditer(i, qua)\n",
    "        for match in matches:\n",
    "            start_index = match.start()\n",
    "            result.append(start_index)\n",
    "    return result"
   ]
  },
  {
   "cell_type": "code",
   "execution_count": 162,
   "id": "89342a3d",
   "metadata": {},
   "outputs": [],
   "source": [
    "da = CT_target_start(target_base_CT_minus(transcription(base_data['NM_010294::chr5:97602988-97604882'])),transcription(base_data['NM_010294::chr5:97602988-97604882']))"
   ]
  },
  {
   "cell_type": "code",
   "execution_count": 163,
   "id": "3289fff7",
   "metadata": {},
   "outputs": [],
   "source": [
    "aaa = np.array([1832, 1796, 1730, 1715, 1694, 1685, 1571, 1550, 1508, 1490, 1382, 1355, 1307, 1298, 1205, 1070, 1049, 1028, 977, 857, 734, 695, 641, 635, 581, 542, 536, 434, 392, 380, 374, 341, 311])"
   ]
  },
  {
   "cell_type": "code",
   "execution_count": 164,
   "id": "59416cc8",
   "metadata": {},
   "outputs": [
    {
     "data": {
      "text/plain": [
       "array([1832, 1796, 1730, 1715, 1694, 1685, 1571, 1550, 1508, 1490, 1382,\n",
       "       1355, 1307, 1298, 1205, 1070, 1049, 1028,  977,  857,  734,  695,\n",
       "        641,  635,  581,  542,  536,  434,  392,  380,  374,  341,  311])"
      ]
     },
     "execution_count": 164,
     "metadata": {},
     "output_type": "execute_result"
    }
   ],
   "source": [
    "aaa"
   ]
  },
  {
   "cell_type": "code",
   "execution_count": 165,
   "id": "edeb2dcd",
   "metadata": {},
   "outputs": [
    {
     "data": {
      "text/plain": [
       "[[0, 1894]]"
      ]
     },
     "execution_count": 165,
     "metadata": {},
     "output_type": "execute_result"
    }
   ],
   "source": [
    "add_num_list('NM_010294')"
   ]
  },
  {
   "cell_type": "code",
   "execution_count": 166,
   "id": "07619f26",
   "metadata": {},
   "outputs": [],
   "source": [
    "da =1894-np.array(da)-1"
   ]
  },
  {
   "cell_type": "code",
   "execution_count": 167,
   "id": "ceeadab1",
   "metadata": {},
   "outputs": [
    {
     "data": {
      "text/plain": [
       "array([1832, 1715, 1497, 1401, 1355, 1146, 1093, 1070, 1049, 1028, 1023,\n",
       "        910,  840,  591,  532,  463,  451,  304,   55])"
      ]
     },
     "execution_count": 167,
     "metadata": {},
     "output_type": "execute_result"
    }
   ],
   "source": [
    "da"
   ]
  },
  {
   "cell_type": "code",
   "execution_count": 168,
   "id": "346b4912",
   "metadata": {},
   "outputs": [
    {
     "data": {
      "text/plain": [
       "array([1028, 1049, 1070, 1355, 1715, 1832])"
      ]
     },
     "execution_count": 168,
     "metadata": {},
     "output_type": "execute_result"
    }
   ],
   "source": [
    "np.intersect1d(aaa,da)"
   ]
  },
  {
   "cell_type": "code",
   "execution_count": 169,
   "id": "e1b1b3c3",
   "metadata": {
    "scrolled": true
   },
   "outputs": [
    {
     "data": {
      "text/plain": [
       "'AGTCTGCTGCTTTAGTGGGACAAATGTGTTTCCATGAAGGTCAAGCCAAAAACACATACGGAACAGGCTGTTTTTTACTATGTAATACAGGCCAGAAATGTGTGTTTTCTGAACATGGCCTTCTGACCACATTGGCTTACAAACTAGGCAAAAATAAGCCAGTTTTTTATGCCTTAGAAGGTTCTGTTGCTATAGCTGGTGCTGTTATTCGCTGGCTAAGAGACAATTTCGAAATTATAACAACCTCAGGGGAAGTTGAAAATCTTGCAAGAGAGGTAGGCACTTCCTATGGCTGCTACTTTGTCCCAGCCTTTTCGGGGCTGTATGCACCTTACTGGGAACCCAGTGCAAGAGGGATAATCTGTGGTCTCACTCAGTTCACCAACAAATGCCATATTGCCTTTGCTGCGTTAGAAGCTGTTTGTTTCCAAACCCGAGAGATTTTGGATGCCATGAATCGCGACTGTGGAATTCCACTCAGTCATTTGCAGGTCGATGGAGGAATGACCAACAACAGGATTCTTATGCAGCTACAGGCAGATATTCTGCACATTCCGGTAGTTAAGTCTGTCATGCCTGAAACGACGGCCCTGGGAGCTGCCATGGCAGCCGGAGCTGCAGAAGGGGTAAATGTTTGGAGTCTTGAACCTGAAGATTTGTCTACGATCTTGATGGAACGATATGAACCACAAATCCAAGCCACAGAGAGTGAAATTCGTTTTTCAACATGGAAGAGAGCAGTGATGAAGTCAATGGGTTGGGTTACAGCAAAGGACCCTGAAAATGGCGATAACCCTGTCTTCTCTTGTCTGCCCTTGGGTTTTTTTATAGTGAGTAGCATGACGTTATTAATTGGAGCAAGATGTGTCTCAACTGCTGAAGAGTAATTTGAACCACGGACTTGCAATGTGTGAACTTTTTACAGAAAGAATTCCATCTTTTAGTGTGAAACCAATATTATAGGTTTATTTTTACCTATAGGCCACTTGCTTACAGGAACCCATGAGGCCCCTACAAATACTCCTTAAAATAAAGGTTTTGAATAAAGAGAACACATTAGAAAAACAGTA'"
      ]
     },
     "execution_count": 169,
     "metadata": {},
     "output_type": "execute_result"
    }
   ],
   "source": [
    "transcription(base_data['NM_010294::chr5:97602988-97604882'][:1070])"
   ]
  },
  {
   "cell_type": "code",
   "execution_count": null,
   "id": "3b192b65",
   "metadata": {},
   "outputs": [],
   "source": [
    "97603042, 97603291, 97603438, 97603450, 97603450, 97603519,\n",
    "       97603578, 97603827, 97603827, 97603897, 97604010, 97604015,\n",
    "       97604036, 97604057, 97604080, 97604080, 97604133, 97604342,\n",
    "       97604388, 97604484, 97604702, 97604819"
   ]
  },
  {
   "cell_type": "code",
   "execution_count": 308,
   "id": "3afdc09f",
   "metadata": {},
   "outputs": [
    {
     "data": {
      "text/plain": [
       "array([97604820, 97604784, 97604718, 97604703, 97604682, 97604673,\n",
       "       97604559, 97604538, 97604496, 97604478, 97604370, 97604343,\n",
       "       97604295, 97604286, 97604193, 97604058, 97604037, 97604016,\n",
       "       97603965, 97603845, 97603722, 97603683, 97603629, 97603623,\n",
       "       97603569, 97603530, 97603524, 97603422, 97603380, 97603368,\n",
       "       97603362, 97603329, 97603299])"
      ]
     },
     "execution_count": 308,
     "metadata": {},
     "output_type": "execute_result"
    }
   ],
   "source": [
    "np.array(aa)+np.array(bb)"
   ]
  },
  {
   "cell_type": "code",
   "execution_count": 310,
   "id": "a69e785e",
   "metadata": {},
   "outputs": [
    {
     "data": {
      "text/plain": [
       "array([97604016, 97604037, 97604058, 97604343, 97604703, 97604820])"
      ]
     },
     "execution_count": 310,
     "metadata": {},
     "output_type": "execute_result"
    }
   ],
   "source": [
    "np.intersect1d(s,t)"
   ]
  },
  {
   "cell_type": "code",
   "execution_count": null,
   "id": "032e846e",
   "metadata": {},
   "outputs": [],
   "source": []
  },
  {
   "cell_type": "code",
   "execution_count": 313,
   "id": "0c703cba",
   "metadata": {},
   "outputs": [
    {
     "data": {
      "text/plain": [
       "1355"
      ]
     },
     "execution_count": 313,
     "metadata": {},
     "output_type": "execute_result"
    }
   ],
   "source": [
    "len('TACTGTTTTTCTAATGTGTTCTCTTTATTCAAAACCTTTATTTTAAGGAGTATTTGTAGGGGCCTCATGGGTTCCTGTAAGCAAGTGGCCTATAGGTAAAAATAAACCTATAATATTGGTTTCACACTAAAAGATGGAATTCTTTCTGTAAAAAGTTCACACATTGCAAGTCCGTGGTTCAAATTACTCTTCAGCAGTTGAGACACATCTTGCTCCAATTAATAACGTCATGCTACTCACTATAAAAAAACCCAAGGGCAGACAAGAGAAGACAGGGTTATCGCCATTTTCAGGGTCCTTTGCTGTAACCCAACCCATTGACTTCATCACTGCTCTCTTCCATGTTGAAAAACGAATTTCACTCTCTGTGGCTTGGATTTGTGGTTCATATCGTTCCATCAAGATCGTAGACAAATCTTCAGGTTCAAGACTCCAAACATTTACCCCTTCTGCAGCTCCGGCTGCCATGGCAGCTCCCAGGGCCGTCGTTTCAGGCATGACAGACTTAACTACCGGAATGTGCAGAATATCTGCCTGTAGCTGCATAAGAATCCTGTTGTTGGTCATTCCTCCATCGACCTGCAAATGACTGAGTGGAATTCCACAGTCGCGATTCATGGCATCCAAAATCTCTCGGGTTTGGAAACAAACAGCTTCTAACGCAGCAAAGGCAATATGGCATTTGTTGGTGAACTGAGTGAGACCACAGATTATCCCTCTTGCACTGGGTTCCCAGTAAGGTGCATACAGCCCCGAAAAGGCTGGGACAAAGTAGCAGCCATAGGAAGTGCCTACCTCTCTTGCAAGATTTTCAACTTCCCCTGAGGTTGTTATAATTTCGAAATTGTCTCTTAGCCAGCGAATAACAGCACCAGCTATAGCAACAGAACCTTCTAAGGCATAAAAAACTGGCTTATTTTTGCCTAGTTTGTAAGCCAATGTGGTCAGAAGGCCATGTTCAGAAAACACACATTTCTGGCCTGTATTACATAGTAAAAAACAGCCTGTTCCGTATGTGTTTTTGGCTTGACCTTCATGGAAACACATTTGTCCCACTAAAGCAGCAGACTGATCCCCCAAACATCCAGATATTGGCACGCCTTCCAAGGCCCCTGATGTCATCAGGCCATAGATCTCAGAAGAACTGCATACATTTGGGAGGATGCTCATTGGAATTTCAAAAAAGTCACAGAGATCTTTATCCCATTCCAAAGAGTGGATGTTAAAAAGCATCGTTCTGCATGCATTTGTTACATCGGTGCAATGGATGCCTCCATTGACTCCTCCGGTCATACACCAGATGAGCCAAGAGTCGATGGTTCCAAACATGGCTCTGCCTTCCTCAACAGCCTTTT')"
   ]
  },
  {
   "cell_type": "code",
   "execution_count": 314,
   "id": "296ca69f",
   "metadata": {},
   "outputs": [
    {
     "data": {
      "text/plain": [
       "97604343"
      ]
     },
     "execution_count": 314,
     "metadata": {},
     "output_type": "execute_result"
    }
   ],
   "source": [
    "97602988+1355"
   ]
  },
  {
   "cell_type": "code",
   "execution_count": 280,
   "id": "fa1110a3",
   "metadata": {},
   "outputs": [
    {
     "data": {
      "text/html": [
       "<div>\n",
       "<style scoped>\n",
       "    .dataframe tbody tr th:only-of-type {\n",
       "        vertical-align: middle;\n",
       "    }\n",
       "\n",
       "    .dataframe tbody tr th {\n",
       "        vertical-align: top;\n",
       "    }\n",
       "\n",
       "    .dataframe thead th {\n",
       "        text-align: right;\n",
       "    }\n",
       "</style>\n",
       "<table border=\"1\" class=\"dataframe\">\n",
       "  <thead>\n",
       "    <tr style=\"text-align: right;\">\n",
       "      <th></th>\n",
       "      <th>geneName</th>\n",
       "      <th>name</th>\n",
       "      <th>chrom</th>\n",
       "      <th>strand</th>\n",
       "      <th>txStart</th>\n",
       "      <th>txEnd</th>\n",
       "      <th>cdsStart</th>\n",
       "      <th>cdsEnd</th>\n",
       "      <th>exonCount</th>\n",
       "      <th>exonStarts</th>\n",
       "      <th>exonEnds</th>\n",
       "    </tr>\n",
       "  </thead>\n",
       "  <tbody>\n",
       "    <tr>\n",
       "      <th>32045</th>\n",
       "      <td>Gk2</td>\n",
       "      <td>NM_010294</td>\n",
       "      <td>chr5</td>\n",
       "      <td>-</td>\n",
       "      <td>97602988</td>\n",
       "      <td>97604882</td>\n",
       "      <td>97603171</td>\n",
       "      <td>97604836</td>\n",
       "      <td>1</td>\n",
       "      <td>97602988,</td>\n",
       "      <td>97604882,</td>\n",
       "    </tr>\n",
       "  </tbody>\n",
       "</table>\n",
       "</div>"
      ],
      "text/plain": [
       "      geneName       name chrom strand   txStart     txEnd  cdsStart  \\\n",
       "32045      Gk2  NM_010294  chr5      -  97602988  97604882  97603171   \n",
       "\n",
       "         cdsEnd exonCount exonStarts   exonEnds  \n",
       "32045  97604836         1  97602988,  97604882,  "
      ]
     },
     "execution_count": 280,
     "metadata": {},
     "output_type": "execute_result"
    }
   ],
   "source": [
    "gene_df[gene_df['geneName']=='Gk2']"
   ]
  },
  {
   "cell_type": "code",
   "execution_count": 289,
   "id": "9c74bd98",
   "metadata": {},
   "outputs": [
    {
     "data": {
      "text/plain": [
       "'CCTTCTTTTGGGTATTCTTGTGT'"
      ]
     },
     "execution_count": 289,
     "metadata": {},
     "output_type": "execute_result"
    }
   ],
   "source": [
    "transcription('ACACAAGAATACCCAAAAGAAGG')"
   ]
  },
  {
   "cell_type": "code",
   "execution_count": 195,
   "id": "b200c231",
   "metadata": {},
   "outputs": [
    {
     "data": {
      "text/plain": [
       "'TACTGTTTTTCTAATGTGTTCTCTTTATTCAAAACCTTTATTTTAAGGAGTATTTGTAGGGGCCTCATGGGTTCCTGTAAGCAAGTGGCCTATAGGTAAAAATAAACCTATAATATTGGTTTCACACTAAAAGATGGAATTCTTTCTGTAAAAAGTTCACACATTGCAAGTCCGTGGTTCAAATTACTCTTCAGCAGTTGAGACACATCTTGCTCCAATTAATAACGTCATGCTACTCACTATAAAAAAACCCAAGGGCAGACAAGAGAAGACAGGGTTATCGCCATTTTCAGGGTCCTTTGCTGTAACCCAACCCATTGACTTCATCACTGCTCTCTTCCATGTTGAAAAACGAATTTCACTCTCTGTGGCTTGGATTTGTGGTTCATATCGTTCCATCAAGATCGTAGACAAATCTTCAGGTTCAAGACTCCAAACATTTACCCCTTCTGCAGCTCCGGCTGCCATGGCAGCTCCCAGGGCCGTCGTTTCAGGCATGACAGACTTAACTACCGGAATGTGCAGAATATCTGCCTGTAGCTGCATAAGAATCCTGTTGTTGGTCATTCCTCCATCGACCTGCAAATGACTGAGTGGAATTCCACAGTCGCGATTCATGGCATCCAAAATCTCTCGGGTTTGGAAACAAACAGCTTCTAACGCAGCAAAGGCAATATGGCATTTGTTGGTGAACTGAGTGAGACCACAGATTATCCCTCTTGCACTGGGTTCCCAGTAAGGTGCATACAGCCCCGAAAAGGCTGGGACAAAGTAGCAGCCATAGGAAGTGCCTACCTCTCTTGCAAGATTTTCAACTTCCCCTGAGGTTGTTATAATTTCGAAATTGTCTCTTAGCCAGCGAATAACAGCACCAGCTATAGCAACAGAACCTTCTAAGGCATAAAAAACTGGCTTATTTTTGCCTAGTTTGTAAGCCAATGTGGTCAGAAGGCCATGTTCAGAAAACACACATTTCTGGCCTGTATTACATAGTAAAAAACAGCCTGTTCCGTATGTGTTTTTGGCTTGACCTTCATGGAAACACATTTGTCCCACTAAAGCAGCAGACTGATCCCCCAAACATCCAGATATTGGCACGCCTTCCAAGGCCCCTGATGTCATCAGGCCATAGATCTCAGAAGAACTGCATACATTTGGGAGGATGCTCATTGGAATTTCAAAAAAGTCACAGAGATCTTTATCCCATTCCAAAGAGTGGATGTTAAAAAGCATCGTTCTGCATGCATTTGTTACATCGGTGCAATGGATGCCTCCATTGACTCCTCCGGTCATACACCAGATGAGCCAAGAGTCGATGGTTCCAAACATGGCTCTGCCTTCCTCAACAGCCTTTTGAATGGGTCTTAGGTTGTCCAGCATCCACCGCAGCTTCACAGCACTGAAGTAAGTGCTAAGAGGAAGGCCGGTCTTAGACTTGACAAAGTTGCTATTTCCTGGGATTTTCTTAGTGAGAGTCTCCACAGTAGACTGGGTTCTGAGATCAAGCCACACCACGGCATTGTACAGAGGGTCTCCCGTGAACTTGTCCCAGACCACAGTGGTTTCCCGCTGGTTACTCACGCCGATAGCTTTAATGTTGGAAATATCAATGTTCACTTCAGCAAGTTTTTCACAAGCTTTCGCTATGCACTCATAGACAGATTTAAGGATTTCCTTGGGGTCTTGCTCCACCCATCCTTCTTTTGGGTATTCTTGTGTCAGTTCCACCTGATGAGAGCAAACTAGTTCTGCTGTTTTGCTATTGAAAACTAGAAAGCGAGTGGAGTTGGTTCCCTGGACCACCGCTCCTACCAACGGTCCCGCAGAGGTTTGCTTCGAGGCTGCCATGAAACTGGTCAGTGGACTGTTTCCCTGGTGATGCCAGTTAGGAGAC'"
      ]
     },
     "execution_count": 195,
     "metadata": {},
     "output_type": "execute_result"
    }
   ],
   "source": [
    "base_data['NM_010294::chr5:97602988-97604882']"
   ]
  },
  {
   "cell_type": "code",
   "execution_count": 199,
   "id": "3f9c3fea",
   "metadata": {},
   "outputs": [
    {
     "data": {
      "text/plain": [
       "'CCTTCTTTTGGGTATTCTTGTGT'"
      ]
     },
     "execution_count": 199,
     "metadata": {},
     "output_type": "execute_result"
    }
   ],
   "source": [
    "transcription('ACACAAGAATACCCAAAAGAAGG')"
   ]
  },
  {
   "cell_type": "code",
   "execution_count": 312,
   "id": "ac63d36e",
   "metadata": {},
   "outputs": [
    {
     "data": {
      "text/plain": [
       "'CCTTCCTCAACAGCCTTTTGAAT'"
      ]
     },
     "execution_count": 312,
     "metadata": {},
     "output_type": "execute_result"
    }
   ],
   "source": [
    "transcription('ATTCAAAAGGCTGTTGAGGAAGG')"
   ]
  },
  {
   "cell_type": "code",
   "execution_count": null,
   "id": "71f4aca1",
   "metadata": {},
   "outputs": [],
   "source": [
    "ACACAAGAATACCCAAAAGA AGG\n",
    "ATTCAAAAGGCTGTTGAGGA AGG\n",
    "CCAGATGAGCCAAGAGTCGATGG"
   ]
  },
  {
   "cell_type": "code",
   "execution_count": 209,
   "id": "d5492c4e",
   "metadata": {},
   "outputs": [
    {
     "data": {
      "text/html": [
       "<div>\n",
       "<style scoped>\n",
       "    .dataframe tbody tr th:only-of-type {\n",
       "        vertical-align: middle;\n",
       "    }\n",
       "\n",
       "    .dataframe tbody tr th {\n",
       "        vertical-align: top;\n",
       "    }\n",
       "\n",
       "    .dataframe thead th {\n",
       "        text-align: right;\n",
       "    }\n",
       "</style>\n",
       "<table border=\"1\" class=\"dataframe\">\n",
       "  <thead>\n",
       "    <tr style=\"text-align: right;\">\n",
       "      <th></th>\n",
       "      <th>geneName</th>\n",
       "      <th>name</th>\n",
       "      <th>chrom</th>\n",
       "      <th>strand</th>\n",
       "      <th>txStart</th>\n",
       "      <th>txEnd</th>\n",
       "      <th>cdsStart</th>\n",
       "      <th>cdsEnd</th>\n",
       "      <th>exonCount</th>\n",
       "      <th>exonStarts</th>\n",
       "      <th>exonEnds</th>\n",
       "    </tr>\n",
       "  </thead>\n",
       "  <tbody>\n",
       "    <tr>\n",
       "      <th>41722</th>\n",
       "      <td>Has3</td>\n",
       "      <td>NM_008217</td>\n",
       "      <td>chr8</td>\n",
       "      <td>+</td>\n",
       "      <td>107596873</td>\n",
       "      <td>107609534</td>\n",
       "      <td>107600539</td>\n",
       "      <td>107605460</td>\n",
       "      <td>4</td>\n",
       "      <td>107596873,107600539,107603523,107604536,</td>\n",
       "      <td>107597046,107601178,107603625,107609534,</td>\n",
       "    </tr>\n",
       "    <tr>\n",
       "      <th>41723</th>\n",
       "      <td>Has3</td>\n",
       "      <td>NM_001331048</td>\n",
       "      <td>chr8</td>\n",
       "      <td>+</td>\n",
       "      <td>107597467</td>\n",
       "      <td>107609534</td>\n",
       "      <td>107600539</td>\n",
       "      <td>107605460</td>\n",
       "      <td>4</td>\n",
       "      <td>107597467,107600539,107603523,107604536,</td>\n",
       "      <td>107597583,107601178,107603625,107609534,</td>\n",
       "    </tr>\n",
       "  </tbody>\n",
       "</table>\n",
       "</div>"
      ],
      "text/plain": [
       "      geneName          name chrom strand    txStart      txEnd   cdsStart  \\\n",
       "41722     Has3     NM_008217  chr8      +  107596873  107609534  107600539   \n",
       "41723     Has3  NM_001331048  chr8      +  107597467  107609534  107600539   \n",
       "\n",
       "          cdsEnd exonCount                                exonStarts  \\\n",
       "41722  107605460         4  107596873,107600539,107603523,107604536,   \n",
       "41723  107605460         4  107597467,107600539,107603523,107604536,   \n",
       "\n",
       "                                       exonEnds  \n",
       "41722  107597046,107601178,107603625,107609534,  \n",
       "41723  107597583,107601178,107603625,107609534,  "
      ]
     },
     "execution_count": 209,
     "metadata": {},
     "output_type": "execute_result"
    }
   ],
   "source": [
    "gene_df[gene_df['geneName']=='Has3']"
   ]
  },
  {
   "cell_type": "code",
   "execution_count": null,
   "id": "2b3e14ed",
   "metadata": {},
   "outputs": [],
   "source": []
  },
  {
   "cell_type": "code",
   "execution_count": null,
   "id": "71f9dc62",
   "metadata": {},
   "outputs": [],
   "source": []
  }
 ],
 "metadata": {
  "kernelspec": {
   "display_name": "Python 3",
   "language": "python",
   "name": "python3"
  },
  "language_info": {
   "codemirror_mode": {
    "name": "ipython",
    "version": 3
   },
   "file_extension": ".py",
   "mimetype": "text/x-python",
   "name": "python",
   "nbconvert_exporter": "python",
   "pygments_lexer": "ipython3",
   "version": "3.8.8"
  }
 },
 "nbformat": 4,
 "nbformat_minor": 5
}
