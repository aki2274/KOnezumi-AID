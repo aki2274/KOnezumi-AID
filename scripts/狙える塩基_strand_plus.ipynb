{
 "cells": [
  {
   "cell_type": "code",
   "execution_count": 1,
   "id": "ad239b1e",
   "metadata": {},
   "outputs": [],
   "source": [
    "import pandas as pd\n",
    "import numpy as np\n",
    "from pandas import DataFrame, Series\n",
    "\n",
    "path = \"refFlat.txt\"\n",
    "path_fa = \"result.fa\""
   ]
  },
  {
   "cell_type": "code",
   "execution_count": 2,
   "id": "15fdd2a8",
   "metadata": {},
   "outputs": [],
   "source": [
    "def read_fasta(file_path):\n",
    "    sequences = {}\n",
    "    seq_id = None\n",
    "    current_seq = \"\"\n",
    "\n",
    "    with open(file_path, \"r\") as file:\n",
    "        for line in file:\n",
    "            line = line.strip()\n",
    "\n",
    "            if line.startswith(\">\"):  \n",
    "                if seq_id is not None:\n",
    "                    sequences[seq_id] = current_seq\n",
    "                    current_seq = \"\"\n",
    "                seq_id = line[1:]  \n",
    "            else:\n",
    "                current_seq += line\n",
    "\n",
    "        if seq_id is not None and current_seq != \"\":\n",
    "            sequences[seq_id] = current_seq\n",
    "\n",
    "    return sequences\n",
    "\n"
   ]
  },
  {
   "cell_type": "code",
   "execution_count": 3,
   "id": "f9d1ba5d",
   "metadata": {},
   "outputs": [],
   "source": [
    "import re\n",
    "\n",
    "def split_by_space(text):\n",
    "    return re.split('\\s+', text)"
   ]
  },
  {
   "cell_type": "code",
   "execution_count": 4,
   "id": "4b13ee7a",
   "metadata": {},
   "outputs": [],
   "source": [
    "def gene_data(text_list):\n",
    "    contents =[]\n",
    "    for i in range(len(text_list)-1):\n",
    "        contents.append(text_list[i])\n",
    "    return contents"
   ]
  },
  {
   "cell_type": "code",
   "execution_count": 5,
   "id": "a6f7d54c",
   "metadata": {},
   "outputs": [],
   "source": [
    "def result(path):\n",
    "    with open(path, \"r\", encoding=\"utf-8\") as file:\n",
    "        lines =file.readlines()\n",
    "    result = []\n",
    "    for line in lines:\n",
    "        line =split_by_space(line)\n",
    "        contents=gene_data(line)\n",
    "        result.append(contents)\n",
    "    return result\n",
    "    "
   ]
  },
  {
   "cell_type": "code",
   "execution_count": 6,
   "id": "e4b25897",
   "metadata": {},
   "outputs": [],
   "source": [
    "gene_data =result(path)\n",
    "col_names =['geneName','name','chrom','strand','txStart','txEnd','cdsStart','cdsEnd','exonCount','exonStarts','exonEnds']\n",
    "gene_df=pd.DataFrame(gene_data,columns=col_names)"
   ]
  },
  {
   "cell_type": "code",
   "execution_count": 7,
   "id": "fd8857d2",
   "metadata": {},
   "outputs": [],
   "source": [
    "base_data = read_fasta(path_fa)"
   ]
  },
  {
   "cell_type": "code",
   "execution_count": 8,
   "id": "146fdf3d",
   "metadata": {},
   "outputs": [],
   "source": [
    "def target_base_CT_plus(seq):\n",
    "    match = re.findall('(?=(\\w{20}GG))', seq)\n",
    "    target_list=[]\n",
    "    for i in range(len(match)):\n",
    "        target = match[i][0:3]\n",
    "        if target =='CAA'or target =='CAG'or target =='CGA':\n",
    "            target_list.append(True)\n",
    "        \n",
    "        else:\n",
    "            target_list.append(False)\n",
    "    result =[match[s] for s in range(len(match)) if target_list[s]]\n",
    "    result = list(dict.fromkeys(result))\n",
    "    return result"
   ]
  },
  {
   "cell_type": "code",
   "execution_count": 9,
   "id": "325e7334",
   "metadata": {},
   "outputs": [],
   "source": [
    "def target_base_AG_plus(seq):\n",
    "    match = re.findall('(?=(CC\\w{20}))', seq)\n",
    "    target_list=[]\n",
    "    for i in range(len(match)):\n",
    "        target = match[i][-3:]\n",
    "        if target =='TGG':#kここはCCA?\n",
    "            target_list.append(True)\n",
    "        \n",
    "        else:\n",
    "            target_list.append(False)\n",
    "    result =[match[s] for s in range(len(match)) if target_list[s]]\n",
    "    result = list(dict.fromkeys(result))\n",
    "    return result"
   ]
  },
  {
   "cell_type": "code",
   "execution_count": 10,
   "id": "f814ddb8",
   "metadata": {},
   "outputs": [],
   "source": [
    "def target_start(target_list,qua):    \n",
    "    result = []\n",
    "    for i in target_list:\n",
    "        matches = re.finditer(i, qua)\n",
    "        for match in matches:\n",
    "            start_index = match.start()\n",
    "            result.append(start_index)\n",
    "    return result"
   ]
  },
  {
   "cell_type": "code",
   "execution_count": 11,
   "id": "be458403",
   "metadata": {},
   "outputs": [],
   "source": [
    "def target_gene_start(name,target):\n",
    "    data = gene_df[gene_df['name']==name]\n",
    "    num = data['txStart'].astype(int).to_numpy()\n",
    "    target = np.array(target)\n",
    "    result = target+num\n",
    "    #ここ-1が必要かもしれない？\n",
    "    return result\n",
    "    "
   ]
  },
  {
   "cell_type": "code",
   "execution_count": null,
   "id": "dbb8b375",
   "metadata": {},
   "outputs": [],
   "source": []
  },
  {
   "cell_type": "code",
   "execution_count": null,
   "id": "3071b006",
   "metadata": {},
   "outputs": [],
   "source": []
  },
  {
   "cell_type": "code",
   "execution_count": 23,
   "id": "01492624",
   "metadata": {},
   "outputs": [],
   "source": [
    "def exon_data(name,sequence_data):\n",
    "    data = gene_df[gene_df['name']==name]\n",
    "    set_num =int(data['txStart'].to_list()[0])\n",
    "    start = data['exonStarts'].to_list()[0]\n",
    "    end = data['exonEnds'].to_list()[0]#最後に空白があるからその対処\n",
    "    exon_seq_list = []\n",
    "    start_list = [num for num in start.split(\",\")]\n",
    "    end_list = [num for num in end.split(\",\")]\n",
    "    for s in range(len(start_list)-1):\n",
    "        start_num = int(start_list[s])- set_num\n",
    "        \n",
    "        end_num= int(end_list[s]) - set_num\n",
    "    \n",
    "        \n",
    "        exon_seq =sequence_data[start_num:end_num]\n",
    "        exon_seq_list.append(exon_seq)\n",
    "        \n",
    "    \n",
    "    \n",
    "    return ''.join(exon_seq_list)"
   ]
  },
  {
   "cell_type": "code",
   "execution_count": 12,
   "id": "448bdc9b",
   "metadata": {},
   "outputs": [],
   "source": [
    "def where_start_codon(name):\n",
    "    data = gene_df[gene_df['name']==name]\n",
    "    cdsStart =int(data['cdsStart'].to_list()[0])\n",
    "    set_num =int(data['cdsStart'].to_list()[0])-int(data['txStart'].to_list()[0])\n",
    "    start = data['exonStarts'].to_list()[0]\n",
    "    end = data['exonEnds'].to_list()[0]#最後に空白があるからその対処\n",
    "    start = list(start.split(','))\n",
    "    end = list(end.split(','))\n",
    "    for s in range(len(start)-1):\n",
    "        if (int(start[s]) <= cdsStart<=int(end[s])):\n",
    "             exon_num =s\n",
    "            \n",
    "    return exon_num\n"
   ]
  },
  {
   "cell_type": "code",
   "execution_count": 13,
   "id": "4a9f056d",
   "metadata": {},
   "outputs": [],
   "source": [
    "def start_codon(name,exon_data,exon_num):\n",
    "    data = gene_df[gene_df['name']==name]\n",
    "    set_num =int(data['cdsStart'].to_list()[0])-int(data['txStart'].to_list()[0])\n",
    "    CDs =''\n",
    "    start = data['exonStarts'].to_list()[0]\n",
    "    end = data['exonEnds'].to_list()[0]#最後に空白があるからその対処\n",
    "    start = list(start.split(','))\n",
    "    end = list(end.split(','))\n",
    "    cds_list=[]\n",
    "    if exon_num == 0:\n",
    "            cds_list.append(exon_data[set_num:])\n",
    "            \n",
    "    \n",
    "    \n",
    "    else:     \n",
    "        start_num = int(data['cdsStart'].to_list()[0])- int(start[exon_num])\n",
    "\n",
    "        for s in range(exon_num):\n",
    "            start_num += int(end[s])-int(start[s])\n",
    "        cds_list.append(exon_data[start_num:])\n",
    "        \n",
    "    return ''.join(cds_list)"
   ]
  },
  {
   "cell_type": "code",
   "execution_count": 14,
   "id": "1c83ebfd",
   "metadata": {},
   "outputs": [],
   "source": [
    "def end_codon(cds_seq):\n",
    "    matches = re.finditer('(?=(CAA)|(?=(CAG))|(?=(CGA))|(?=(TGG)))', cds_seq)\n",
    "    result=[]\n",
    "    for match in matches:\n",
    "        start_pos = match.start() \n",
    "        \n",
    "        if (start_pos % 3) == 0:\n",
    "            result.append(start_pos)\n",
    "    return result"
   ]
  },
  {
   "cell_type": "code",
   "execution_count": 15,
   "id": "a1c6110c",
   "metadata": {},
   "outputs": [],
   "source": [
    "def add_num_list(name):#修正が必要\n",
    "    data = gene_df[gene_df['name']==name]\n",
    "    set_num =int(data['cdsStart'].to_list()[0])\n",
    "    start = data['exonStarts'].to_list()[0]\n",
    "    end = data['exonEnds'].to_list()[0]#最後に空白があるからその対処\n",
    "    start = list(start.split(','))\n",
    "    end = list(end.split(','))\n",
    "    add_list=[]\n",
    "    num = 0\n",
    "    for s in range(len(start)-1):\n",
    "        element_list=[]\n",
    "        element_list.append(num)\n",
    "        \n",
    "        num += int(end[s])-int(start[s])\n",
    "        \n",
    "        element_list.append(num)\n",
    "        add_list.append(element_list)\n",
    "        \n",
    "    return add_list"
   ]
  },
  {
   "cell_type": "code",
   "execution_count": 167,
   "id": "f3c1a136",
   "metadata": {},
   "outputs": [],
   "source": [
    "def add_num(name,number_list, interval_list):\n",
    "\n",
    "    indices = []\n",
    "    for number in number_list:\n",
    "        for index, interval in enumerate(interval_list):\n",
    "           # print(index)\n",
    "            if int(interval[0]) <= int(number) < int(interval[1]):\n",
    "                indices.append(index)\n",
    "                break\n",
    "            \n",
    "    data = gene_df[gene_df['name']==name]\n",
    "    set_num =int(data['cdsStart'].to_list()[0])\n",
    "    start = data['exonStarts'].to_list()[0]\n",
    "    end = data['exonEnds'].to_list()[0]#最後に空白があるからその対処\n",
    "    start = list(start.split(','))\n",
    "    end = list(end.split(','))\n",
    "    add_result=[]\n",
    "\n",
    "    for i in indices:\n",
    "        if i == 0:\n",
    "            add_result.append(set_num)\n",
    "        else:\n",
    "            add_result.append(int(start[i])-(set_num-int(start[0]))-int(interval_list[i][0]))\n",
    "   \n",
    "    return add_result"
   ]
  },
  {
   "cell_type": "code",
   "execution_count": 184,
   "id": "e3586fab",
   "metadata": {},
   "outputs": [],
   "source": [
    "def CT_target_base_strand_plus(name,):\n",
    "    name_df=gene_df[gene_df['name']==name].reset_index()\n",
    "    chrom = str(name_df.loc[0,'chrom'])\n",
    "    txStart = str(name_df.loc[0,'txStart'])\n",
    "    txEnd = str(name_df.loc[0,'txEnd'])\n",
    "    \n",
    "    query = f'{name}::{chrom}:{txStart}-{txEnd}'\n",
    "    seq = base_data[query]\n",
    "    available_base_num =target_gene_start(name,target_start(target_base_CT_plus(seq),seq))#配列的に狙えるほう\n",
    "    \n",
    "    \n",
    "    \n",
    "    start_exon_num= where_start_codon(name)\n",
    "    end_codon_num =end_codon(start_codon(name,exon_data(name,seq),start_exon_num))   \n",
    "    add_list =add_num(name,end_codon_num,add_num_list(name))\n",
    " \n",
    "    \n",
    "    available_base_num =np.array(available_base_num)\n",
    "    end_codon_num = np.array(end_codon_num)\n",
    "    add_list = np.array(add_list)\n",
    " \n",
    "    \n",
    "    num_able = available_base_num\n",
    "    num_codon = end_codon_num+add_list\n",
    "    num_codon = [x for x in num_codon if x <= int(name_df.loc[0,'cdsEnd'])]\n",
    "    result = np.intersect1d(num_able,num_codon)\n",
    "\n",
    "    return result"
   ]
  },
  {
   "cell_type": "code",
   "execution_count": 185,
   "id": "eaec1a55",
   "metadata": {},
   "outputs": [],
   "source": [
    "def AG_target_base_strand_plus(name,):\n",
    "    name_df=gene_df[gene_df['name']==name].reset_index()\n",
    "    chrom = str(name_df.loc[0,'chrom'])\n",
    "    txStart = str(name_df.loc[0,'txStart'])\n",
    "    txEnd = str(name_df.loc[0,'txEnd'])\n",
    "    \n",
    "    query = f'{name}::{chrom}:{txStart}-{txEnd}'\n",
    "    seq = base_data[query]\n",
    "    available_base_num =target_gene_start(name,target_start(target_base_AG_plus(seq),seq))#配列的に狙えるほう\n",
    "\n",
    "    \n",
    "    start_exon_num= where_start_codon(name)\n",
    "    end_codon_num =end_codon(start_codon(name,exon_data(name,seq),start_exon_num))   \n",
    "    add_list =add_num(name,end_codon_num,add_num_list(name))\n",
    "    \n",
    "  \n",
    "    \n",
    "    available_base_num =np.array(available_base_num)\n",
    "    end_codon_num = np.array(end_codon_num)\n",
    "    add_list = np.array(add_list)\n",
    "\n",
    "    num_able = available_base_num+19#GGXXXなので19たした\n",
    "    num_codon = end_codon_num+add_list\n",
    "    num_codon = [x for x in num_codon if x <= int(name_df.loc[0,'cdsEnd'])]\n",
    " \n",
    "    result = np.intersect1d(num_able,num_codon)\n",
    "  \n",
    "    return result"
   ]
  },
  {
   "cell_type": "code",
   "execution_count": 191,
   "id": "58168a43",
   "metadata": {},
   "outputs": [
    {
     "data": {
      "text/plain": [
       "array([44240885])"
      ]
     },
     "execution_count": 191,
     "metadata": {},
     "output_type": "execute_result"
    }
   ],
   "source": [
    "CT_target_base_strand_plus(\"NM_001385633\")"
   ]
  },
  {
   "cell_type": "code",
   "execution_count": 190,
   "id": "99f17602",
   "metadata": {},
   "outputs": [
    {
     "data": {
      "text/plain": [
       "array([11650248])"
      ]
     },
     "execution_count": 190,
     "metadata": {},
     "output_type": "execute_result"
    }
   ],
   "source": [
    "CT_target_base_strand_plus(\"NM_001301868\")"
   ]
  },
  {
   "cell_type": "code",
   "execution_count": 188,
   "id": "39496ab7",
   "metadata": {},
   "outputs": [
    {
     "data": {
      "text/plain": [
       "array([], dtype=int32)"
      ]
     },
     "execution_count": 188,
     "metadata": {},
     "output_type": "execute_result"
    }
   ],
   "source": [
    "AG_target_base_strand_plus(\"NM_001385633\")"
   ]
  },
  {
   "cell_type": "code",
   "execution_count": 189,
   "id": "a817ecdc",
   "metadata": {},
   "outputs": [
    {
     "data": {
      "text/plain": [
       "array([], dtype=int32)"
      ]
     },
     "execution_count": 189,
     "metadata": {},
     "output_type": "execute_result"
    }
   ],
   "source": [
    "AG_target_base_strand_plus(\"NM_001301868\")"
   ]
  },
  {
   "cell_type": "code",
   "execution_count": null,
   "id": "3d57b545",
   "metadata": {},
   "outputs": [],
   "source": []
  },
  {
   "cell_type": "code",
   "execution_count": null,
   "id": "bf3ee7d2",
   "metadata": {},
   "outputs": [],
   "source": []
  }
 ],
 "metadata": {
  "kernelspec": {
   "display_name": "Python 3",
   "language": "python",
   "name": "python3"
  },
  "language_info": {
   "codemirror_mode": {
    "name": "ipython",
    "version": 3
   },
   "file_extension": ".py",
   "mimetype": "text/x-python",
   "name": "python",
   "nbconvert_exporter": "python",
   "pygments_lexer": "ipython3",
   "version": "3.8.8"
  }
 },
 "nbformat": 4,
 "nbformat_minor": 5
}
