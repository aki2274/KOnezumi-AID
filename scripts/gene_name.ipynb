{
 "cells": [
  {
   "cell_type": "code",
   "execution_count": 38,
   "id": "ffe04161",
   "metadata": {},
   "outputs": [],
   "source": [
    "import re\n",
    "\n",
    "def split_by_space(text):\n",
    "    return re.split('\\s+', text)"
   ]
  },
  {
   "cell_type": "code",
   "execution_count": null,
   "id": "7d30cf51",
   "metadata": {},
   "outputs": [],
   "source": [
    "def get_name(path):\n",
    "    name={}\n",
    "    with open(path, \"r\", encoding=\"utf-8\") as file:\n",
    "        lines =file.readlines()\n",
    "    \n",
    "    for line in lines:\n",
    "        line =split_by_space(line)\n",
    "        key = line[1]\n",
    "        value = line[0]\n",
    "        name[key] = value\n",
    "        \n",
    "    return name\n",
    "    "
   ]
  }
 ],
 "metadata": {
  "kernelspec": {
   "display_name": "Python 3",
   "language": "python",
   "name": "python3"
  },
  "language_info": {
   "codemirror_mode": {
    "name": "ipython",
    "version": 3
   },
   "file_extension": ".py",
   "mimetype": "text/x-python",
   "name": "python",
   "nbconvert_exporter": "python",
   "pygments_lexer": "ipython3",
   "version": "3.8.8"
  }
 },
 "nbformat": 4,
 "nbformat_minor": 5
}
