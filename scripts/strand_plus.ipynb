{
 "cells": [
  {
   "cell_type": "code",
   "execution_count": 1,
   "id": "ad239b1e",
   "metadata": {},
   "outputs": [],
   "source": [
    "import pandas as pd\n",
    "import numpy as np\n",
    "from pandas import DataFrame, Series\n",
    "\n",
    "path = \"refFlat.txt\"\n",
    "path_fa = \"result.fa\""
   ]
  },
  {
   "cell_type": "code",
   "execution_count": 2,
   "id": "15fdd2a8",
   "metadata": {},
   "outputs": [],
   "source": [
    "def read_fasta(file_path):\n",
    "    sequences = {}\n",
    "    seq_id = None\n",
    "    current_seq = \"\"\n",
    "\n",
    "    with open(file_path, \"r\") as file:\n",
    "        for line in file:\n",
    "            line = line.strip()\n",
    "\n",
    "            if line.startswith(\">\"):  \n",
    "                if seq_id is not None:\n",
    "                    sequences[seq_id] = current_seq\n",
    "                    current_seq = \"\"\n",
    "                seq_id = line[1:]  \n",
    "            else:\n",
    "                current_seq += line\n",
    "\n",
    "        if seq_id is not None and current_seq != \"\":\n",
    "            sequences[seq_id] = current_seq\n",
    "\n",
    "    return sequences\n",
    "\n"
   ]
  },
  {
   "cell_type": "code",
   "execution_count": 3,
   "id": "f9d1ba5d",
   "metadata": {},
   "outputs": [],
   "source": [
    "import re\n",
    "\n",
    "def split_by_space(text):\n",
    "    return re.split('\\s+', text)"
   ]
  },
  {
   "cell_type": "code",
   "execution_count": 4,
   "id": "4b13ee7a",
   "metadata": {},
   "outputs": [],
   "source": [
    "def gene_data(text_list):\n",
    "    contents =[]\n",
    "    for i in range(len(text_list)-1):\n",
    "        contents.append(text_list[i])\n",
    "    return contents"
   ]
  },
  {
   "cell_type": "code",
   "execution_count": 5,
   "id": "a6f7d54c",
   "metadata": {},
   "outputs": [],
   "source": [
    "def result(path):\n",
    "    with open(path, \"r\", encoding=\"utf-8\") as file:\n",
    "        lines =file.readlines()\n",
    "    result = []\n",
    "    for line in lines:\n",
    "        line =split_by_space(line)\n",
    "        contents=gene_data(line)\n",
    "        result.append(contents)\n",
    "    return result\n",
    "    "
   ]
  },
  {
   "cell_type": "code",
   "execution_count": 6,
   "id": "e4b25897",
   "metadata": {},
   "outputs": [],
   "source": [
    "gene_data =result(path)\n",
    "col_names =['geneName','name','chrom','strand','txStart','txEnd','cdsStart','cdsEnd','exonCount','exonStarts','exonEnds']\n",
    "gene_df=pd.DataFrame(gene_data,columns=col_names)"
   ]
  },
  {
   "cell_type": "code",
   "execution_count": 7,
   "id": "fd8857d2",
   "metadata": {},
   "outputs": [],
   "source": [
    "base_data = read_fasta(path_fa)"
   ]
  },
  {
   "cell_type": "code",
   "execution_count": 8,
   "id": "789349f9",
   "metadata": {},
   "outputs": [],
   "source": [
    "df=gene_df[gene_df.duplicated('name', keep=False)]"
   ]
  },
  {
   "cell_type": "code",
   "execution_count": 9,
   "id": "146fdf3d",
   "metadata": {},
   "outputs": [],
   "source": [
    "def target_base_CT_plus(seq):\n",
    "    match = re.findall('(?=(\\w{20}GG))', seq)\n",
    "    target_list=[]\n",
    "    for i in range(len(match)):\n",
    "        target = match[i][0:3]\n",
    "        if target =='CAA'or target =='CAG'or target =='CGA':\n",
    "            target_list.append(True)\n",
    "        \n",
    "        else:\n",
    "            target_list.append(False)\n",
    "    result =[match[s] for s in range(len(match)) if target_list[s]]\n",
    "    result = list(dict.fromkeys(result))\n",
    "    return result"
   ]
  },
  {
   "cell_type": "code",
   "execution_count": 10,
   "id": "325e7334",
   "metadata": {},
   "outputs": [],
   "source": [
    "def target_base_AG_plsu(seq):\n",
    "    match = re.findall('(?=(CC\\w{20}))', seq)\n",
    "    target_list=[]\n",
    "    print(match)\n",
    "    for i in range(len(match)):\n",
    "        target = match[i][-3:]\n",
    "        print(target)\n",
    "        if target =='TGG':\n",
    "            target_list.append(True)\n",
    "        \n",
    "        else:\n",
    "            target_list.append(False)\n",
    "    result =[match[s] for s in range(len(match)) if target_list[s]]\n",
    "    result = list(dict.fromkeys(result))\n",
    "    return result"
   ]
  },
  {
   "cell_type": "code",
   "execution_count": 11,
   "id": "f814ddb8",
   "metadata": {},
   "outputs": [],
   "source": [
    "def target_start(target_list,qua):    \n",
    "    result = []\n",
    "    for i in target_list:\n",
    "        matches = re.finditer(i, qua)\n",
    "        for match in matches:\n",
    "            start_index = match.start()\n",
    "            result.append(start_index)\n",
    "    return result"
   ]
  },
  {
   "cell_type": "code",
   "execution_count": 12,
   "id": "be458403",
   "metadata": {},
   "outputs": [],
   "source": [
    "def target_gene_start(name,target):\n",
    "    data = gene_df[gene_df['name']==name]\n",
    "    num = data['txStart'].astype(int).to_numpy()\n",
    "    target = np.array(target)\n",
    "    result = target+num\n",
    "    #ここ-1が必要かもしれない？\n",
    "    return result\n",
    "    "
   ]
  },
  {
   "cell_type": "code",
   "execution_count": 13,
   "id": "104978e5",
   "metadata": {},
   "outputs": [],
   "source": [
    "samp = base_data[\"NM_001385633::chr7:44239875-44254175\"]"
   ]
  },
  {
   "cell_type": "code",
   "execution_count": 14,
   "id": "d1717819",
   "metadata": {},
   "outputs": [
    {
     "data": {
      "text/plain": [
       "array([44240815, 44240885, 44241000, 44241367, 44241812, 44242688,\n",
       "       44242785, 44243474, 44243482, 44243814, 44244057, 44244134,\n",
       "       44244358, 44244421, 44244686, 44245681, 44245743, 44245822,\n",
       "       44246523, 44246563, 44246622, 44246632, 44246729, 44246920,\n",
       "       44246925, 44246957, 44247801, 44247903, 44248299, 44248492,\n",
       "       44248645, 44249281, 44249589, 44250214, 44251317, 44251431,\n",
       "       44251549, 44252026, 44252959, 44253235, 44253896, 44253952,\n",
       "       44253991, 44253995])"
      ]
     },
     "execution_count": 14,
     "metadata": {},
     "output_type": "execute_result"
    }
   ],
   "source": [
    "target_gene_start(\"NM_001385633\",target_start(target_base_CT_plus(samp),samp))"
   ]
  },
  {
   "cell_type": "code",
   "execution_count": null,
   "id": "dbb8b375",
   "metadata": {},
   "outputs": [],
   "source": []
  },
  {
   "cell_type": "code",
   "execution_count": 15,
   "id": "e4ad926a",
   "metadata": {},
   "outputs": [],
   "source": [
    "def exon_data(name,sequence_data):\n",
    "    data = gene_df[gene_df['name']==name]\n",
    "    set_num =int(data['txStart'].to_list()[0])\n",
    "    start = data['exonStarts'].to_list()[0]\n",
    "    end = data['exonEnds'].to_list()[0]#最後に空白があるからその対処\n",
    "    exon_seq_list = []\n",
    "    start_list = [num for num in start.split(\",\")]\n",
    "    end_list = [num for num in end.split(\",\")]\n",
    "    for s in range(len(start_list)-1):\n",
    "        start_num = int(start_list[s])- set_num\n",
    "        \n",
    "        end_num= int(end_list[s]) - set_num\n",
    "    \n",
    "        \n",
    "        exon_seq =sequence_data[start_num:end_num]\n",
    "        exon_seq_list.append(exon_seq)\n",
    "        \n",
    "    \n",
    "    \n",
    "    return ''.join(exon_seq_list)"
   ]
  },
  {
   "cell_type": "code",
   "execution_count": 16,
   "id": "448bdc9b",
   "metadata": {},
   "outputs": [],
   "source": [
    "def where_start_codon(name,exon_data):\n",
    "    data = gene_df[gene_df['name']==name]\n",
    "    cdsStart =int(data['cdsStart'].to_list()[0])\n",
    "    set_num =int(data['cdsStart'].to_list()[0])-int(data['txStart'].to_list()[0])\n",
    "    start = data['exonStarts'].to_list()[0]\n",
    "    end = data['exonEnds'].to_list()[0]#最後に空白があるからその対処\n",
    "    start = list(start.split(','))\n",
    "    end = list(end.split(','))\n",
    "    for s in range(len(start)-1):\n",
    "        if (int(start[s]) <= cdsStart<=int(end[s])):\n",
    "            cds =s\n",
    "            \n",
    "    return exon_num\n"
   ]
  },
  {
   "cell_type": "code",
   "execution_count": 17,
   "id": "4a9f056d",
   "metadata": {},
   "outputs": [],
   "source": [
    "def start_codon(name,exon_data,exon_num):\n",
    "    data = gene_df[gene_df['name']==name]\n",
    "    set_num =int(data['cdsStart'].to_list()[0])-int(data['txStart'].to_list()[0])\n",
    "    CDs =''\n",
    "    start = data['exonStarts'].to_list()[0]\n",
    "    end = data['exonEnds'].to_list()[0]#最後に空白があるからその対処\n",
    "    start = list(start.split(','))\n",
    "    end = list(end.split(','))\n",
    "    cds_list=[]\n",
    "    if exon_num == 0:\n",
    "            cds_list.append(exon_data[set_num:int(end[0])-int(data['txStart'].to_list()[0])])\n",
    "            for s in range(1,len(start)-1):\n",
    "                cds_list.append(exon_data[int(start[s])-int(data['txStart'].to_list()[0]):int(end[s])-int(data['txStart'].to_list()[0])])\n",
    "              \n",
    "    \n",
    "    #elseは要修正\n",
    "    else:     \n",
    "        start_num = int(data['cdsStart'].to_list()[0])- int(start[exon_num])\n",
    "\n",
    "        for s in range(exon_num):\n",
    "            start_num += int(end[s])-int(start[s])\n",
    "        cds_list.append(exon_data[start_num:end[exson_num]])\n",
    "        \n",
    "        for t in range(exon_num+1,len(start)-1):\n",
    "                cds_list.append(exon_data[start[t]:end[t]])\n",
    "        \n",
    "        \n",
    "    return ''.join(cds_list)\n",
    "\n"
   ]
  },
  {
   "cell_type": "code",
   "execution_count": 18,
   "id": "1c83ebfd",
   "metadata": {},
   "outputs": [],
   "source": [
    "def end_codon(cds_seq):\n",
    "    matches = re.finditer('(?=(CAA)|(?=(CAG))|(?=(CGA))|(?=(TGG)))', cds_seq)\n",
    "    result=[]\n",
    "    for match in matches:\n",
    "        start_pos = match.start() \n",
    "        \n",
    "        if (start_pos % 3) == 0:\n",
    "            result.append(start_pos)\n",
    "    return result"
   ]
  },
  {
   "cell_type": "code",
   "execution_count": 22,
   "id": "cb869fe1",
   "metadata": {},
   "outputs": [],
   "source": [
    "def add_num(name,exon_num):#if分以降が使えそう\n",
    "    \n",
    "    data = gene_df[gene_df['name']==name]\n",
    "    set_num =int(data['cdsStart'].to_list()[0])\n",
    "    start = data['exonStarts'].to_list()[0]\n",
    "    end = data['exonEnds'].to_list()[0]#最後に空白があるからその対処\n",
    "    start = list(start.split(','))\n",
    "    end = list(end.split(','))\n",
    "    if exon_num == 0:\n",
    "        add_result= set_num\n",
    "    else:\n",
    "        add_result= int(start[exon_num])\n",
    "        \n",
    "    return add_result"
   ]
  },
  {
   "cell_type": "code",
   "execution_count": 23,
   "id": "a1c6110c",
   "metadata": {},
   "outputs": [],
   "source": [
    "def add_num_list(name,exon_data):#修正が必要\n",
    "    data = gene_df[gene_df['name']==name]\n",
    "    set_num =int(data['cdsStart'].to_list()[0])\n",
    "    start = data['exonStarts'].to_list()[0]\n",
    "    end = data['exonEnds'].to_list()[0]#最後に空白があるからその対処\n",
    "    start = list(start.split(','))\n",
    "    end = list(end.split(','))\n",
    "    add_list=[]\n",
    "    num = 0\n",
    "    for s in range(len(start)-1):\n",
    "        element_list=[]\n",
    "        element_list.append(num)\n",
    "        \n",
    "        num += int(end[s])-int(start[s])\n",
    "        \n",
    "        element_list.append(num)\n",
    "        add_list.append(element_list)\n",
    "        \n",
    "    return add_list"
   ]
  },
  {
   "cell_type": "code",
   "execution_count": null,
   "id": "299cbcc9",
   "metadata": {},
   "outputs": [],
   "source": [
    "start_codon('NM_001385633', base_data[\"NM_001385633::chr7:44239875-44254175\"],0)"
   ]
  },
  {
   "cell_type": "code",
   "execution_count": 31,
   "id": "7a3c1fcb",
   "metadata": {},
   "outputs": [],
   "source": [
    "end_num =end_codon(start_codon('NM_001385633', base_data[\"NM_001385633::chr7:44239875-44254175\"],0))"
   ]
  },
  {
   "cell_type": "code",
   "execution_count": 24,
   "id": "5738d071",
   "metadata": {},
   "outputs": [
    {
     "data": {
      "text/plain": [
       "[[0, 1307], [1307, 2415], [2415, 2610], [2610, 2670], [2670, 5553]]"
      ]
     },
     "execution_count": 24,
     "metadata": {},
     "output_type": "execute_result"
    }
   ],
   "source": [
    "add_num_list('NM_001385633', base_data[\"NM_001385633::chr7:44239875-44254175\"])"
   ]
  },
  {
   "cell_type": "code",
   "execution_count": 55,
   "id": "f3c1a136",
   "metadata": {},
   "outputs": [],
   "source": [
    "def add_num(name,number_list, interval_list):\n",
    "    indices = []\n",
    "    for number in number_list:\n",
    "        for index, interval in enumerate(interval_list):\n",
    "            if int(interval[0]) <= int(number) < int(interval[1]):\n",
    "                indices.append(index)\n",
    "                break\n",
    "            \n",
    "    data = gene_df[gene_df['name']==name]\n",
    "    set_num =int(data['cdsStart'].to_list()[0])\n",
    "    start = data['exonStarts'].to_list()[0]\n",
    "    end = data['exonEnds'].to_list()[0]#最後に空白があるからその対処\n",
    "    start = list(start.split(','))\n",
    "    end = list(end.split(','))\n",
    "    add_result=[]\n",
    "    for i in indices:\n",
    "        if i == 0:\n",
    "            add_result.append(set_num)\n",
    "        else:\n",
    "            add_result.append(int(start[i]))\n",
    "        \n",
    "    return add_result"
   ]
  },
  {
   "cell_type": "code",
   "execution_count": 57,
   "id": "8c5e1868",
   "metadata": {},
   "outputs": [],
   "source": [
    "ad_lis=add_num('NM_001385633',end_num, add_num_list('NM_001385633', base_data[\"NM_001385633::chr7:44239875-44254175\"]))"
   ]
  },
  {
   "cell_type": "code",
   "execution_count": 58,
   "id": "101068d8",
   "metadata": {},
   "outputs": [],
   "source": [
    "end_num = np.array(end_num)"
   ]
  },
  {
   "cell_type": "code",
   "execution_count": 60,
   "id": "3f0af0a7",
   "metadata": {},
   "outputs": [
    {
     "data": {
      "text/plain": [
       "array([  21,   39,  138,  525,  561,  576,  744,  804,  807,  816,  819,\n",
       "        831,  975, 1074, 1485, 1488, 1542, 1659, 1704, 1950, 2049, 2118,\n",
       "       2169, 2427, 2439, 2484, 2493, 2499, 2502, 2559, 2655, 2721, 2733,\n",
       "       2736, 2760, 2826, 2841, 2970, 3000, 3054, 3060, 3093, 3234, 3246,\n",
       "       3363, 3408, 3423, 3444, 3465, 3519, 3525, 3543, 3567, 3603, 3612,\n",
       "       3648, 3708, 3855, 3903, 3915, 3921, 4005, 4014, 4179, 4251, 4275,\n",
       "       4284, 4296, 4380, 4581, 4695, 4698, 4797, 4821, 4836, 4878, 4896,\n",
       "       4902, 4911, 4935, 5013])"
      ]
     },
     "execution_count": 60,
     "metadata": {},
     "output_type": "execute_result"
    }
   ],
   "source": [
    "end_num"
   ]
  },
  {
   "cell_type": "code",
   "execution_count": 62,
   "id": "9b86aee1",
   "metadata": {},
   "outputs": [],
   "source": [
    "ad_lis = np.array(ad_lis)"
   ]
  },
  {
   "cell_type": "code",
   "execution_count": 63,
   "id": "144a8c72",
   "metadata": {},
   "outputs": [
    {
     "data": {
      "text/plain": [
       "array([44240309, 44240309, 44240309, 44240309, 44240309, 44240309,\n",
       "       44240309, 44240309, 44240309, 44240309, 44240309, 44240309,\n",
       "       44240309, 44240309, 44244584, 44244584, 44244584, 44244584,\n",
       "       44244584, 44244584, 44244584, 44244584, 44244584, 44247804,\n",
       "       44247804, 44247804, 44247804, 44247804, 44247804, 44247804,\n",
       "       44250292, 44251292, 44251292, 44251292, 44251292, 44251292,\n",
       "       44251292, 44251292, 44251292, 44251292, 44251292, 44251292,\n",
       "       44251292, 44251292, 44251292, 44251292, 44251292, 44251292,\n",
       "       44251292, 44251292, 44251292, 44251292, 44251292, 44251292,\n",
       "       44251292, 44251292, 44251292, 44251292, 44251292, 44251292,\n",
       "       44251292, 44251292, 44251292, 44251292, 44251292, 44251292,\n",
       "       44251292, 44251292, 44251292, 44251292, 44251292, 44251292,\n",
       "       44251292, 44251292, 44251292, 44251292, 44251292, 44251292,\n",
       "       44251292, 44251292, 44251292])"
      ]
     },
     "execution_count": 63,
     "metadata": {},
     "output_type": "execute_result"
    }
   ],
   "source": [
    "ad_lis"
   ]
  },
  {
   "cell_type": "code",
   "execution_count": 64,
   "id": "75658654",
   "metadata": {},
   "outputs": [],
   "source": [
    "a = end_num+ad_lis"
   ]
  },
  {
   "cell_type": "code",
   "execution_count": 65,
   "id": "ae0ef677",
   "metadata": {},
   "outputs": [],
   "source": [
    "b=target_gene_start(\"NM_001385633\",target_start(target_base_CT_plus(samp),samp))"
   ]
  },
  {
   "cell_type": "code",
   "execution_count": 66,
   "id": "48dd87cb",
   "metadata": {},
   "outputs": [
    {
     "data": {
      "text/plain": [
       "array([44240815, 44240885, 44241000, 44241367, 44241812, 44242688,\n",
       "       44242785, 44243474, 44243482, 44243814, 44244057, 44244134,\n",
       "       44244358, 44244421, 44244686, 44245681, 44245743, 44245822,\n",
       "       44246523, 44246563, 44246622, 44246632, 44246729, 44246920,\n",
       "       44246925, 44246957, 44247801, 44247903, 44248299, 44248492,\n",
       "       44248645, 44249281, 44249589, 44250214, 44251317, 44251431,\n",
       "       44251549, 44252026, 44252959, 44253235, 44253896, 44253952,\n",
       "       44253991, 44253995])"
      ]
     },
     "execution_count": 66,
     "metadata": {},
     "output_type": "execute_result"
    }
   ],
   "source": [
    "target_gene_start(\"NM_001385633\",target_start(target_base_CT_plus(samp),samp))"
   ]
  },
  {
   "cell_type": "code",
   "execution_count": 67,
   "id": "e5782c4a",
   "metadata": {},
   "outputs": [],
   "source": [
    "common_elements = np.intersect1d(a,b)"
   ]
  },
  {
   "cell_type": "code",
   "execution_count": 68,
   "id": "7e50d8a2",
   "metadata": {},
   "outputs": [
    {
     "data": {
      "text/plain": [
       "array([44240885])"
      ]
     },
     "execution_count": 68,
     "metadata": {},
     "output_type": "execute_result"
    }
   ],
   "source": [
    "common_elements "
   ]
  },
  {
   "cell_type": "code",
   "execution_count": null,
   "id": "e3586fab",
   "metadata": {},
   "outputs": [],
   "source": []
  }
 ],
 "metadata": {
  "kernelspec": {
   "display_name": "Python 3",
   "language": "python",
   "name": "python3"
  },
  "language_info": {
   "codemirror_mode": {
    "name": "ipython",
    "version": 3
   },
   "file_extension": ".py",
   "mimetype": "text/x-python",
   "name": "python",
   "nbconvert_exporter": "python",
   "pygments_lexer": "ipython3",
   "version": "3.8.8"
  }
 },
 "nbformat": 4,
 "nbformat_minor": 5
}
