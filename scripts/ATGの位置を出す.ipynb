{
 "cells": [
  {
   "cell_type": "code",
   "execution_count": 34,
   "id": "08c61219",
   "metadata": {},
   "outputs": [],
   "source": [
    "import pandas as pd\n",
    "import numpy as np\n",
    "from pandas import DataFrame, Series\n",
    "\n",
    "path = \"refFlat.txt\"\n",
    "path_fa = \"result.fa\""
   ]
  },
  {
   "cell_type": "code",
   "execution_count": 35,
   "id": "a9855acc",
   "metadata": {},
   "outputs": [],
   "source": [
    "def read_fasta(file_path):\n",
    "    sequences = {}\n",
    "    seq_id = None\n",
    "    current_seq = \"\"\n",
    "\n",
    "    with open(file_path, \"r\") as file:\n",
    "        for line in file:\n",
    "            line = line.strip()\n",
    "\n",
    "            if line.startswith(\">\"):  \n",
    "                if seq_id is not None:\n",
    "                    sequences[seq_id] = current_seq\n",
    "                    current_seq = \"\"\n",
    "                seq_id = line[1:]  \n",
    "            else:\n",
    "                current_seq += line\n",
    "\n",
    "        if seq_id is not None and current_seq != \"\":\n",
    "            sequences[seq_id] = current_seq\n",
    "\n",
    "    return sequences\n",
    "\n"
   ]
  },
  {
   "cell_type": "code",
   "execution_count": 36,
   "id": "7db4aa30",
   "metadata": {},
   "outputs": [],
   "source": [
    "import re\n",
    "\n",
    "def split_by_space(text):\n",
    "    return re.split('\\s+', text)"
   ]
  },
  {
   "cell_type": "code",
   "execution_count": 37,
   "id": "c132003f",
   "metadata": {},
   "outputs": [],
   "source": [
    "def gene_data(text_list):\n",
    "    contents =[]\n",
    "    for i in range(len(text_list)-1):\n",
    "        contents.append(text_list[i])\n",
    "    return contents"
   ]
  },
  {
   "cell_type": "code",
   "execution_count": 38,
   "id": "a5e6edac",
   "metadata": {},
   "outputs": [],
   "source": [
    "def result(path):\n",
    "    with open(path, \"r\", encoding=\"utf-8\") as file:\n",
    "        lines =file.readlines()\n",
    "    result = []\n",
    "    for line in lines:\n",
    "        line =split_by_space(line)\n",
    "        contents=gene_data(line)\n",
    "        result.append(contents)\n",
    "    return result\n",
    "    "
   ]
  },
  {
   "cell_type": "code",
   "execution_count": 39,
   "id": "937c6445",
   "metadata": {},
   "outputs": [],
   "source": [
    "gene_data =result(path)\n",
    "col_names =['geneName','name','chrom','strand','txStart','txEnd','cdsStart','cdsEnd','exonCount','exonStarts','exonEnds']\n",
    "gene_df=pd.DataFrame(gene_data,columns=col_names)\n",
    "base_data = read_fasta(path_fa)"
   ]
  },
  {
   "cell_type": "raw",
   "id": "48ece338",
   "metadata": {},
   "source": [
    "base_data"
   ]
  },
  {
   "cell_type": "code",
   "execution_count": 97,
   "id": "6a62d2a3",
   "metadata": {},
   "outputs": [],
   "source": [
    "import pandas as pd\n",
    "\n",
    "\n",
    "# 初めのカンマまでの部分を新しい列に追加\n",
    "gene_df['exonStartPrefix'] = gene_df['exonStarts'].str.split(',').str.get(0)\n"
   ]
  },
  {
   "cell_type": "code",
   "execution_count": 100,
   "id": "6f919a19",
   "metadata": {},
   "outputs": [
    {
     "data": {
      "text/html": [
       "<div>\n",
       "<style scoped>\n",
       "    .dataframe tbody tr th:only-of-type {\n",
       "        vertical-align: middle;\n",
       "    }\n",
       "\n",
       "    .dataframe tbody tr th {\n",
       "        vertical-align: top;\n",
       "    }\n",
       "\n",
       "    .dataframe thead th {\n",
       "        text-align: right;\n",
       "    }\n",
       "</style>\n",
       "<table border=\"1\" class=\"dataframe\">\n",
       "  <thead>\n",
       "    <tr style=\"text-align: right;\">\n",
       "      <th></th>\n",
       "      <th>geneName</th>\n",
       "      <th>name</th>\n",
       "      <th>chrom</th>\n",
       "      <th>strand</th>\n",
       "      <th>txStart</th>\n",
       "      <th>txEnd</th>\n",
       "      <th>cdsStart</th>\n",
       "      <th>cdsEnd</th>\n",
       "      <th>exonCount</th>\n",
       "      <th>exonStarts</th>\n",
       "      <th>exonEnds</th>\n",
       "      <th>exonStartPrefix</th>\n",
       "    </tr>\n",
       "  </thead>\n",
       "  <tbody>\n",
       "  </tbody>\n",
       "</table>\n",
       "</div>"
      ],
      "text/plain": [
       "Empty DataFrame\n",
       "Columns: [geneName, name, chrom, strand, txStart, txEnd, cdsStart, cdsEnd, exonCount, exonStarts, exonEnds, exonStartPrefix]\n",
       "Index: []"
      ]
     },
     "execution_count": 100,
     "metadata": {},
     "output_type": "execute_result"
    }
   ],
   "source": [
    "mismatched_rows = gene_df[gene_df['txStart'] != gene_df['exonStartPrefix']]\n",
    "mismatched_rows"
   ]
  },
  {
   "cell_type": "code",
   "execution_count": 98,
   "id": "848fd6bd",
   "metadata": {
    "scrolled": false
   },
   "outputs": [
    {
     "data": {
      "text/html": [
       "<div>\n",
       "<style scoped>\n",
       "    .dataframe tbody tr th:only-of-type {\n",
       "        vertical-align: middle;\n",
       "    }\n",
       "\n",
       "    .dataframe tbody tr th {\n",
       "        vertical-align: top;\n",
       "    }\n",
       "\n",
       "    .dataframe thead th {\n",
       "        text-align: right;\n",
       "    }\n",
       "</style>\n",
       "<table border=\"1\" class=\"dataframe\">\n",
       "  <thead>\n",
       "    <tr style=\"text-align: right;\">\n",
       "      <th></th>\n",
       "      <th>geneName</th>\n",
       "      <th>name</th>\n",
       "      <th>chrom</th>\n",
       "      <th>strand</th>\n",
       "      <th>txStart</th>\n",
       "      <th>txEnd</th>\n",
       "      <th>cdsStart</th>\n",
       "      <th>cdsEnd</th>\n",
       "      <th>exonCount</th>\n",
       "      <th>exonStarts</th>\n",
       "      <th>exonEnds</th>\n",
       "      <th>exonStartPrefix</th>\n",
       "    </tr>\n",
       "  </thead>\n",
       "  <tbody>\n",
       "    <tr>\n",
       "      <th>47721</th>\n",
       "      <td>Kcnc3</td>\n",
       "      <td>NM_001385634</td>\n",
       "      <td>chr7</td>\n",
       "      <td>+</td>\n",
       "      <td>44236780</td>\n",
       "      <td>44254175</td>\n",
       "      <td>44244806</td>\n",
       "      <td>44250270</td>\n",
       "      <td>4</td>\n",
       "      <td>44236780,44244584,44247804,44250097,</td>\n",
       "      <td>44236890,44245692,44247999,44254175,</td>\n",
       "      <td>44236780</td>\n",
       "    </tr>\n",
       "    <tr>\n",
       "      <th>47722</th>\n",
       "      <td>Kcnc3</td>\n",
       "      <td>NM_001385635</td>\n",
       "      <td>chr7</td>\n",
       "      <td>+</td>\n",
       "      <td>44236780</td>\n",
       "      <td>44254175</td>\n",
       "      <td>44244806</td>\n",
       "      <td>44251429</td>\n",
       "      <td>4</td>\n",
       "      <td>44236780,44244584,44247804,44251292,</td>\n",
       "      <td>44236890,44245692,44247999,44254175,</td>\n",
       "      <td>44236780</td>\n",
       "    </tr>\n",
       "    <tr>\n",
       "      <th>47723</th>\n",
       "      <td>Kcnc3</td>\n",
       "      <td>NM_001385636</td>\n",
       "      <td>chr7</td>\n",
       "      <td>+</td>\n",
       "      <td>44236780</td>\n",
       "      <td>44254175</td>\n",
       "      <td>44244806</td>\n",
       "      <td>44248333</td>\n",
       "      <td>5</td>\n",
       "      <td>44236780,44244584,44247804,44248229,44250097,</td>\n",
       "      <td>44236890,44245692,44247999,44248357,44254175,</td>\n",
       "      <td>44236780</td>\n",
       "    </tr>\n",
       "    <tr>\n",
       "      <th>47724</th>\n",
       "      <td>Kcnc3</td>\n",
       "      <td>NM_001385637</td>\n",
       "      <td>chr7</td>\n",
       "      <td>+</td>\n",
       "      <td>44236780</td>\n",
       "      <td>44254175</td>\n",
       "      <td>44244806</td>\n",
       "      <td>44250309</td>\n",
       "      <td>5</td>\n",
       "      <td>44236780,44244584,44247804,44250292,44251292,</td>\n",
       "      <td>44236890,44245692,44247999,44250352,44254175,</td>\n",
       "      <td>44236780</td>\n",
       "    </tr>\n",
       "    <tr>\n",
       "      <th>47725</th>\n",
       "      <td>Kcnc3</td>\n",
       "      <td>NM_001290682</td>\n",
       "      <td>chr7</td>\n",
       "      <td>+</td>\n",
       "      <td>44239875</td>\n",
       "      <td>44254175</td>\n",
       "      <td>44240309</td>\n",
       "      <td>44248333</td>\n",
       "      <td>5</td>\n",
       "      <td>44239875,44244584,44247807,44248229,44251292,</td>\n",
       "      <td>44241182,44245692,44247999,44248357,44254175,</td>\n",
       "      <td>44239875</td>\n",
       "    </tr>\n",
       "    <tr>\n",
       "      <th>47726</th>\n",
       "      <td>Kcnc3</td>\n",
       "      <td>NM_001385625</td>\n",
       "      <td>chr7</td>\n",
       "      <td>+</td>\n",
       "      <td>44239875</td>\n",
       "      <td>44254175</td>\n",
       "      <td>44240309</td>\n",
       "      <td>44250270</td>\n",
       "      <td>4</td>\n",
       "      <td>44239875,44244584,44247804,44250097,</td>\n",
       "      <td>44241182,44245692,44247999,44254175,</td>\n",
       "      <td>44239875</td>\n",
       "    </tr>\n",
       "    <tr>\n",
       "      <th>47727</th>\n",
       "      <td>Kcnc3</td>\n",
       "      <td>NM_001385626</td>\n",
       "      <td>chr7</td>\n",
       "      <td>+</td>\n",
       "      <td>44239875</td>\n",
       "      <td>44254175</td>\n",
       "      <td>44240309</td>\n",
       "      <td>44250270</td>\n",
       "      <td>4</td>\n",
       "      <td>44239875,44244584,44247807,44250097,</td>\n",
       "      <td>44241182,44245692,44247999,44254175,</td>\n",
       "      <td>44239875</td>\n",
       "    </tr>\n",
       "    <tr>\n",
       "      <th>47728</th>\n",
       "      <td>Kcnc3</td>\n",
       "      <td>NM_001385627</td>\n",
       "      <td>chr7</td>\n",
       "      <td>+</td>\n",
       "      <td>44239875</td>\n",
       "      <td>44254175</td>\n",
       "      <td>44240309</td>\n",
       "      <td>44251429</td>\n",
       "      <td>4</td>\n",
       "      <td>44239875,44244584,44247804,44251292,</td>\n",
       "      <td>44241182,44245692,44247999,44254175,</td>\n",
       "      <td>44239875</td>\n",
       "    </tr>\n",
       "    <tr>\n",
       "      <th>47729</th>\n",
       "      <td>Kcnc3</td>\n",
       "      <td>NM_001385628</td>\n",
       "      <td>chr7</td>\n",
       "      <td>+</td>\n",
       "      <td>44239875</td>\n",
       "      <td>44254175</td>\n",
       "      <td>44240309</td>\n",
       "      <td>44248333</td>\n",
       "      <td>6</td>\n",
       "      <td>44239875,44244584,44247013,44247804,44248229,4...</td>\n",
       "      <td>44241182,44245692,44247043,44247999,44248357,4...</td>\n",
       "      <td>44239875</td>\n",
       "    </tr>\n",
       "    <tr>\n",
       "      <th>47730</th>\n",
       "      <td>Kcnc3</td>\n",
       "      <td>NM_001385629</td>\n",
       "      <td>chr7</td>\n",
       "      <td>+</td>\n",
       "      <td>44239875</td>\n",
       "      <td>44254175</td>\n",
       "      <td>44240309</td>\n",
       "      <td>44248333</td>\n",
       "      <td>5</td>\n",
       "      <td>44239875,44244584,44247804,44248229,44250097,</td>\n",
       "      <td>44241182,44245692,44247999,44248357,44254175,</td>\n",
       "      <td>44239875</td>\n",
       "    </tr>\n",
       "    <tr>\n",
       "      <th>47731</th>\n",
       "      <td>Kcnc3</td>\n",
       "      <td>NM_001385630</td>\n",
       "      <td>chr7</td>\n",
       "      <td>+</td>\n",
       "      <td>44239875</td>\n",
       "      <td>44254175</td>\n",
       "      <td>44240309</td>\n",
       "      <td>44248333</td>\n",
       "      <td>5</td>\n",
       "      <td>44239875,44244584,44247804,44248229,44250292,</td>\n",
       "      <td>44241182,44245692,44247999,44248357,44254175,</td>\n",
       "      <td>44239875</td>\n",
       "    </tr>\n",
       "    <tr>\n",
       "      <th>47732</th>\n",
       "      <td>Kcnc3</td>\n",
       "      <td>NM_001385631</td>\n",
       "      <td>chr7</td>\n",
       "      <td>+</td>\n",
       "      <td>44239875</td>\n",
       "      <td>44254175</td>\n",
       "      <td>44240309</td>\n",
       "      <td>44248333</td>\n",
       "      <td>5</td>\n",
       "      <td>44239875,44244584,44247807,44248229,44250292,</td>\n",
       "      <td>44241182,44245692,44247999,44248357,44254175,</td>\n",
       "      <td>44239875</td>\n",
       "    </tr>\n",
       "    <tr>\n",
       "      <th>47733</th>\n",
       "      <td>Kcnc3</td>\n",
       "      <td>NM_001385632</td>\n",
       "      <td>chr7</td>\n",
       "      <td>+</td>\n",
       "      <td>44239875</td>\n",
       "      <td>44254175</td>\n",
       "      <td>44240309</td>\n",
       "      <td>44250309</td>\n",
       "      <td>4</td>\n",
       "      <td>44239875,44244584,44247804,44250292,</td>\n",
       "      <td>44241182,44245692,44247999,44254175,</td>\n",
       "      <td>44239875</td>\n",
       "    </tr>\n",
       "    <tr>\n",
       "      <th>47734</th>\n",
       "      <td>Kcnc3</td>\n",
       "      <td>NM_001385633</td>\n",
       "      <td>chr7</td>\n",
       "      <td>+</td>\n",
       "      <td>44239875</td>\n",
       "      <td>44254175</td>\n",
       "      <td>44240309</td>\n",
       "      <td>44250309</td>\n",
       "      <td>5</td>\n",
       "      <td>44239875,44244584,44247804,44250292,44251292,</td>\n",
       "      <td>44241182,44245692,44247999,44250352,44254175,</td>\n",
       "      <td>44239875</td>\n",
       "    </tr>\n",
       "    <tr>\n",
       "      <th>47735</th>\n",
       "      <td>Kcnc3</td>\n",
       "      <td>NM_008422</td>\n",
       "      <td>chr7</td>\n",
       "      <td>+</td>\n",
       "      <td>44239875</td>\n",
       "      <td>44254175</td>\n",
       "      <td>44240309</td>\n",
       "      <td>44251429</td>\n",
       "      <td>4</td>\n",
       "      <td>44239875,44244584,44247807,44251292,</td>\n",
       "      <td>44241182,44245692,44247999,44254175,</td>\n",
       "      <td>44239875</td>\n",
       "    </tr>\n",
       "    <tr>\n",
       "      <th>47736</th>\n",
       "      <td>Kcnc3</td>\n",
       "      <td>NR_169735</td>\n",
       "      <td>chr7</td>\n",
       "      <td>+</td>\n",
       "      <td>44239875</td>\n",
       "      <td>44254175</td>\n",
       "      <td>44254175</td>\n",
       "      <td>44254175</td>\n",
       "      <td>6</td>\n",
       "      <td>44239875,44244584,44247804,44248229,44250097,4...</td>\n",
       "      <td>44241182,44245692,44247999,44248357,44250352,4...</td>\n",
       "      <td>44239875</td>\n",
       "    </tr>\n",
       "    <tr>\n",
       "      <th>47737</th>\n",
       "      <td>Kcnc3</td>\n",
       "      <td>NR_169736</td>\n",
       "      <td>chr7</td>\n",
       "      <td>+</td>\n",
       "      <td>44239875</td>\n",
       "      <td>44254175</td>\n",
       "      <td>44254175</td>\n",
       "      <td>44254175</td>\n",
       "      <td>6</td>\n",
       "      <td>44239875,44244584,44247804,44248229,44250292,4...</td>\n",
       "      <td>44241182,44245692,44247999,44248357,44250352,4...</td>\n",
       "      <td>44239875</td>\n",
       "    </tr>\n",
       "    <tr>\n",
       "      <th>47738</th>\n",
       "      <td>Kcnc3</td>\n",
       "      <td>NR_169737</td>\n",
       "      <td>chr7</td>\n",
       "      <td>+</td>\n",
       "      <td>44239875</td>\n",
       "      <td>44254175</td>\n",
       "      <td>44254175</td>\n",
       "      <td>44254175</td>\n",
       "      <td>6</td>\n",
       "      <td>44239875,44244584,44247807,44248229,44250292,4...</td>\n",
       "      <td>44241182,44245692,44247999,44248357,44250352,4...</td>\n",
       "      <td>44239875</td>\n",
       "    </tr>\n",
       "  </tbody>\n",
       "</table>\n",
       "</div>"
      ],
      "text/plain": [
       "      geneName          name chrom strand   txStart     txEnd  cdsStart  \\\n",
       "47721    Kcnc3  NM_001385634  chr7      +  44236780  44254175  44244806   \n",
       "47722    Kcnc3  NM_001385635  chr7      +  44236780  44254175  44244806   \n",
       "47723    Kcnc3  NM_001385636  chr7      +  44236780  44254175  44244806   \n",
       "47724    Kcnc3  NM_001385637  chr7      +  44236780  44254175  44244806   \n",
       "47725    Kcnc3  NM_001290682  chr7      +  44239875  44254175  44240309   \n",
       "47726    Kcnc3  NM_001385625  chr7      +  44239875  44254175  44240309   \n",
       "47727    Kcnc3  NM_001385626  chr7      +  44239875  44254175  44240309   \n",
       "47728    Kcnc3  NM_001385627  chr7      +  44239875  44254175  44240309   \n",
       "47729    Kcnc3  NM_001385628  chr7      +  44239875  44254175  44240309   \n",
       "47730    Kcnc3  NM_001385629  chr7      +  44239875  44254175  44240309   \n",
       "47731    Kcnc3  NM_001385630  chr7      +  44239875  44254175  44240309   \n",
       "47732    Kcnc3  NM_001385631  chr7      +  44239875  44254175  44240309   \n",
       "47733    Kcnc3  NM_001385632  chr7      +  44239875  44254175  44240309   \n",
       "47734    Kcnc3  NM_001385633  chr7      +  44239875  44254175  44240309   \n",
       "47735    Kcnc3     NM_008422  chr7      +  44239875  44254175  44240309   \n",
       "47736    Kcnc3     NR_169735  chr7      +  44239875  44254175  44254175   \n",
       "47737    Kcnc3     NR_169736  chr7      +  44239875  44254175  44254175   \n",
       "47738    Kcnc3     NR_169737  chr7      +  44239875  44254175  44254175   \n",
       "\n",
       "         cdsEnd exonCount                                         exonStarts  \\\n",
       "47721  44250270         4               44236780,44244584,44247804,44250097,   \n",
       "47722  44251429         4               44236780,44244584,44247804,44251292,   \n",
       "47723  44248333         5      44236780,44244584,44247804,44248229,44250097,   \n",
       "47724  44250309         5      44236780,44244584,44247804,44250292,44251292,   \n",
       "47725  44248333         5      44239875,44244584,44247807,44248229,44251292,   \n",
       "47726  44250270         4               44239875,44244584,44247804,44250097,   \n",
       "47727  44250270         4               44239875,44244584,44247807,44250097,   \n",
       "47728  44251429         4               44239875,44244584,44247804,44251292,   \n",
       "47729  44248333         6  44239875,44244584,44247013,44247804,44248229,4...   \n",
       "47730  44248333         5      44239875,44244584,44247804,44248229,44250097,   \n",
       "47731  44248333         5      44239875,44244584,44247804,44248229,44250292,   \n",
       "47732  44248333         5      44239875,44244584,44247807,44248229,44250292,   \n",
       "47733  44250309         4               44239875,44244584,44247804,44250292,   \n",
       "47734  44250309         5      44239875,44244584,44247804,44250292,44251292,   \n",
       "47735  44251429         4               44239875,44244584,44247807,44251292,   \n",
       "47736  44254175         6  44239875,44244584,44247804,44248229,44250097,4...   \n",
       "47737  44254175         6  44239875,44244584,44247804,44248229,44250292,4...   \n",
       "47738  44254175         6  44239875,44244584,44247807,44248229,44250292,4...   \n",
       "\n",
       "                                                exonEnds exonStartPrefix  \n",
       "47721               44236890,44245692,44247999,44254175,        44236780  \n",
       "47722               44236890,44245692,44247999,44254175,        44236780  \n",
       "47723      44236890,44245692,44247999,44248357,44254175,        44236780  \n",
       "47724      44236890,44245692,44247999,44250352,44254175,        44236780  \n",
       "47725      44241182,44245692,44247999,44248357,44254175,        44239875  \n",
       "47726               44241182,44245692,44247999,44254175,        44239875  \n",
       "47727               44241182,44245692,44247999,44254175,        44239875  \n",
       "47728               44241182,44245692,44247999,44254175,        44239875  \n",
       "47729  44241182,44245692,44247043,44247999,44248357,4...        44239875  \n",
       "47730      44241182,44245692,44247999,44248357,44254175,        44239875  \n",
       "47731      44241182,44245692,44247999,44248357,44254175,        44239875  \n",
       "47732      44241182,44245692,44247999,44248357,44254175,        44239875  \n",
       "47733               44241182,44245692,44247999,44254175,        44239875  \n",
       "47734      44241182,44245692,44247999,44250352,44254175,        44239875  \n",
       "47735               44241182,44245692,44247999,44254175,        44239875  \n",
       "47736  44241182,44245692,44247999,44248357,44250352,4...        44239875  \n",
       "47737  44241182,44245692,44247999,44248357,44250352,4...        44239875  \n",
       "47738  44241182,44245692,44247999,44248357,44250352,4...        44239875  "
      ]
     },
     "execution_count": 98,
     "metadata": {},
     "output_type": "execute_result"
    }
   ],
   "source": [
    "gene_df[gene_df['geneName']=='Kcnc3']"
   ]
  },
  {
   "cell_type": "code",
   "execution_count": 140,
   "id": "d116646c",
   "metadata": {},
   "outputs": [],
   "source": [
    "def exon_data(name,sequence_data):\n",
    "    data = gene_df[gene_df['name']==name]\n",
    "    set_num =int(data['txStart'].to_list()[0])\n",
    "    start = data['exonStarts'].to_list()[0]\n",
    "    end = data['exonEnds'].to_list()[0]#最後に空白があるからその対処\n",
    "    exon_seq_list = []\n",
    "    start_list = [num for num in start.split(\",\")]\n",
    "    end_list = [num for num in end.split(\",\")]\n",
    "    for s in range(len(start_list)-1):\n",
    "        start_num = int(start_list[s])- set_num\n",
    "        \n",
    "        end_num= int(end_list[s]) - set_num\n",
    "    \n",
    "        \n",
    "        exon_seq =sequence_data[start_num:end_num]\n",
    "        exon_seq_list.append(exon_seq)\n",
    "        \n",
    "    \n",
    "    \n",
    "    return ''.join(exon_seq_list)"
   ]
  },
  {
   "cell_type": "code",
   "execution_count": null,
   "id": "e610cde3",
   "metadata": {
    "scrolled": true
   },
   "outputs": [],
   "source": []
  },
  {
   "cell_type": "code",
   "execution_count": 141,
   "id": "7fbf8b2b",
   "metadata": {},
   "outputs": [],
   "source": [
    "def where_start_codon(name,exon_data):\n",
    "    data = gene_df[gene_df['name']==name]\n",
    "    cdsStart =int(data['cdsStart'].to_list()[0])\n",
    "    set_num =int(data['cdsStart'].to_list()[0])-int(data['txStart'].to_list()[0])\n",
    "    start = data['exonStarts'].to_list()[0]\n",
    "    end = data['exonEnds'].to_list()[0]#最後に空白があるからその対処\n",
    "    start = list(start.split(','))\n",
    "    end = list(end.split(','))\n",
    "    for s in range(len(start)-1):\n",
    "        if (int(start[s]) <= cdsStart<=int(end[s])):\n",
    "            cds =s\n",
    "            \n",
    "    return exon_num\n"
   ]
  },
  {
   "cell_type": "code",
   "execution_count": 142,
   "id": "8cd07be9",
   "metadata": {},
   "outputs": [],
   "source": [
    "def start_codon(name,exon_data,exon_num):\n",
    "    data = gene_df[gene_df['name']==name]\n",
    "    set_num =int(data['cdsStart'].to_list()[0])-int(data['txStart'].to_list()[0])\n",
    "    CDs =''\n",
    "    start = data['exonStarts'].to_list()[0]\n",
    "    end = data['exonEnds'].to_list()[0]#最後に空白があるからその対処\n",
    "    start = list(start.split(','))\n",
    "    end = list(end.split(','))\n",
    "    if exon_num == 0:\n",
    "        CDs = exon_data[set_num:]\n",
    "    else:\n",
    "        start_num = int(data['cdsStart'].to_list()[0])- int(start[exon_num])\n",
    "\n",
    "        for s in range(exon_num):\n",
    "            start_num += int(end[s])-int(start[s])\n",
    "    \n",
    "            \n",
    "        CDs = exon_data[start_num:]\n",
    "        \n",
    "        \n",
    "    return CDs\n",
    "\n"
   ]
  },
  {
   "cell_type": "code",
   "execution_count": null,
   "id": "ca7192d8",
   "metadata": {},
   "outputs": [],
   "source": []
  },
  {
   "cell_type": "code",
   "execution_count": 143,
   "id": "2c63f8a3",
   "metadata": {},
   "outputs": [
    {
     "data": {
      "text/plain": [
       "318"
      ]
     },
     "execution_count": 143,
     "metadata": {},
     "output_type": "execute_result"
    }
   ],
   "source": [
    "len(a)"
   ]
  },
  {
   "cell_type": "code",
   "execution_count": 144,
   "id": "e0e67cf5",
   "metadata": {},
   "outputs": [],
   "source": [
    "a ='GCAGAGGCTCAAGCTCTGGGAGCGGGAAGACAAACTGCATCTAGGCTTGTGAGACAGGGAACAGGGGACCAAAGATTGCAGCAGAAGGATCCCCCTGGATTTTGAGCTTTGGGGAGGGACAAGGTACTTGTGTGTGTTGGGGGGAGTCTTTTTGTTTGTTTTGGtttttatttttgaagacatagtttctctgtcctggaactcactctatagaccagactggcctcgaactcagagagctacgtctgtctctgcctcctgagagcaggattaaaggcgctcaccatcacagtctggctAGGGTGTGGGGGTGGGATG'"
   ]
  },
  {
   "cell_type": "raw",
   "id": "cbff10b3",
   "metadata": {},
   "source": [
    "start_codon('NM_001385633', base_data[\"NM_001385633::chr7:44239875-44254175\"],0)"
   ]
  },
  {
   "cell_type": "code",
   "execution_count": 145,
   "id": "f866344a",
   "metadata": {},
   "outputs": [
    {
     "data": {
      "text/plain": [
       "'ATCCGCAAGTCTCTCGCTGCCCAGAGGTGTCGGGGCACGTTCACTCTATCCCCCGGCCACTCTTCCCCCGCCGCCAGATCCCTTCAGTCCCCTTCTCGCCTAAATTTGGGGTGAGTACGGGAAGGGGGCAGAGGCTCAAGCTCTGGGAGCGGGAAGACAAACTGCATCTAGGCTTGTGAGACAGGGAACAGGGGACCAAAGATTGCAGCAGAAGGATCCCCCTGGATTTTGAGCTTTGGGGAGGGACAAGGTACTTGTGTGTGTTGGGGGGAGTCTTTTTGTTTGTTTTGGtttttatttttgaagacatagtttctctgtcctggaactcactctatagaccagactggcctcgaactcagagagctacgtctgtctctgcctcctgagagcaggattaaaggcgctcaccatcacagtctggctAGGGTGTGGGGGTGGGATGTCTTATGCTGTGAGTTTCCACAGTCTCCAATTTACTGAGACTTTTCCCTGGATTTGGCACTGATGGAATGCGGGTAGGGAGCAGAACACAAAGGAATCTTTGAAGTCCAAGAGGGGAAGACTGGTCCCTAGTGACATGGTCTTGGGAATAGGGGAGAAGACAGTCCGAGGGGTGACAGAAGGTATCTGGGGAAAGGATGTGGATGGATGAGTTAAACCAAGACTGAGAAAAGAGTCTCAAGAAAGAGCCGGATATTTTTCCTATGTCCCCTCACTCAGCCTTGATTCTGTTCCCCTCGGGATACCCTGTAACTAGCTTCGTGCAGCCTCTGGTGAAGGGAGGTGATTCTCTAATGACCAAACCCTCTCCCTACACCCTGGCGAGGTCTTGGAGTGATGAAACCCAAGTTTCCCAAGCCTTCATGAGTTTCAAACTGTTGCCTGCCTCTAACCTCACAAGTCTTCTCTGTTTCCTCTCACCATCCTCCACCTCCCTCCCAACTTCTGACCAATTTATTTGGTAATTGGATCCTGTTCATGGCCTCTGCTAAAAGCAGCAAGTCGGGGTGGAGGTGAGGTGCGAAAGGACTGTGACCTAGGTCCTCGTGCTAGTCCATTCCTCAGCCTCTAAAGCATCGCCATCCCCGCCCTATCCCTGCAAGCCTATCCCTAATTGACCTGGGATCCACACCCACTCTCGCACAGCAGGTCCCTCTGTGATACGCCAGCATTAGGAGTACAAAGTGGGCAGTGAGCGCCTCTTTTCTATTTTCTGCCCTGGCGCCTCCATCAGAGTATTGAAGTCTCCAGAGGAGGGGGCTCCAGGGTCTGGAGGAGGGTGAGGATGCACTCCCGGGTCTGCAGGACAGGCCCCATTTCTGCAACTCTCCTGGAGCGACAGACTCAACTACTGCCAGGACGGGGGTTAGACTGAGGTAGAGAACCCAGAAACAGAGGAACTAAAAATCTGGACCTGGAGACAGAGACCAAGGCAAGACTAGGGCCAAGAGACCCAGAGACAGAGAGGAACCAAGATCCAGGGAGAGAGGAAGACAGAGACCCTGAGAGAAACAAAAGCCCAGGGAGGGGTGGGGATAGGAAGCTGGGGAAGAGACTCAGAAAGGGAGAGACAGAGTCTgagagagagagagagagagagagagagagagagagagagaTCCAGATGGGGAAGATAAGTGACCGAGAGAGAGAACCTGATACCTAGAGGAGGGGGACAAAGACCCAAAGGAGAAAGGAGAGATCCACATATAGAGACATGGAGAAACAGATTTAGAAAAGAGAAACCGGATACGTAGAGTGGTGGGGACAGGTAGGAGGACAGAGACAGCGGAGAAAGGTGACAAACACACATTAGCGGGAACGGGTCTGGAGACGGGAATACGAACCCGCGTAAAGCCTGCAGAGGAAGGCGAGGAGCCAGCGACCGCCGCAGCCCGTGACCCGCCCTCTTCGTTCCCGCAGGCGCCTCCTCCCGCTGCAGCCCCCGCCGCAGCCACTGCACTCGCGCACTGCCGGCCCTGCGCCTAAGACCGCCCAGAGGGCGGGGCCTACCCGCTCGGAGGTGTGAGGTCTTTCCTCTGGCTTCTCACTTTTCCCTCCATAACCCCGCCCCTTCCCAATGGTCCCGTCTGACCTCGTGGCTGAGAGGCTGTTGTCCGTGCTCCCGGTGGCGCTCTTTCCTGCATGCCTGGTCCCCACTCCTTTACCCATCTCTTGGCCCTTCTGTCTGCACTCTTTGTTGTCTACGCTTCATCCCCTTTCTTCCACCAGCTGGCAACTTTTGCCCCTTCCCTAAGACGTAGTGGACCATCCTCCGGGGTCTCTACCAATGAATCTCTCTATTCCAGCCCACCCCCAGCCCCGTGCCCAGCAATGAGTGTCCTTCCCCTAACAGGCATCTCATTTCCAGAACTCCATCCCACCAGCCTGGAGGCTTCTGGCTCTCTAAATGCTCATTTTTAGCGCCCCACTTTGCCATCCACTTACTAGTCGCATCTTCCTCTGGACTATTGAAGGTGTTTCATATAAGATATAGACCCTGTCCATCTGCCTGTGTCTCCCATTCGTCCGGATCCTCTTCGCCCAGGTCTAACCCCGTCTAACGAAGTCCAAATTTGCAACATCCagttggacatggtggtgctcatctgtcatctcagctacttgggatgctaatgttgaagcaggaggacagcgaacctaagacctccctcaactccacaacTTGCAGCCTCCGCCCCTCCCCAGCTTTCATCCAGAGGCTCCCAGGCCTCGCCTTCCTTCCTTTACCATAGCGTCCCAGTATCTTCCGCTTCGACTGTCTCCTGTGAGTTTTTTTATTTAATCAAGTTCCAACTCCACCTCTAGTTCCCTTGTACCGCCCTCACCCCAGTTGAGACCCTCCCCCCTCATTGTCGCGGCCCAATAAGGATTGTTAATAATCTCTTGGGCTCGCTGCATCCAATTACTCCTACTTTCCCGTTCATTTGCCTTTTCAGTGCAGGTCCCGCCTGCCCGGGCTCTAGGCAATTTGTTTTCTTTTTGTCAGCTTCTCTTGTTGTGACTTCTTTccccccacccaccaccccccaacccgttcctcacccctacccccaccaGAATTGATAGGCCtttttttttcgaggcagagtctcatgcagcccaggctggcctctatctcactttgtagcatgaccttgaacgcctgatcccccttccttcacGGTACCTGGCTCTTTCCCATACCTGGCTCTGAGGTCTCCATTTTCGCTGTGCTGCTGAGTTAGGCATTTTTAGGGTCCCCTTGACGCCCCGCCCTCTCCTAGGTAGGATCCAATCCCTGAGCTTTCTGTGCAACCCCACCTCCTCTAGCTAGGCTGGGTCGGAGTCTGCCTAGCCGTGGCCCCGCCCAGTCGCTCAGCCCAATCAGCTCGTGCCCTCCCTCCACCTGCCCAATCACACCCTCCCATCCATTCATCGCCTCCTCCTGTCCAATCACGTCTGCCTCTCTAcccgggccccgcccccgagaccctgccccctcccagccccgcctccCTGTCCAATGCTCAGTTCAGTGTGCGTCTGGTCGTTCCGCGGGCGCCAGGGGACCGGCAagcagcagcctcagccggtgccaacgccgcagccgcctgagtcctcaccgccgcctctgccgccgccgcagcagcagcAGTGCTCTCAGCCCGGCACTGCCGCCTCCCCGGCGGGTGCCCCGCTTTCCTGCGGGCCTGGGGGCCGGCGTGCCGAGCCATGCCCCGGGCTGCcggcggtggccatggggcggcacggcggcggcggcggcgacagcggTAAGATCGTGATCAACGTGGGCGGCGTGCGCCATGAGACGTACCGCTCCACGTTGCGCACCCTGCCAGGGACCAGACTGGCCGGGCTGACCGAGCCCGAGGCGGCCGCGCGCTTTGACTACGACCCGGGCACGGACGAGTTCTTCTTCGACCGTCACCCGGGCGTCTTCGCCTACGTGCTCAACTACTACCGCACCGGCAAACTGCACTGCCCGGCCGACGTGTGCGGGCCGCTCTTCGAGGAGGAGCTGGGCTTCTGGGGCATAGACGAGACGGACGTGGAGGCCTGCTGCTGGATGACCTATCGCCAGCACCGTGACGCTGAGGAGGCACTGGACTCTTTCGAGGCCCCGGACTCCTCGGCCAACGCCAACGCCAACGCCGGAGGCGCGCACGATGCGGGACTGGACGACGAGGCGGGCGCAGGAGGCGGCGGCCTGGACGGGGCAGGCGGCGAGCTCAAGCGTCTGTGTTTTCAGGACGCGGGCGGAGGTGCCGGAGGACCTGCCGGGGGCGCGGGCGGCGCGGGCGGCACCTGGTGGCGGCGCTGGCAGCCCCGTGTGTGGGCGCTTTTTGAGGACCCCTACTCGTCGCGGGCTGCCAGGGTGAGCGCGCTCTCCGAGCACTCCTAATTATCCCAACCGCTCTGTTTCCGGAGCACTCCATCCCAGTGTCCCTCCTCCTCTTGAGCCCTCCAGTTCTCTGGAAGCCCTTCCTCCTTGCAGCTGGAGTTCCCTGCACCCCTGCAAACACACCCCTCTCTTTAGACCACCCTTCCAAGGACACCTCCCGAAAACTTAAGCGTCCCTGGGACCTTCTAAACCCCAACTCGCTGCTGCTCCTAGTCATCATAGATCCTGGGGAACAGCTTCCTAGCTGGATTTCCCTGACAGTCCTACCCCACCTTTCTCACACACCTTCTGAGACCTTTGGCAGGTCCCCAGAATGGCCTCAGCCTCTTCAAAACTTCTCCCACTGTCCCTTGAACACTCCAAAGCCATTTTCTTATTCCCGATCCTCAGTGTCCCAGGTCCCACCCATCTCCAGACCCTCTGAAGTTCCATCTCCATCTCTCCCTCCTTGGAGCCCTCCCTCATTCTCCCTGGGCCCAACTCCTAGATCTGTTTTTCTCTCAACTTTGGGCCTCCTGGCTGTTTGTGATCTTCTGCTCTTAGCTCTCAAAAGTTCTAGAAGATCTCCGCCCCCCAAGGAACCCTCAGAGCCTTCTGAACCTCCAAACTACTGGTCCTAGTCAGGACAGTTTCCCACAATCTAGCTGAGTGTGTGCTGGGGGTGGCGTCTTCCTTTCTAAACCCTTAAATCCTTCACCGTCTTTACCAGCCTCCTTCAAAGGACTTCCTCCCTCGAGTCCAGCAGGTTCCACTCCTGTGTCTCCAAAAGAGCCCTATGTTATACTTATCCTCTCCAGTACCCCCAGTATGTGTGTCGTTCCCCCCCCTCCCACCGAATTGCTCACAGTTCGTATATCCTTCCCTCCAACTGCACACCTGCCCTGTGTCTCCGGGATTAATTTCATTTCCATCCCTCCTTCCCCGGTTACTTTCTCATTCTGCCAAGTGACTTTCAGAAGTTTGTGTCACCTCAAATCCAAGTCATCAACCCAGAAATTTCTCAATTCTCACCCCAGCCCCTCCTGGGATAGCTCAACCCGCAAGGTTCTCCTCTCCCAGCCTTGCTCCCCTCACCCTCTCACCCCCACTTCCCCACACCCCCTACCATCACTCTTCTGTTTGCTTCCCCTGGTGTAAACCCAGAACCCTCCGCGGTCctcctctcttctccaccctctcctttcTTAGAAACCCCAGAGTCCCTCAAAGAGCTCTCCTGGAAGTTTATAAGCCTCAGTAACTTCCCAGGCCTCATGAAGACTCTCTTGATAGCTCTGGTCATAGTTTCTTTTCTCCCCCCGCCCCTTCCTGAAACTTCCTTTGGGCCAAGAGACCCTGGAACGAGGTATGTGGGAATAGCTTGGGGGTGAGTTCAGGAAAAGAGGGGGCATTAGCAAAAGTGGGTAACGGGAGAGCCATTCTCCACTCGCCCCCGCCCCCCACCGTGCTGCGTCCTGGGCCAGGAAGGACGCTGAGCCGCAGTGCCGCATTCGTACTGCGGGGGGGAGGGGGGGGAACAAAGTGGGGGGAACGGAGGCTTCACATAAAGTTTAGTCCCTGAGAAGCGCTGAATTGGCGACATTTGGGGTTGAGTTGGGGGGAAGGGGAAAGTAAGAGGGGCAGGAGGGACATGGCCCCAGATGCTCCTTTGGGCCTCTGAGCATCTCCTCCCCCACTCGATGGCCTGAGTAGTCCTTCATTCTTTGACCCCATTGAAGGGTGCTGAAACAGAGATAGATTCTTTGGGTGACAGTCAGATTAGGGGTTGAGAATTGCTACGAAGGTTACTCATTTATTTGTACTGTTTTTAAAAATTATTTATTTGAGTATCTACTGTGTGCCGGTACTTTCCAACCTCCAGGTGGACCTTCTTGCAAGTTGGGACCGTAAACCACCTCCAAGCTCAGGGTCCAGTCCTTCTGACTCCGCTTTCTTTTCCTTCTTACAGAGCCTTGGTACCCCTCCATGCCTTCTGCTTAAGGGTCACTCCAGGGGAAACCAACCCTGCACCTGTGCGCTGTAGTGGCTGCCCACCCTTCCGCGGGTCCCTGGGAAGGAAGGGGTTACGCAAGTTGTAGGATAGGTGGCCTCTAGCCATGAAGCCTAAGCCATAGGCACTGCGGCTGCGCGCTGACTTGCGGCGCTTTAGCCTGGAAGGAGTTAAGGCATTCAGAGCACTGCGGCTGCGCACTGCGGCTGGGGGAGCTGTCCATGGTTCTGGCCGCCTCGCGCCCTCCTCCGGGCCGGGTCGACCCGCCTCCACTGCAGTGCTGCAGCCTGCAGGTGGGGGAGGGGAGGCTCCGGGCATGCGCTCTGCAGAGGCCTCTGGCCTCTTCTCCACTGCGGAGAAATCAAGTAGGTGGTCTACACTACTGACCACTCTCCTAACCCTACCCTAAGACCCAGGGCCTACTCACCCTCCAGTTATTGGACTCTGGCCCATAGTCTAGGCCCCTGAATTTATCTCTTCAGAACCATAACCCGTCTCCATCCACAAGGCTTTTTGTTCCTCATTTCTTTCTTCTCCTTAGCCTGAACCCAGTAAAGCCTTACCCCTTCCGCTTCCCAACATCCTTGAACTGCCCCCCCTCCCCGTCTCTGTTTGCAGTGGGATACTGACAATGAGGTCCTTAGATCCTAGCCATTCTCTGACCCCCTCATCCTTGCCCCACACTAACTGATCACCGTACCCTAGTAACAGCTCGGATCTCACTGTGTTCTAGGCATTCAGCCAAGCACTGTTTTTGGAAGCAAGCCCTCTGTACACTCACCAAATCTTCATAACAATTCCATTAAAAAACAAAATACAGATTCAGAAAGCTTAACCCTTGCTCCAATTTGACCAATTCAAACCCAGGTTTTTGAGCCGGGCTTAGTGGCCTGTGTACGTTCAAAGCCAGCCTGGTTAAATCAGAGACCCTGTCTCAAAATATATAAAGAGGGCTGGGAATGAGTCTGGGGGCATAGTGCTCATCCACGTGCATCAGGCTGTCATGGCTAGTGTCCCCCCATGTCGCCACCTGCCCTCTCCCTTCCCCAGCTCCAGGCTGAGAACCAAACCTCTGAGACATGGGCAGTGTTGTATTCTTTCTCATCCCCACCTGAGAGTAGAATATTTGAATCCTTCTGGGGAACCCTGATACAGAACCCAGAAAGGGCTCTTTCCCTGGGTCACTGTGGCAAGCTCCTGCCCTGAGCCTCTGTTCCTGTCTCAGAACTGATTGCTAGAAGTGGCGGAAGCATTAAATGGGAACGCTTGGATTCTTGTAGGATTTGGGTCCTGAAGTGGGGACCGTGAGGCCACCACCAAGTTCTTTAGAAGCCAGTGATACAAACAAGTCAGTCACCCCCATTCTCTTTCCCGTCCCCCTGCAGTATGTGGCCTTCGCCTCCCTATTCTTTATCCTCATCTCCATCACCACCTTCTGCCTGGAGACACACGAGGGCTTCATCCACATCAGCAACAAGACGGTGACGCAGGCCTCCCCAATCCCTGGGGCTCCCCCGGAGAATATCACCAACGTGGAGGTGGAGACGGAACCCTTCTTGACCTACGTGGAAGGCGTGTGTGTGGTCTGGTTCACCTTTGAGTTTCTCATGCGGGTCACCTTCTGCCCAGATAAGGTGGAGTTTCTCAAAAGCAGCCTGAACATCATCGACTGCGTGGCCATCTTGCCCTTCTACTTGGAAGTGGGCCTGTCAGGTCTCAGCTCCAAAGCTGCCAAGGACGTGCTGGGCTTCCTGCGTGTCGTCCGCTTCGTGCGCATCCTTCGTATCTTCAAGCTGACCCGTCACTTCGTGGGGCTGCGTGTGCTGGGCCACACGCTCCGGGCCAGCACCAACGAATTCTTGTTACTCATCATCTTCCTGGCTCTGGGGGTCCTCATCTTTGCCACCATGATCTACTATGCCGAACGCATCGGGGCTGATCCTGACGACATCCTGGGCTCCAACCACACCTACTTCAAGAACATCCCCATCGGCTTCTGGTGGGCTGTGGTCACCATGACGACACTGGGCTATGGAGACATGTATCCCAAGACGTGGTCTGGGATGCTGGTTGGGGCACTGTGTGCCCTGGCTGGTGTGCTGACCATTGCCATGCCCGTGCCTGTCATTGTCAACAACTTCGGCATGTACTATTCACTGGCTATGGCCAAGCAGAAATTGCCAAAGAAGAAAAACAAACATATTCCCAGGCCCCCGCAGCCTGGCTCACCCAACTACTGCAAGCCTGACcccccgcctccacccccaccacacccccaccACGGCAGCGGTGGCATAAGCCCACCGCCGCCCATCACCCCTCCTTCCATGGGGGTGAATGTGGCCGGGGCCTACCCACCTGGACCCCACACACACCCCGGGCTGCTCAGGGGTGGTGCTGGGGGCCTGGGAATCATGGGATTGCCTCCTCTGCCAGCCCCTGGTGAGCCCTGCCCATTGGCTCAAGAAGAGGTGATTGAAACCAACAGGGCAGGTGAGGCTGGGGCCAGGACTGGAGGTGTGGGGAGATCTGGGGGGAAGGTGGCAGGGTTGGAGGGGATGCAGGGGCAGGGTTTCTTAGGTTCAGGCAGAGTAGGGTGGGAAGCAACAGCAGACAGAAAGGACAAGTGGCTAGAAGGCTGGAGGGGAGGCACAAAGAGCCACAGAAACAGGATTCCACGTACAAGAGCTTGTGAACACGGATTTCAGCCAGGCTGCTCTCAAAGGCCCCTGGTCAGGAGCAGCAGAGTGAGGATCTTTGGAGAAAGAGATTCAGAAACCCAGGTGTGATGGTGCATGCCTTGCATCCTTtggaggtacttggtacctcccgcacttggagatagaggcaggaggatgaggagttcacagctagcctgagttacatctacctgtctgagaaaTCATGGGGGGGGGGGGAGAAAAAAAAgaaaagaagttagaacaaaagtggagaggagagagggagagacgggcttggtggcattcccctgtagttccaacactggggaggctgaggcaggagggtcaacacatgtttgaggctatcttgggctacataCATACAAACAAAAGATTTGAGTGGCTTCCTGAGCTACTAGTTCACGTCGGTTCTTAGAGATGCTCCTGTATCTATTTGAGAAGGCAAGGgaagagagggagagatagaaagaaaaaagaaaaagaaaTGAGagccaggcgtggtgcctgtaattacaggatggaagaggaagagacaggatcaggagttcaaggtcagtctaagttacaggagaccttgtctcaaaaagaAAGGGGCTCAGTGTAAAACACAGCCGGCCTCATGCGACTACTAGGAAGGCTGGAGGCAGGCCTGGCTACCATCACAGTTTGTGACTGTGGCCGGGGTGGGGGTGGGGGGGAACAGGCACTCAAGAGAGGGAGACAAGTGGAGTCAGGCAGCCTGGAGGTTAGAGGTCAGGCTCCGCCTACAGGAAGGCAAGAGGGAGACACAGGCCAAGGCCAGCAGAGTCAGGGTGCAGGGCTGCCAGGCAGGGTCTGCAGAGGGCAGCGGGGGACACTGGGGATCTCAGAGAGTTCTTAGAAGAGAAGAGGCagccaggtctggttgagcacacctgttatcccagcatttgggaagctgaggcaggactgtgagttcagagctagcctggactatagagtgagatttgtcttaaaTTTTTTTTTTTTTAAAAATAAGACAGGCCAGGAAGAGGAGGGAGGAGAGGAGAAAACTAGCAGTTGCGCCTGATTTCTCGGGTTGTGTGTGTCCTGGGGGACTCTGTTTTTTGCAGGCAGTGACTTGGGTGTCCTGGAGGAAGGAGGTGAGTGCCCCCCCACCCCCACCGCCTTAAGTAGGTCAAGAAAATGAGCTAGTCTGCCTGGCCCCCCATCTTGCTCCCTTAGCCACTGACCCAGTTTTCTATCCATTAAAAATAGCTCAAGTCAGAGCCTAGGGGACccccacctcacctcaccctccctcacctgtcaccttcccagcccttccccatcctacccttTGCAGCACCCCGGACTTGTCCCTAAGCAACCACTTTGAAACCCGTGACATCCTCTCTGGCCTGCCAGTGCTCTGGCACCGGAACACTGATGACTGTGCCCTGCGCCCACCCTTTCTGGGTTTTTGTTTTTCTTTTTGGAGGGTGGGATGGAGTGTGAGGTGtgggatgggatctcactatagagcccaagctggcctcaaactcagtatcctcctgcctcagcttcttgagtggtggatgacaggtgtacactaccatgcctggcCCGCAGTAGCCCCAGCCAACTTGCCAGTACCAAGCACTGCACTCTAGTCTTATTCTCTGGTCATTCACATGTTCATGTCTGACTGCCTCTCTCTAGCACTCACCTCTGCTCCTTAGCCAGCCACTGTCCACACTCTCAGTTGCACTTGCCCTCCCTGCCTCTTagcaccaccccacccccacccccagccacagcaccagcAACCTTGTTGTACCCCACGCCCCCAGGATCACTCCAATCTCCATCACTGTCACCGTCCACCTTCAGTTTCTCTCCTCTCTGGCCTCTCACCCTGCAGTAGACCCCCGTCCCAATGGAGACCCTGCAGCAGCCGCACTGGCCCATGAGGACTGCCCTGCCATCGACCAGCCAGCCATGTCTCCAGAAGACAAGAGCCCAATCACTCCCGGAAGCCGGGGTCGCTACAGCCGGGACCGAGCTTGCTTCCTTGTCACAGACTATGCCCCTTCCCCTGATGGCTCCATCCGAAAAGGTGAGGTGCCCTCCAGGGGCTCCCCAGAGACCCTTCCTCTCTCCCAGCCCACGGGAGGAAGGAGAGGGGGTGGGGGAGGCGCTGGACTTCCCTCTATTCTGCCCCTCAGCCCCAAACCACCTTCTTCCCTATCCTCCCTCACCTTGAGCCCCAAGGTTCCTCACCTGTCTTTATTTCATCTCCATCTCCCCCACCCGCCCTGACTCTCTGGCCTCTTCCCTCATCCCCAGCCACTGGTGCTCCCCCACTGCCCCCCCCATGCTGGCATAAGCCAGGCCCCCCAAGCTTCTTGCCCGACCTCAACGCCAACGCAGCAGCCTGGATATCCCCCTAGTGGACGAGCCCCTTCCCCCCCAGGGTAAGTAGTTCCTCTCCATGGCCCCTCCTGACTCCCCTTCCTTCTGTACCTCCGACTAACCTCTCTGAGAACATGCTCTCTCCCACTGACCAAGACCCTCACCCATGGTGAACAGCTGTACCCAGTTCCTGACACCGACTCCCACTGTCACCCCAGGATTTGCCTAGTCCTTACACTCCAGAACTAACCCTGCcccaactcccacctctgactcactcacctcaccccccaccccacctctgaccttacccccacctGTCTGCGCCCCTCTCTGGTCACTATTTTATCCAGTCACCAAGGTGGTTTATGGACACTCCTAAGTGCAGGATGGAGTGAGACCGGAGAGTTCTCCCTGATCCTAAGAGCTGGGTTCAACCTGAGCAGACTTAGTTTCCCAGGGGTTTCTGATGGCCAAGCAGAAAGCAAATAGACACATCAGGGGAGAGATGATGAAAGTTAGGGCCATGCCAGGGGCTGGGAGATGGGATGAGAATCTCGGGACAAGAGGATGGGAATCTAGCTGGGACCAGGTCTACGGAGATGAAAGAAAAGGATGAAGAGTCAGAGGTCAAGGGTCAGTCAAGGATAGTCAAaaccaggcatggtggtacacatctgtaatcacccttggatgctggggcatggggattgtgagactgaagctagccggggctagaaaacaagaccctgccATCCCGAATGTCTTGTCTTAGCCACACACTTTGGGGTGATTTGTCATGCCACAAAGAGGCCCCACCACGAGGAGCAAGGAAGTTTTCTAGCAGGCTCAGGTTCTCTTTGCCCAATTGTGACCTGTCCTCTCAGTGTGGGCATAGGCACCACCACAGCCAACTCTGAGAAAGTGACATGAAAACTGGGTGAAGAGGATCAATCAGGAAGGACAAAAGGACAAGTGCATAGGCTCAGAGGCTGAACACACTGGTGGAGGGGGGGCAGTGAGGGGGTGTCATGATAGAACTGGGGAAGGCATGCAGAGAGCATCGGAAGGCAGCTCAGTGCTAGGTGAGGCCAGCTGCTCCCAATGGGTGATAAGCAGACTGAAGGTGTGTGGTCTACTTCTAGAAACAACACAGCACCTTCTTCCAAAATAGAATCACGTGAAGAATCCCTGCTCTCAGCCTAAGGGCACGCTACAGTCCCTCCCAAGACTTGGGAAGTCTCAGGAAAGGCCAAATGAAAGTGCCATGTTCCACAGACCTCAGGGAAGCAGACAGGTGTGAGAGAAAGCCTAGGGTCCTAGCCCAGCCGGTCCATAGcccccctccaccctcccccagccctccatgcccatctcatcattcctcctctcctccctcctcccatctcaccccaccccctcgctTGAACCTAGACCTCTATTCCTCACCCCTACCCTGAGGGGCTCCTGGTGGGATGGAGGGTAGAGTAAGGGGGGAAAGCTGGGGATCCCAGTTGGGTGGACAAGGCCCTTGCTTTTCTTGCATATGATACCAAAATCCATTCATTGAACTCAAATGATGGCCAGAGCTGATGGGGCTGACTGTTCTCTGCCCCAGTGTAATTTCCGTCCCCTGTCCCCATCTGCCACGCCCCCTTCCCTCCCTCCTGGCCTATCCCCACTTACCCCCCCCCACACACACACCAACCTCTTATCCCCTTACCCAACCCCATCCCTCCCATCCTTGGTCCTCCCTTTTACCCAACCCCACTCTTCCCATCCTCCGTCCTCCCCTCTCCTAGCCACCCCGGAAGCTCCTGCCATATTTGATGTCTCTGGCTGCCCCCATTTCACCGCTCCCATCACCCCCCGGAAAACACCAGAGAGGAGGAAGACATCCCGGCGTTTCTCCGTCCCCCCAACAGTGAGCCTGTGTTGGGGAGCCCCCCATCTGCCTCCCATCCCCCATCCTTGACTCTCTGTATTTCTGTCCCCAGCTCTTGTCACCGCCTGAGACCTCGCGAGACCCTCGGGTTCCCCCTGTCCCTTCCCCCCAGGTTAGCAACTGGGAATGGTGGGAGGGAGTGTCCTAGAGACACTGGGCTTCCATTCCCCTCTAGATTCTCTCCTGCAGTTTGAGTACCACCCCCCAGCCTGGGATGCCTAGAGAAAACCATTCTAGCCCCTGGAATTGGCAGAGCCAAAAAAAGACCCCAACCACCCTTACTGGTCCTGATATGGAATCCCATGAGCTGTGTGACCTTACTACTTCCTGTCACCAGCAGACCCCATCCAATTTTGGAAACCTCTATTTCATCCCACATCCTGGACCCTTGAAAGATGTCCATACTGAGTTAAATGACTCGTGCCTGTTAGTCCAAGGCCACCTATCTActgaatttgagctcaggttgagctaaatagtgagtttgagaccagcttgggctatagagtgaggttgaggtcagcctaggctacataatttgagtccagcctaagctatctaggatgttctaggccagcccgggctacacagtCCTAAGGAATCCATCCCTTCCCCATCCCAGGCCCCCAGCTCCTTTCTGCGCAGCCCCCTCCACCAGCCGCTGCCTCCACCCCAGCCCCTGCCGCCCGCCCACCATCCCACCTCACCAACTGCTGCCTTTGGGCCTCAGACCAGGGGACCTTGGGGAGGGGGAGAAGAGGGGCGGGCATGGCTGGATGGGGAGGCTCAGTGGGCACCACCCGCCTCCTAATCCTGTCTCTCCCCTTCCCTGTGTCTGCACCTTTTTTGTGGATGCTGACTGACTCTCCGATCTCTTCACCTCTCTCCATCTCCTCGGCCCGCCCATCCCGCCTATCTCTGTGTTTCTGGGCATCTCTCTCCTCTCCATCCCTCTCTCTGCCTGTGTATCCCTGTTTGGGCTCTCTGTCGTATCCTCACCCTGGCTCCCATCCCCACGCCCCCTCCCACCCTTGTCTCTGCTCCTTTCCCAGGTTACGAGAAGTCCCGCAGCCTGAGCAGCATTGTGGGCCTGAGCGGGGTGTccctgcgcctcgcgcccctcgccaccccccctggctctccccgggccacgcgccgagctcccccgaccctgcccTCCATCCTCTAGCGCAGCCCTCCCCCCTGTGGGGGGACTGGGGGTGATGGGAAGGTGAAAAGGAGCTGGGAGTAGGGCTGGGGAAAGGGTTCTTTTTTTAAAAAAAAAAAAGTCAATAATATGCAAAAGAGACGATGCCAGCAGACACCCCCGGGGCCTCTCACTCCCCATACACTAGAAAACCCAGGATAGAGGGGGCAGGGCCGGAGCCTGTACCCCATCTCCCTCCCCCTTCCAAAAAAAAAAAAAAAAGCAAACCTCAGGTCTCCATGAGCCATAGGACACCCCTCCCATCGACTCCTGTAAATAACTAAAAGCTGATTCCATCTTGGGGCACCCACTCCAGTTTGCATGCCTCCCCGACCCCCTCTTCAGCAATAAGCCGCCAGGAGCTGTGTGCAAAGAGTTGGAGGGGAGGCTGCTGGGAGCCTCTAAGGTCGGAGCTAGCATTTTTAGGGGTCTTCCTGGTCACCCGCCCCCCAAAGGGCAACCCACCCATCACTAATTGATTCAGGAAAAACAAAAACCTCTAGGAACACGTAGGAAAAGGAAGACAGGTTAATCAGCCGCAGCCCCGAGGAGCTCAGCTTGGGGGTGGGGGGGTTCTGCCAGCTGCTCTTGGGCTTGGAGGACGCCAGCTGGTGCATTCCACCCACGCCCGCCTCCAGGGATCTGCTCCCTCTATTCGCTGCATGGACTTGGCCCTCCAGGCCCAGAACCCTCTACCCACTGCAGTCTCCACTCTATCCCAAGAGGTGAGACTAGTACCCTAGACTTAAGGAGACAGAACCTGGCACCCTGCACTCCCACACCCCACGGACTCCGGCGCCCCCCACTCCTCACCTCCATCACTCCATCCATCCCCCACTGGCCTGGACTGCACCACAGAGTTTTTCCACTCTTCCCTTGCACCTCCGCTCACTTCCAGCCTTCGGGGTTCTGACAGTCCTCAAGACCCTGACATTGCCTAGACACCCCTATATCCCCAACCCCAGACGGCCCCAACTCCCTGACATCACACTCCTCTGTCCCCTGGCGCCTCTGGCGCAAGACCTTCCCGGACAAGCTCCGTCTGTCTGATTACAGAGAGCTCCCATCCCATTCCAGTATTACTGTCTAGGCAGCCCCCTCCTCACCGCCCTCTCCCCCCCCACCCCATGGTGCCAAAACACACTTTCTTCATGGCCACCAGAGTTTCCCAGAGCGTGGGACTCCCGTTCCCTCTTCGTGTGCTGAAGTTTGCAAAGTGCACAGACGACCAAGTGTTTTAAACTTGTGTGCTCTTTGCAGGCTCACACCCGGCTGGTGCGTCCTGGCAGCGCAGCAGTTGGGTGTTGCCACTGAAAGCAAGTCTAAGACAggatgggacccaatgctaaaagcgcttgcttaatgtgctaaggtcccagggttcaaactccagcaACCCCTCTTCCCCTACTGGTGGGCAAAGAGGACATACCCACCTCGGCTAGGATCTCAGCCTGCCCTTCCCAGCTTCCTTGCCCACTACGTGCCACATTCTCGGATGGAAAACTTTCTCAAATCTCGTCTTGGCTCCAGGATGCTACCTCCCCCAAGCCCAGAGACCACACTGGTCCCAGAATCCTTAGCGAACTATCCCCTTTGGAGCTGGGTGGTCGGCAGAATTAGCAATCCCTTGTTCCCACCGCCTCAGGGAAACCTCCCGCTGTCACCAGAGTTGTCGGTGGGGGTGTCCTTGGGCCCAATTCTTGATGCAACAATTCCTATGCAAGGGACATTTTGAGTCCCTCCCGCACCCCCCGCCTTCCCTCGGGACCTTAAACTCTGGTGAGACAGGGGTTGAGGAGTGGGGTGGGATCTGGTAGGGGCAGGGCAAAGGGCTAGGGGACTCTAGACACCAGGGTATGGGCTGAGGACTCCTAATATTGCCAAAGGATTCAACTTATTTAACAACCCCTATTATCCCCGCCCCCCTGTCCCTTAAAAGAGACGAATGGGGCGGGGAAAGGGGTAAGAGTCCTTTTTGAAGGGTACCAACCACTTCCCACTGTTTTCCCCTGCTCTCCAGTTCCCTACACATATCCAGCTTTTTAGTTAAGCATTTTTAAAAAGCTACCGTCATTATAAACGTCTACAAAACGTGATTTTTGCCCCTCCACATCCCCCAATTTACCAAACAGTGTGGGATTAGGGGAGGGAGAGCCAGGTCCTGGTCTCCCTTTTCCCCACGGCCGCCAGGGTGCCTGCAACTGCACGCATGCGCTGCATGACGCGCCCCCCCCACATACACACGCATGCGTCGCGCACCCCTCCTGCGCTGGGGGGGGACGCGCGGACTTGGGGGCGGGGCGATGGGGAGGAATGATTGGCAGAGGGGAAGGGGGTCTTTCTGAGCTCAATGGCTCCTCTCCTTCCCCACACACTCACAGCAATAAGTTTCTCTACTTCTAGTGGGCGGACGGGCCTAGCCTGACCTGGCGCGGGAGGGGCTGGCCAATGGGCGCTCTCAGGGATGGGGGCGGGTCCTGAGTCTGGGGGAGGGGAGGTCTGCAACTCTGGTGCTAATGGCGGGTCTTCCTGGCCCACCCGCAGGCAGGGAGGAAGGAGTCGGCAGGCTCCTCCCCCAAGCCTCCCCCACGCCCACCCAGGGTGCATGAACCACCCACGCAGAAGCTGCCGCATGTCAACCCTCCCCCCCACAAAGAAACAGTGTCATGCCCCTTCCCACCTGCCCTCCCACTCCCCAGCCCAATAAATGATACCTTTTCATTTA'"
      ]
     },
     "execution_count": 145,
     "metadata": {},
     "output_type": "execute_result"
    }
   ],
   "source": [
    "base_data[\"NM_001385634::chr7:44236780-44254175\"]"
   ]
  },
  {
   "cell_type": "code",
   "execution_count": 146,
   "id": "7a1f93dd",
   "metadata": {},
   "outputs": [
    {
     "data": {
      "text/plain": [
       "'ATCCGCAAGTCTCTCGCTGCCCAGAGGTGTCGGGGCACGTTCACTCTATCCCCCGGCCACTCTTCCCCCGCCGCCAGATCCCTTCAGTCCCCTTCTCGCCTAAATTTGGG'"
      ]
     },
     "execution_count": 146,
     "metadata": {},
     "output_type": "execute_result"
    }
   ],
   "source": [
    "base_data[\"NM_001385634::chr7:44236780-44254175\"][:110]"
   ]
  },
  {
   "cell_type": "code",
   "execution_count": 150,
   "id": "05c6acd4",
   "metadata": {},
   "outputs": [
    {
     "name": "stdout",
     "output_type": "stream",
     "text": [
      "110\n",
      "1108\n",
      "195\n",
      "4078\n"
     ]
    }
   ],
   "source": [
    "input_data =exon_data('NM_001385634', base_data[\"NM_001385634::chr7:44236780-44254175\"])"
   ]
  },
  {
   "cell_type": "code",
   "execution_count": null,
   "id": "fb0cde06",
   "metadata": {},
   "outputs": [],
   "source": []
  },
  {
   "cell_type": "code",
   "execution_count": 151,
   "id": "6804f249",
   "metadata": {},
   "outputs": [
    {
     "name": "stdout",
     "output_type": "stream",
     "text": [
      "222\n",
      "332\n"
     ]
    },
    {
     "data": {
      "text/plain": [
       "'ATGCGGGTCACCTTCTGCCCAGATAAGGTGGAGTTTCTCAAAAGCAGCCTGAACATCATCGACTGCGTGGCCATCTTGCCCTTCTACTTGGAAGTGGGCCTGTCAGGTCTCAGCTCCAAAGCTGCCAAGGACGTGCTGGGCTTCCTGCGTGTCGTCCGCTTCGTGCGCATCCTTCGTATCTTCAAGCTGACCCGTCACTTCGTGGGGCTGCGTGTGCTGGGCCACACGCTCCGGGCCAGCACCAACGAATTCTTGTTACTCATCATCTTCCTGGCTCTGGGGGTCCTCATCTTTGCCACCATGATCTACTATGCCGAACGCATCGGGGCTGATCCTGACGACATCCTGGGCTCCAACCACACCTACTTCAAGAACATCCCCATCGGCTTCTGGTGGGCTGTGGTCACCATGACGACACTGGGCTATGGAGACATGTATCCCAAGACGTGGTCTGGGATGCTGGTTGGGGCACTGTGTGCCCTGGCTGGTGTGCTGACCATTGCCATGCCCGTGCCTGTCATTGTCAACAACTTCGGCATGTACTATTCACTGGCTATGGCCAAGCAGAAATTGCCAAAGAAGAAAAACAAACATATTCCCAGGCCCCCGCAGCCTGGCTCACCCAACTACTGCAAGCCTGACcccccgcctccacccccaccacacccccaccACGGCAGCGGTGGCATAAGCCCACCGCCGCCCATCACCCCTCCTTCCATGGGGGTGAATGTGGCCGGGGCCTACCCACCTGGACCCCACACACACCCCGGGCTGCTCAGGGGTGGTGCTGGGGGCCTGGGAATCATGGGATTGCCTCCTCTGCCAGCCCCTGGTGAGCCCTGCCCATTGGCTCAAGAAGAGGTGATTGAAACCAACAGGGCAGTAGACCCCCGTCCCAATGGAGACCCTGCAGCAGCCGCACTGGCCCATGAGGACTGCCCTGCCATCGACCAGCCAGCCATGTCTCCAGAAGACAAGAGCCCAATCACTCCCGGAAGCCGGGGTCGCTACAGCCGGGACCGAGCTTGCTTCCTTGTCACAGACTATGCCCCTTCCCCTGATGGCTCCATCCGAAAAGCCACCCCGGAAGCTCCTGCCATATTTGATGTCTCTGGCTGCCCCCATTTCACCGCTCCCATCACCCCCCGGAAAACACCAGAGAGGAGGAAGACATCCCGGCGTTTCTCCGTCCCCCCAACAGTGAGCCTGTGTTGGGGAGCCCCCCATCTGCCTCCCATCCCCCATCCTTGACTCTCTGTATTTCTGTCCCCAGCTCTTGTCACCGCCTGAGACCTCGCGAGACCCTCGGGTTCCCCCTGTCCCTTCCCCCCAGGTTAGCAACTGGGAATGGTGGGAGGGAGTGTCCTAGAGACACTGGGCTTCCATTCCCCTCTAGATTCTCTCCTGCAGTTTGAGTACCACCCCCCAGCCTGGGATGCCTAGAGAAAACCATTCTAGCCCCTGGAATTGGCAGAGCCAAAAAAAGACCCCAACCACCCTTACTGGTCCTGATATGGAATCCCATGAGCTGTGTGACCTTACTACTTCCTGTCACCAGCAGACCCCATCCAATTTTGGAAACCTCTATTTCATCCCACATCCTGGACCCTTGAAAGATGTCCATACTGAGTTAAATGACTCGTGCCTGTTAGTCCAAGGCCACCTATCTActgaatttgagctcaggttgagctaaatagtgagtttgagaccagcttgggctatagagtgaggttgaggtcagcctaggctacataatttgagtccagcctaagctatctaggatgttctaggccagcccgggctacacagtCCTAAGGAATCCATCCCTTCCCCATCCCAGGCCCCCAGCTCCTTTCTGCGCAGCCCCCTCCACCAGCCGCTGCCTCCACCCCAGCCCCTGCCGCCCGCCCACCATCCCACCTCACCAACTGCTGCCTTTGGGCCTCAGACCAGGGGACCTTGGGGAGGGGGAGAAGAGGGGCGGGCATGGCTGGATGGGGAGGCTCAGTGGGCACCACCCGCCTCCTAATCCTGTCTCTCCCCTTCCCTGTGTCTGCACCTTTTTTGTGGATGCTGACTGACTCTCCGATCTCTTCACCTCTCTCCATCTCCTCGGCCCGCCCATCCCGCCTATCTCTGTGTTTCTGGGCATCTCTCTCCTCTCCATCCCTCTCTCTGCCTGTGTATCCCTGTTTGGGCTCTCTGTCGTATCCTCACCCTGGCTCCCATCCCCACGCCCCCTCCCACCCTTGTCTCTGCTCCTTTCCCAGGTTACGAGAAGTCCCGCAGCCTGAGCAGCATTGTGGGCCTGAGCGGGGTGTccctgcgcctcgcgcccctcgccaccccccctggctctccccgggccacgcgccgagctcccccgaccctgcccTCCATCCTCTAGCGCAGCCCTCCCCCCTGTGGGGGGACTGGGGGTGATGGGAAGGTGAAAAGGAGCTGGGAGTAGGGCTGGGGAAAGGGTTCTTTTTTTAAAAAAAAAAAAGTCAATAATATGCAAAAGAGACGATGCCAGCAGACACCCCCGGGGCCTCTCACTCCCCATACACTAGAAAACCCAGGATAGAGGGGGCAGGGCCGGAGCCTGTACCCCATCTCCCTCCCCCTTCCAAAAAAAAAAAAAAAAGCAAACCTCAGGTCTCCATGAGCCATAGGACACCCCTCCCATCGACTCCTGTAAATAACTAAAAGCTGATTCCATCTTGGGGCACCCACTCCAGTTTGCATGCCTCCCCGACCCCCTCTTCAGCAATAAGCCGCCAGGAGCTGTGTGCAAAGAGTTGGAGGGGAGGCTGCTGGGAGCCTCTAAGGTCGGAGCTAGCATTTTTAGGGGTCTTCCTGGTCACCCGCCCCCCAAAGGGCAACCCACCCATCACTAATTGATTCAGGAAAAACAAAAACCTCTAGGAACACGTAGGAAAAGGAAGACAGGTTAATCAGCCGCAGCCCCGAGGAGCTCAGCTTGGGGGTGGGGGGGTTCTGCCAGCTGCTCTTGGGCTTGGAGGACGCCAGCTGGTGCATTCCACCCACGCCCGCCTCCAGGGATCTGCTCCCTCTATTCGCTGCATGGACTTGGCCCTCCAGGCCCAGAACCCTCTACCCACTGCAGTCTCCACTCTATCCCAAGAGGTGAGACTAGTACCCTAGACTTAAGGAGACAGAACCTGGCACCCTGCACTCCCACACCCCACGGACTCCGGCGCCCCCCACTCCTCACCTCCATCACTCCATCCATCCCCCACTGGCCTGGACTGCACCACAGAGTTTTTCCACTCTTCCCTTGCACCTCCGCTCACTTCCAGCCTTCGGGGTTCTGACAGTCCTCAAGACCCTGACATTGCCTAGACACCCCTATATCCCCAACCCCAGACGGCCCCAACTCCCTGACATCACACTCCTCTGTCCCCTGGCGCCTCTGGCGCAAGACCTTCCCGGACAAGCTCCGTCTGTCTGATTACAGAGAGCTCCCATCCCATTCCAGTATTACTGTCTAGGCAGCCCCCTCCTCACCGCCCTCTCCCCCCCCACCCCATGGTGCCAAAACACACTTTCTTCATGGCCACCAGAGTTTCCCAGAGCGTGGGACTCCCGTTCCCTCTTCGTGTGCTGAAGTTTGCAAAGTGCACAGACGACCAAGTGTTTTAAACTTGTGTGCTCTTTGCAGGCTCACACCCGGCTGGTGCGTCCTGGCAGCGCAGCAGTTGGGTGTTGCCACTGAAAGCAAGTCTAAGACAggatgggacccaatgctaaaagcgcttgcttaatgtgctaaggtcccagggttcaaactccagcaACCCCTCTTCCCCTACTGGTGGGCAAAGAGGACATACCCACCTCGGCTAGGATCTCAGCCTGCCCTTCCCAGCTTCCTTGCCCACTACGTGCCACATTCTCGGATGGAAAACTTTCTCAAATCTCGTCTTGGCTCCAGGATGCTACCTCCCCCAAGCCCAGAGACCACACTGGTCCCAGAATCCTTAGCGAACTATCCCCTTTGGAGCTGGGTGGTCGGCAGAATTAGCAATCCCTTGTTCCCACCGCCTCAGGGAAACCTCCCGCTGTCACCAGAGTTGTCGGTGGGGGTGTCCTTGGGCCCAATTCTTGATGCAACAATTCCTATGCAAGGGACATTTTGAGTCCCTCCCGCACCCCCCGCCTTCCCTCGGGACCTTAAACTCTGGTGAGACAGGGGTTGAGGAGTGGGGTGGGATCTGGTAGGGGCAGGGCAAAGGGCTAGGGGACTCTAGACACCAGGGTATGGGCTGAGGACTCCTAATATTGCCAAAGGATTCAACTTATTTAACAACCCCTATTATCCCCGCCCCCCTGTCCCTTAAAAGAGACGAATGGGGCGGGGAAAGGGGTAAGAGTCCTTTTTGAAGGGTACCAACCACTTCCCACTGTTTTCCCCTGCTCTCCAGTTCCCTACACATATCCAGCTTTTTAGTTAAGCATTTTTAAAAAGCTACCGTCATTATAAACGTCTACAAAACGTGATTTTTGCCCCTCCACATCCCCCAATTTACCAAACAGTGTGGGATTAGGGGAGGGAGAGCCAGGTCCTGGTCTCCCTTTTCCCCACGGCCGCCAGGGTGCCTGCAACTGCACGCATGCGCTGCATGACGCGCCCCCCCCACATACACACGCATGCGTCGCGCACCCCTCCTGCGCTGGGGGGGGACGCGCGGACTTGGGGGCGGGGCGATGGGGAGGAATGATTGGCAGAGGGGAAGGGGGTCTTTCTGAGCTCAATGGCTCCTCTCCTTCCCCACACACTCACAGCAATAAGTTTCTCTACTTCTAGTGGGCGGACGGGCCTAGCCTGACCTGGCGCGGGAGGGGCTGGCCAATGGGCGCTCTCAGGGATGGGGGCGGGTCCTGAGTCTGGGGGAGGGGAGGTCTGCAACTCTGGTGCTAATGGCGGGTCTTCCTGGCCCACCCGCAGGCAGGGAGGAAGGAGTCGGCAGGCTCCTCCCCCAAGCCTCCCCCACGCCCACCCAGGGTGCATGAACCACCCACGCAGAAGCTGCCGCATGTCAACCCTCCCCCCCACAAAGAAACAGTGTCATGCCCCTTCCCACCTGCCCTCCCACTCCCCAGCCCAATAAATGATACCTTTTCATTTA'"
      ]
     },
     "execution_count": 151,
     "metadata": {},
     "output_type": "execute_result"
    }
   ],
   "source": [
    "start_codon('NM_001385634', input_data,1)"
   ]
  },
  {
   "cell_type": "code",
   "execution_count": null,
   "id": "374fe082",
   "metadata": {},
   "outputs": [],
   "source": []
  },
  {
   "cell_type": "code",
   "execution_count": null,
   "id": "6a2f3d79",
   "metadata": {},
   "outputs": [],
   "source": []
  },
  {
   "cell_type": "code",
   "execution_count": 148,
   "id": "ca94d4bf",
   "metadata": {
    "scrolled": false
   },
   "outputs": [
    {
     "name": "stdout",
     "output_type": "stream",
     "text": [
      "1307\n",
      "1108\n",
      "195\n",
      "60\n",
      "2883\n"
     ]
    },
    {
     "data": {
      "text/plain": [
       "'ATGCTC'"
      ]
     },
     "execution_count": 148,
     "metadata": {},
     "output_type": "execute_result"
    }
   ],
   "source": [
    "exon_data('NM_001385633', base_data[\"NM_001385633::chr7:44239875-44254175\"])[434:440]"
   ]
  },
  {
   "cell_type": "code",
   "execution_count": 149,
   "id": "cb7bd18e",
   "metadata": {},
   "outputs": [
    {
     "name": "stdout",
     "output_type": "stream",
     "text": [
      "1307\n",
      "1108\n",
      "195\n",
      "60\n",
      "2883\n"
     ]
    },
    {
     "data": {
      "text/plain": [
       "'CtttttttttcgaggcagagtctcatgcagcccaggctggcctctatctcactttgtagcatgaccttgaacgcctgatcccccttccttcacGGTACCTGGCTCTTTCCCATACCTGGCTCTGAGGTCTCCATTTTCGCTGTGCTGCTGAGTTAGGCATTTTTAGGGTCCCCTTGACGCCCCGCCCTCTCCTAGGTAGGATCCAATCCCTGAGCTTTCTGTGCAACCCCACCTCCTCTAGCTAGGCTGGGTCGGAGTCTGCCTAGCCGTGGCCCCGCCCAGTCGCTCAGCCCAATCAGCTCGTGCCCTCCCTCCACCTGCCCAATCACACCCTCCCATCCATTCATCGCCTCCTCCTGTCCAATCACGTCTGCCTCTCTAcccgggccccgcccccgagaccctgccccctcccagccccgcctccCTGTCCAATGCTCAGTTCAGTGTGCGTCTGGTCGTTCCGCGGGCGCCAGGGGACCGGCAagcagcagcctcagccggtgccaacgccgcagccgcctgagtcctcaccgccgcctctgccgccgccgcagcagcagcAGTGCTCTCAGCCCGGCACTGCCGCCTCCCCGGCGGGTGCCCCGCTTTCCTGCGGGCCTGGGGGCCGGCGTGCCGAGCCATGCCCCGGGCTGCcggcggtggccatggggcggcacggcggcggcggcggcgacagcggTAAGATCGTGATCAACGTGGGCGGCGTGCGCCATGAGACGTACCGCTCCACGTTGCGCACCCTGCCAGGGACCAGACTGGCCGGGCTGACCGAGCCCGAGGCGGCCGCGCGCTTTGACTACGACCCGGGCACGGACGAGTTCTTCTTCGACCGTCACCCGGGCGTCTTCGCCTACGTGCTCAACTACTACCGCACCGGCAAACTGCACTGCCCGGCCGACGTGTGCGGGCCGCTCTTCGAGGAGGAGCTGGGCTTCTGGGGCATAGACGAGACGGACGTGGAGGCCTGCTGCTGGATGACCTATCGCCAGCACCGTGACGCTGAGGAGGCACTGGACTCTTTCGAGGCCCCGGACTCCTCGGCCAACGCCAACGCCAACGCCGGAGGCGCGCACGATGCGGGACTGGACGACGAGGCGGGCGCAGGAGGCGGCGGCCTGGACGGGGCAGGCGGCGAGCTCAAGCGTCTGTGTTTTCAGGACGCGGGCGGAGGTGCCGGAGGACCTGCCGGGGGCGCGGGCGGCGCGGGCGGCACCTGGTGGCGGCGCTGGCAGCCCCGTGTGTGGGCGCTTTTTGAGGACCCCTACTCGTCGCGGGCTGCCAGGTATGTGGCCTTCGCCTCCCTATTCTTTATCCTCATCTCCATCACCACCTTCTGCCTGGAGACACACGAGGGCTTCATCCACATCAGCAACAAGACGGTGACGCAGGCCTCCCCAATCCCTGGGGCTCCCCCGGAGAATATCACCAACGTGGAGGTGGAGACGGAACCCTTCTTGACCTACGTGGAAGGCGTGTGTGTGGTCTGGTTCACCTTTGAGTTTCTCATGCGGGTCACCTTCTGCCCAGATAAGGTGGAGTTTCTCAAAAGCAGCCTGAACATCATCGACTGCGTGGCCATCTTGCCCTTCTACTTGGAAGTGGGCCTGTCAGGTCTCAGCTCCAAAGCTGCCAAGGACGTGCTGGGCTTCCTGCGTGTCGTCCGCTTCGTGCGCATCCTTCGTATCTTCAAGCTGACCCGTCACTTCGTGGGGCTGCGTGTGCTGGGCCACACGCTCCGGGCCAGCACCAACGAATTCTTGTTACTCATCATCTTCCTGGCTCTGGGGGTCCTCATCTTTGCCACCATGATCTACTATGCCGAACGCATCGGGGCTGATCCTGACGACATCCTGGGCTCCAACCACACCTACTTCAAGAACATCCCCATCGGCTTCTGGTGGGCTGTGGTCACCATGACGACACTGGGCTATGGAGACATGTATCCCAAGACGTGGTCTGGGATGCTGGTTGGGGCACTGTGTGCCCTGGCTGGTGTGCTGACCATTGCCATGCCCGTGCCTGTCATTGTCAACAACTTCGGCATGTACTATTCACTGGCTATGGCCAAGCAGAAATTGCCAAAGAAGAAAAACAAACATATTCCCAGGCCCCCGCAGCCTGGCTCACCCAACTACTGCAAGCCTGACcccccgcctccacccccaccacacccccaccACGGCAGCGGTGGCATAAGCCCACCGCCGCCCATCACCCCTCCTTCCATGGGGGTGAATGTGGCCGGGGCCTACCCACCTGGACCCCACACACACCCCGGGCTGCTCAGGGGTGGTGCTGGGGGCCTGGGAATCATGGGATTGCCTCCTCTGCCAGCCCCTGGTGAGCCCTGCCCATTGGCTCAAGAAGAGGTGATTGAAACCAACAGGGCAGTAGACCCCCGTCCCAATGGAGACCCTGCAGCAGCCGCACTGGCCCATGAGGACTGCCCTGCCATCGACCAGCCAGCCATGTCTCCAGAAGACAAGAGCCCAATCACTCCCGGAAGCCGGGGTCGCTACAGCCGGGACCGAGCTTGCTTCCTTGTCACAGACTATGCCCCTTCCCCTGATGGCTCCATCCGAAAAGCTCTTGTCACCGCCTGAGACCTCGCGAGACCCTCGGGTTCCCCCTGTCCCTTCCCCCCAGGTTACGAGAAGTCCCGCAGCCTGAGCAGCATTGTGGGCCTGAGCGGGGTGTccctgcgcctcgcgcccctcgccaccccccctggctctccccgggccacgcgccgagctcccccgaccctgcccTCCATCCTCTAGCGCAGCCCTCCCCCCTGTGGGGGGACTGGGGGTGATGGGAAGGTGAAAAGGAGCTGGGAGTAGGGCTGGGGAAAGGGTTCTTTTTTTAAAAAAAAAAAAGTCAATAATATGCAAAAGAGACGATGCCAGCAGACACCCCCGGGGCCTCTCACTCCCCATACACTAGAAAACCCAGGATAGAGGGGGCAGGGCCGGAGCCTGTACCCCATCTCCCTCCCCCTTCCAAAAAAAAAAAAAAAAGCAAACCTCAGGTCTCCATGAGCCATAGGACACCCCTCCCATCGACTCCTGTAAATAACTAAAAGCTGATTCCATCTTGGGGCACCCACTCCAGTTTGCATGCCTCCCCGACCCCCTCTTCAGCAATAAGCCGCCAGGAGCTGTGTGCAAAGAGTTGGAGGGGAGGCTGCTGGGAGCCTCTAAGGTCGGAGCTAGCATTTTTAGGGGTCTTCCTGGTCACCCGCCCCCCAAAGGGCAACCCACCCATCACTAATTGATTCAGGAAAAACAAAAACCTCTAGGAACACGTAGGAAAAGGAAGACAGGTTAATCAGCCGCAGCCCCGAGGAGCTCAGCTTGGGGGTGGGGGGGTTCTGCCAGCTGCTCTTGGGCTTGGAGGACGCCAGCTGGTGCATTCCACCCACGCCCGCCTCCAGGGATCTGCTCCCTCTATTCGCTGCATGGACTTGGCCCTCCAGGCCCAGAACCCTCTACCCACTGCAGTCTCCACTCTATCCCAAGAGGTGAGACTAGTACCCTAGACTTAAGGAGACAGAACCTGGCACCCTGCACTCCCACACCCCACGGACTCCGGCGCCCCCCACTCCTCACCTCCATCACTCCATCCATCCCCCACTGGCCTGGACTGCACCACAGAGTTTTTCCACTCTTCCCTTGCACCTCCGCTCACTTCCAGCCTTCGGGGTTCTGACAGTCCTCAAGACCCTGACATTGCCTAGACACCCCTATATCCCCAACCCCAGACGGCCCCAACTCCCTGACATCACACTCCTCTGTCCCCTGGCGCCTCTGGCGCAAGACCTTCCCGGACAAGCTCCGTCTGTCTGATTACAGAGAGCTCCCATCCCATTCCAGTATTACTGTCTAGGCAGCCCCCTCCTCACCGCCCTCTCCCCCCCCACCCCATGGTGCCAAAACACACTTTCTTCATGGCCACCAGAGTTTCCCAGAGCGTGGGACTCCCGTTCCCTCTTCGTGTGCTGAAGTTTGCAAAGTGCACAGACGACCAAGTGTTTTAAACTTGTGTGCTCTTTGCAGGCTCACACCCGGCTGGTGCGTCCTGGCAGCGCAGCAGTTGGGTGTTGCCACTGAAAGCAAGTCTAAGACAggatgggacccaatgctaaaagcgcttgcttaatgtgctaaggtcccagggttcaaactccagcaACCCCTCTTCCCCTACTGGTGGGCAAAGAGGACATACCCACCTCGGCTAGGATCTCAGCCTGCCCTTCCCAGCTTCCTTGCCCACTACGTGCCACATTCTCGGATGGAAAACTTTCTCAAATCTCGTCTTGGCTCCAGGATGCTACCTCCCCCAAGCCCAGAGACCACACTGGTCCCAGAATCCTTAGCGAACTATCCCCTTTGGAGCTGGGTGGTCGGCAGAATTAGCAATCCCTTGTTCCCACCGCCTCAGGGAAACCTCCCGCTGTCACCAGAGTTGTCGGTGGGGGTGTCCTTGGGCCCAATTCTTGATGCAACAATTCCTATGCAAGGGACATTTTGAGTCCCTCCCGCACCCCCCGCCTTCCCTCGGGACCTTAAACTCTGGTGAGACAGGGGTTGAGGAGTGGGGTGGGATCTGGTAGGGGCAGGGCAAAGGGCTAGGGGACTCTAGACACCAGGGTATGGGCTGAGGACTCCTAATATTGCCAAAGGATTCAACTTATTTAACAACCCCTATTATCCCCGCCCCCCTGTCCCTTAAAAGAGACGAATGGGGCGGGGAAAGGGGTAAGAGTCCTTTTTGAAGGGTACCAACCACTTCCCACTGTTTTCCCCTGCTCTCCAGTTCCCTACACATATCCAGCTTTTTAGTTAAGCATTTTTAAAAAGCTACCGTCATTATAAACGTCTACAAAACGTGATTTTTGCCCCTCCACATCCCCCAATTTACCAAACAGTGTGGGATTAGGGGAGGGAGAGCCAGGTCCTGGTCTCCCTTTTCCCCACGGCCGCCAGGGTGCCTGCAACTGCACGCATGCGCTGCATGACGCGCCCCCCCCACATACACACGCATGCGTCGCGCACCCCTCCTGCGCTGGGGGGGGACGCGCGGACTTGGGGGCGGGGCGATGGGGAGGAATGATTGGCAGAGGGGAAGGGGGTCTTTCTGAGCTCAATGGCTCCTCTCCTTCCCCACACACTCACAGCAATAAGTTTCTCTACTTCTAGTGGGCGGACGGGCCTAGCCTGACCTGGCGCGGGAGGGGCTGGCCAATGGGCGCTCTCAGGGATGGGGGCGGGTCCTGAGTCTGGGGGAGGGGAGGTCTGCAACTCTGGTGCTAATGGCGGGTCTTCCTGGCCCACCCGCAGGCAGGGAGGAAGGAGTCGGCAGGCTCCTCCCCCAAGCCTCCCCCACGCCCACCCAGGGTGCATGAACCACCCACGCAGAAGCTGCCGCATGTCAACCCTCCCCCCCACAAAGAAACAGTGTCATGCCCCTTCCCACCTGCCCTCCCACTCCCCAGCCCAATAAATGATACCTTTTCATTTA'"
      ]
     },
     "execution_count": 149,
     "metadata": {},
     "output_type": "execute_result"
    }
   ],
   "source": [
    "exon_data('NM_001385633', base_data[\"NM_001385633::chr7:44239875-44254175\"])"
   ]
  },
  {
   "cell_type": "code",
   "execution_count": 49,
   "id": "58b87a86",
   "metadata": {},
   "outputs": [],
   "source": [
    "data = gene_df[gene_df['name']=='NM_001011874']\n",
    "start = data['exonStarts'].to_list()[0]\n",
    "numbers_str =start"
   ]
  },
  {
   "cell_type": "code",
   "execution_count": null,
   "id": "60e949d5",
   "metadata": {},
   "outputs": [],
   "source": []
  },
  {
   "cell_type": "code",
   "execution_count": 50,
   "id": "d4ca2602",
   "metadata": {},
   "outputs": [
    {
     "name": "stdout",
     "output_type": "stream",
     "text": [
      "['3284704', '3491924', '3740774', '']\n"
     ]
    }
   ],
   "source": [
    "#numbers_str = \"3284704,3491924,3740774\"\n",
    "numbers_list = [num for num in numbers_str.split(\",\")]\n",
    "\n",
    "print(numbers_list)  # 出力: [3284704, 3491924, 3740774]\n"
   ]
  },
  {
   "cell_type": "code",
   "execution_count": null,
   "id": "ae8a9059",
   "metadata": {},
   "outputs": [],
   "source": []
  },
  {
   "cell_type": "code",
   "execution_count": null,
   "id": "65db22a9",
   "metadata": {},
   "outputs": [],
   "source": []
  },
  {
   "cell_type": "code",
   "execution_count": null,
   "id": "54fb8d1e",
   "metadata": {},
   "outputs": [],
   "source": []
  },
  {
   "cell_type": "code",
   "execution_count": null,
   "id": "8e6e82bb",
   "metadata": {},
   "outputs": [],
   "source": []
  }
 ],
 "metadata": {
  "kernelspec": {
   "display_name": "Python 3",
   "language": "python",
   "name": "python3"
  },
  "language_info": {
   "codemirror_mode": {
    "name": "ipython",
    "version": 3
   },
   "file_extension": ".py",
   "mimetype": "text/x-python",
   "name": "python",
   "nbconvert_exporter": "python",
   "pygments_lexer": "ipython3",
   "version": "3.8.8"
  }
 },
 "nbformat": 4,
 "nbformat_minor": 5
}
