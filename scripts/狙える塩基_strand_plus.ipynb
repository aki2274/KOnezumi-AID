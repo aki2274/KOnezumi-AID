{
 "cells": [
  {
   "cell_type": "code",
   "execution_count": 1,
   "id": "ad239b1e",
   "metadata": {},
   "outputs": [],
   "source": [
    "import pandas as pd\n",
    "import numpy as np\n",
    "from pandas import DataFrame, Series\n",
    "\n",
    "path = \"refFlat.txt\"\n",
    "path_fa = \"result.fa\""
   ]
  },
  {
   "cell_type": "code",
   "execution_count": 2,
   "id": "15fdd2a8",
   "metadata": {},
   "outputs": [],
   "source": [
    "def read_fasta(file_path):\n",
    "    sequences = {}\n",
    "    seq_id = None\n",
    "    current_seq = \"\"\n",
    "\n",
    "    with open(file_path, \"r\") as file:\n",
    "        for line in file:\n",
    "            line = line.strip()\n",
    "\n",
    "            if line.startswith(\">\"):  \n",
    "                if seq_id is not None:\n",
    "                    sequences[seq_id] = current_seq\n",
    "                    current_seq = \"\"\n",
    "                seq_id = line[1:]  \n",
    "            else:\n",
    "                current_seq += line\n",
    "\n",
    "        if seq_id is not None and current_seq != \"\":\n",
    "            sequences[seq_id] = current_seq\n",
    "\n",
    "    return sequences\n",
    "\n"
   ]
  },
  {
   "cell_type": "code",
   "execution_count": 3,
   "id": "f9d1ba5d",
   "metadata": {},
   "outputs": [],
   "source": [
    "import re\n",
    "\n",
    "def split_by_space(text):\n",
    "    return re.split('\\s+', text)"
   ]
  },
  {
   "cell_type": "code",
   "execution_count": 4,
   "id": "4b13ee7a",
   "metadata": {},
   "outputs": [],
   "source": [
    "def gene_data(text_list):\n",
    "    contents =[]\n",
    "    for i in range(len(text_list)-1):\n",
    "        contents.append(text_list[i])\n",
    "    return contents"
   ]
  },
  {
   "cell_type": "code",
   "execution_count": 5,
   "id": "a6f7d54c",
   "metadata": {},
   "outputs": [],
   "source": [
    "def result(path):\n",
    "    with open(path, \"r\", encoding=\"utf-8\") as file:\n",
    "        lines =file.readlines()\n",
    "    result = []\n",
    "    for line in lines:\n",
    "        line =split_by_space(line)\n",
    "        contents=gene_data(line)\n",
    "        result.append(contents)\n",
    "    return result\n",
    "    "
   ]
  },
  {
   "cell_type": "code",
   "execution_count": 6,
   "id": "e4b25897",
   "metadata": {},
   "outputs": [],
   "source": [
    "gene_data =result(path)\n",
    "col_names =['geneName','name','chrom','strand','txStart','txEnd','cdsStart','cdsEnd','exonCount','exonStarts','exonEnds']\n",
    "gene_df=pd.DataFrame(gene_data,columns=col_names)"
   ]
  },
  {
   "cell_type": "code",
   "execution_count": 7,
   "id": "fd8857d2",
   "metadata": {},
   "outputs": [],
   "source": [
    "base_data = read_fasta(path_fa)"
   ]
  },
  {
   "cell_type": "code",
   "execution_count": 8,
   "id": "146fdf3d",
   "metadata": {},
   "outputs": [],
   "source": [
    "def target_base_CT_plus(seq):\n",
    "    match = re.findall('(?=(\\w{20}GG))', seq)\n",
    "    target_list=[]\n",
    "    for i in range(len(match)):\n",
    "        target = match[i][0:3]\n",
    "        if target =='CAA'or target =='CAG'or target =='CGA':\n",
    "            target_list.append(True)\n",
    "        \n",
    "        else:\n",
    "            target_list.append(False)\n",
    "    result =[match[s] for s in range(len(match)) if target_list[s]]\n",
    "    result = list(dict.fromkeys(result))\n",
    "    return result"
   ]
  },
  {
   "cell_type": "code",
   "execution_count": 9,
   "id": "325e7334",
   "metadata": {},
   "outputs": [],
   "source": [
    "def target_base_AG_plus(seq):\n",
    "    match = re.findall('(?=(CC\\w{20}))', seq)\n",
    "    target_list=[]\n",
    "    for i in range(len(match)):\n",
    "        target = match[i][-3:]\n",
    "        if target =='TGG':#kここはCCA?\n",
    "            target_list.append(True)\n",
    "        \n",
    "        else:\n",
    "            target_list.append(False)\n",
    "    result =[match[s] for s in range(len(match)) if target_list[s]]\n",
    "    result = list(dict.fromkeys(result))\n",
    "    return result"
   ]
  },
  {
   "cell_type": "code",
   "execution_count": 10,
   "id": "f814ddb8",
   "metadata": {},
   "outputs": [],
   "source": [
    "def target_start(target_list,qua):    \n",
    "    result = []\n",
    "    for i in target_list:\n",
    "        matches = re.finditer(i, qua)\n",
    "        for match in matches:\n",
    "            start_index = match.start()\n",
    "            result.append(start_index)\n",
    "    return result"
   ]
  },
  {
   "cell_type": "code",
   "execution_count": 11,
   "id": "be458403",
   "metadata": {},
   "outputs": [],
   "source": [
    "def target_gene_start(name,target):\n",
    "    data = gene_df[gene_df['name']==name]\n",
    "    num = data['txStart'].astype(int).to_numpy()\n",
    "    target = np.array(target)\n",
    "    result = target+num\n",
    "    #ここ-1が必要かもしれない？\n",
    "    return result\n",
    "    "
   ]
  },
  {
   "cell_type": "code",
   "execution_count": null,
   "id": "dbb8b375",
   "metadata": {},
   "outputs": [],
   "source": []
  },
  {
   "cell_type": "code",
   "execution_count": null,
   "id": "3071b006",
   "metadata": {},
   "outputs": [],
   "source": []
  },
  {
   "cell_type": "code",
   "execution_count": 12,
   "id": "01492624",
   "metadata": {},
   "outputs": [],
   "source": [
    "def exon_data(name,sequence_data):\n",
    "    data = gene_df[gene_df['name']==name]\n",
    "    set_num =int(data['txStart'].to_list()[0])\n",
    "    start = data['exonStarts'].to_list()[0]\n",
    "    end = data['exonEnds'].to_list()[0]#最後に空白があるからその対処\n",
    "    exon_seq_list = []\n",
    "    start_list = [num for num in start.split(\",\")]\n",
    "    end_list = [num for num in end.split(\",\")]\n",
    "    for s in range(len(start_list)-1):\n",
    "        start_num = int(start_list[s])- set_num\n",
    "        \n",
    "        end_num= int(end_list[s]) - set_num\n",
    "    \n",
    "        \n",
    "        exon_seq =sequence_data[start_num:end_num]\n",
    "        exon_seq_list.append(exon_seq)\n",
    "        \n",
    "    \n",
    "    \n",
    "    return ''.join(exon_seq_list)"
   ]
  },
  {
   "cell_type": "code",
   "execution_count": 13,
   "id": "448bdc9b",
   "metadata": {},
   "outputs": [],
   "source": [
    "def where_start_codon(name):\n",
    "    data = gene_df[gene_df['name']==name]\n",
    "    cdsStart =int(data['cdsStart'].to_list()[0])\n",
    "    set_num =int(data['cdsStart'].to_list()[0])-int(data['txStart'].to_list()[0])\n",
    "    start = data['exonStarts'].to_list()[0]\n",
    "    end = data['exonEnds'].to_list()[0]#最後に空白があるからその対処\n",
    "    start = list(start.split(','))\n",
    "    end = list(end.split(','))\n",
    "    for s in range(len(start)-1):\n",
    "        if (int(start[s]) <= cdsStart<=int(end[s])):\n",
    "             exon_num =s\n",
    "            \n",
    "    return exon_num\n"
   ]
  },
  {
   "cell_type": "code",
   "execution_count": 14,
   "id": "4a9f056d",
   "metadata": {},
   "outputs": [],
   "source": [
    "def start_codon(name,exon_data,exon_num):\n",
    "    data = gene_df[gene_df['name']==name]\n",
    "    set_num =int(data['cdsStart'].to_list()[0])-int(data['txStart'].to_list()[0])\n",
    "    CDs =''\n",
    "    start = data['exonStarts'].to_list()[0]\n",
    "    end = data['exonEnds'].to_list()[0]#最後に空白があるからその対処\n",
    "    start = list(start.split(','))\n",
    "    end = list(end.split(','))\n",
    "    cds_list=[]\n",
    "    if exon_num == 0:\n",
    "            cds_list.append(exon_data[set_num:])\n",
    "            \n",
    "    \n",
    "    \n",
    "    else:     \n",
    "        start_num = int(data['cdsStart'].to_list()[0])- int(start[exon_num])\n",
    "\n",
    "        for s in range(exon_num):\n",
    "            start_num += int(end[s])-int(start[s])\n",
    "        cds_list.append(exon_data[start_num:])\n",
    "        \n",
    "    return ''.join(cds_list)"
   ]
  },
  {
   "cell_type": "code",
   "execution_count": 15,
   "id": "1c83ebfd",
   "metadata": {},
   "outputs": [],
   "source": [
    "def end_codon(cds_seq):\n",
    "    matches = re.finditer('(?=(CAA)|(?=(CAG))|(?=(CGA))|(?=(TGG)))', cds_seq)\n",
    "    result=[]\n",
    "    for match in matches:\n",
    "        start_pos = match.start() \n",
    "        \n",
    "        if (start_pos % 3) == 0:\n",
    "            result.append(start_pos)\n",
    "    return result"
   ]
  },
  {
   "cell_type": "code",
   "execution_count": null,
   "id": "b682f9bb",
   "metadata": {},
   "outputs": [],
   "source": [
    "#こいつらに要修正"
   ]
  },
  {
   "cell_type": "code",
   "execution_count": 16,
   "id": "a1c6110c",
   "metadata": {},
   "outputs": [],
   "source": [
    "def add_num_list(name):#修正が必要\n",
    "    data = gene_df[gene_df['name']==name]\n",
    "    set_num =int(data['cdsStart'].to_list()[0])\n",
    "    start = data['exonStarts'].to_list()[0]\n",
    "    end = data['exonEnds'].to_list()[0]#最後に空白があるからその対処\n",
    "    start = list(start.split(','))\n",
    "    end = list(end.split(','))\n",
    "    add_list=[]\n",
    "    num = 0\n",
    "    for s in range(len(start)-1):\n",
    "        element_list=[]\n",
    "        element_list.append(num)\n",
    "        \n",
    "        num += int(end[s])-int(start[s])\n",
    "        \n",
    "        element_list.append(num)\n",
    "        add_list.append(element_list)\n",
    "        \n",
    "    return add_list"
   ]
  },
  {
   "cell_type": "code",
   "execution_count": 259,
   "id": "aad0d469",
   "metadata": {},
   "outputs": [],
   "source": [
    "def add_num_correct(name,number_list, interval_list,exon_num):\n",
    "    data = gene_df[gene_df['name']==name]\n",
    "    set_num =int(data['cdsStart'].to_list()[0])\n",
    "    start = data['exonStarts'].to_list()[0]\n",
    "    end = data['exonEnds'].to_list()[0]#最後に空白があるからその対処\n",
    "    start = list(start.split(','))\n",
    "    end = list(end.split(','))\n",
    "    add_result=[]\n",
    "    \n",
    "    number_list = np.array(number_list)\n",
    "    start_num=int(interval_list[exon_num][0])\n",
    "    number_list = number_list + (set_num-int(start[exon_num])+start_num)\n",
    "    number_list = number_list.tolist()#ここでエクソン上で何番目かになってる（cdsからエクソン上に）\n",
    "    print(number_list)\n",
    "    \n",
    "    \n",
    "    indices = []\n",
    "    for number in number_list:\n",
    "        for index, interval in enumerate(interval_list):\n",
    "           # print(index)\n",
    "            if int(interval[0]) <= int(number) < int(interval[1]):\n",
    "                indices.append(index)\n",
    "                break\n",
    "    n =0        \n",
    "    for i in indices:\n",
    "        \n",
    "        if i == 0:\n",
    "            add_result.append(set_num)\n",
    "            n +=1\n",
    "        else:\n",
    "            add_result.append(int(number_list[n])-int(interval_list[i][0]))\n",
    "            n += 1\n",
    "        \n",
    "    print(add_result)\n",
    "    return add_result"
   ]
  },
  {
   "cell_type": "code",
   "execution_count": 260,
   "id": "f3c1a136",
   "metadata": {},
   "outputs": [],
   "source": [
    "def add_num(name,number_list, interval_list,exon_num):\n",
    "    print(interval_list)\n",
    "    print(number_list)\n",
    "    data = gene_df[gene_df['name']==name]\n",
    "    set_num =int(data['cdsStart'].to_list()[0])\n",
    "    start = data['exonStarts'].to_list()[0]\n",
    "    end = data['exonEnds'].to_list()[0]#最後に空白があるからその対処\n",
    "    start = list(start.split(','))\n",
    "    end = list(end.split(','))\n",
    "    add_result=[]\n",
    "    \n",
    "    number_list = np.array(number_list)\n",
    "    start_num=int(interval_list[exon_num][0])\n",
    "    number_list = number_list + (set_num-int(start[exon_num])+start_num)\n",
    "    number_list = number_list.tolist()#ここでエクソン上で何番目かになってる（cdsからエクソン上に）\n",
    "    print(number_list)\n",
    "    \n",
    "    \n",
    "    indices = []\n",
    "    for number in number_list:\n",
    "        for index, interval in enumerate(interval_list):\n",
    "           # print(index)\n",
    "            if int(interval[0]) <= int(number) < int(interval[1]):\n",
    "                indices.append(index)\n",
    "                break\n",
    "            \n",
    "    for i in indices:\n",
    "        if i == 0:\n",
    "            add_result.append(set_num)\n",
    "        else:\n",
    "            add_result.append(int(start[i]))\n",
    "            \n",
    "    print(add_result)\n",
    "    return add_result"
   ]
  },
  {
   "cell_type": "code",
   "execution_count": 261,
   "id": "c96d9675",
   "metadata": {},
   "outputs": [
    {
     "data": {
      "text/html": [
       "<div>\n",
       "<style scoped>\n",
       "    .dataframe tbody tr th:only-of-type {\n",
       "        vertical-align: middle;\n",
       "    }\n",
       "\n",
       "    .dataframe tbody tr th {\n",
       "        vertical-align: top;\n",
       "    }\n",
       "\n",
       "    .dataframe thead th {\n",
       "        text-align: right;\n",
       "    }\n",
       "</style>\n",
       "<table border=\"1\" class=\"dataframe\">\n",
       "  <thead>\n",
       "    <tr style=\"text-align: right;\">\n",
       "      <th></th>\n",
       "      <th>geneName</th>\n",
       "      <th>name</th>\n",
       "      <th>chrom</th>\n",
       "      <th>strand</th>\n",
       "      <th>txStart</th>\n",
       "      <th>txEnd</th>\n",
       "      <th>cdsStart</th>\n",
       "      <th>cdsEnd</th>\n",
       "      <th>exonCount</th>\n",
       "      <th>exonStarts</th>\n",
       "      <th>exonEnds</th>\n",
       "    </tr>\n",
       "  </thead>\n",
       "  <tbody>\n",
       "    <tr>\n",
       "      <th>5050</th>\n",
       "      <td>Ikzf1</td>\n",
       "      <td>NM_001301868</td>\n",
       "      <td>chr11</td>\n",
       "      <td>+</td>\n",
       "      <td>11635924</td>\n",
       "      <td>11722926</td>\n",
       "      <td>11650218</td>\n",
       "      <td>11719581</td>\n",
       "      <td>8</td>\n",
       "      <td>11635924,11650204,11657784,11698310,11704006,1...</td>\n",
       "      <td>11636468,11650258,11657904,11698571,11704174,1...</td>\n",
       "    </tr>\n",
       "  </tbody>\n",
       "</table>\n",
       "</div>"
      ],
      "text/plain": [
       "     geneName          name  chrom strand   txStart     txEnd  cdsStart  \\\n",
       "5050    Ikzf1  NM_001301868  chr11      +  11635924  11722926  11650218   \n",
       "\n",
       "        cdsEnd exonCount                                         exonStarts  \\\n",
       "5050  11719581         8  11635924,11650204,11657784,11698310,11704006,1...   \n",
       "\n",
       "                                               exonEnds  \n",
       "5050  11636468,11650258,11657904,11698571,11704174,1...  "
      ]
     },
     "execution_count": 261,
     "metadata": {},
     "output_type": "execute_result"
    }
   ],
   "source": [
    "gene_df[gene_df['name']==\"NM_001301868\"]"
   ]
  },
  {
   "cell_type": "code",
   "execution_count": 262,
   "id": "01c7affa",
   "metadata": {},
   "outputs": [],
   "source": [
    "a = exon_data(\"NM_001301868\",base_data['NM_001301868::chr11:11635924-11722926'])"
   ]
  },
  {
   "cell_type": "code",
   "execution_count": 263,
   "id": "51dc3739",
   "metadata": {},
   "outputs": [
    {
     "data": {
      "text/plain": [
       "''"
      ]
     },
     "execution_count": 263,
     "metadata": {},
     "output_type": "execute_result"
    }
   ],
   "source": [
    "base_data['NM_001301868::chr11:11635924-11722926'][11723161-11635924:]"
   ]
  },
  {
   "cell_type": "code",
   "execution_count": 264,
   "id": "bedaeb88",
   "metadata": {},
   "outputs": [
    {
     "data": {
      "text/plain": [
       "'CAATCCTTTCTAATACATTTTTTC'"
      ]
     },
     "execution_count": 264,
     "metadata": {},
     "output_type": "execute_result"
    }
   ],
   "source": [
    "a[5397:]"
   ]
  },
  {
   "cell_type": "code",
   "execution_count": 265,
   "id": "ac66f264",
   "metadata": {},
   "outputs": [
    {
     "data": {
      "text/plain": [
       "'ATGGATGTCGATGAGGGTCAAGACATGTCCCAAGTTTCAGGAAAGGAGAGCCCCCCAGTCAGTGACACTCCAGATGAAGGGGATGAGCCCATGCCTGTCCCTGAGGACCTGTCCACTACCTCTGGAGCACAGCAGAACTCCAAGAGTGATCGAGGCATGGCCAGTAATGTTAAAGTAGAGACTCAGAGTGATGAAGAGAATGGGCGTGCCTGTGAAATGAATGGGGAAGAATGTGCAGAGGATTTACGAATGCTTGATGCCTCGGGAGAGAAAATGAATGGCTCCCACAGGGACCAAGGCAGCTCGGCTTTGTCAGGAGTTGGAGGCATTCGACTTCCTAACGGAAAACTAAAGTGTGATATCTGTGGGATCGTTTGCATCGGGCCCAATGTGCTCATGGTTCACAAAAGAAGTCATACTGGTGAACGGCCTTTCCAGTGCAACCAGTGTGGGGCCTCCTTTACCCAGAAAGGCAACCTCCTGCGGCACATCAAGCTGCACTCGGGTGAGAAGCCCTTCAAATGCCATCTTTGCAACTATGCCTGCCGCCGGAGGGACGCCCTCACCGGCCACCTGAGGACGCACTCCGTTGGTAAGCCTCACAAATGTGGATATTGTGGCCGGAGCTATAAACAGCGAAGCTCTTTAGAGGAGCATAAAGAGCGATGCCACAACTACTTGGAAAGCATGGGCCTTCCGGGCATGTACCCAGTCATTAAGGAAGAAACTAACCACAACGAGATGGCAGAAGACCTGTGCAAGATAGGAGCAGAGAGGTCCCTTGTCCTGGACAGGCTGGCAAGCAATGTCGCCAAACGAGACAAGTGCCTGTCAGACATGCCCTATGACAGTGCCAACTATGAGAAGGAGGATATGATGACATCCCACGTGATGGACCAGGCCATCAACAATGCCATCAACTACCTGGGGGCTGAGTCCCTGCGCCCATTGGTGCAGACACCCCCCGGTAGCTCCGAGGTGGTGCCAGTCATCAGCTCCATGTACCAGCTGCACAAGCCCCCCTCAGATGGCCCCCCACGGTCCAACCATTCAGCACAGGACGCCGTGGATAACTTGCTGCTGCTGTCCAAGGCCAAGTCTGTGTCATCGGAGCGAGAGGCCTCCCCGAGCAACAGCTGCCAAGACTCCACAGATACAGAGAGCAACGCGGAGGAACAGCGCAGCGGCCTTATCTACCTAACCAACCACATCAACCCGCATGCACGCAATGGGCTGGCTCTCAAGGAGGAGCAGCGCGCCTACGAGGTGCTGAGGGCGGCCTCAGAGAACTCGCAGGATGCCTTCCGTGTGGTCAGCACGAGTGGCGAGCAGCTGAAGGTGTACAAGTGCGAACACTGCCGCGTGCTCTTCCTGGATCACGTCATGTATACCATTCACATGGGCTGCCATGGCTTTCGGGATCCCTTTGAGTGTAACATGTGTGGTTATCACAGCCAGGACAGGTACGAGTTCTCATCCCATATCACGCGGGGGGAGCATCGTTACCACCTGAGCTAAACCCAGCCAGGCCCCACTGAAGCACAAAGATAGCTGGTTATGCCTCCTTCCCGGCAGCTGGACCCACAGCGGACAATGTTGGGAGTGGATTTGCAGGCAGCATTTGTTCTTTTATGTTGGTTGTTTGGCGTTTGATTTGCGTTGGAAGATAAGTTTTTAATGTTAGTGACAGGATTGCATTGCATCAGGAACATTCACAACATCCATCCTTCTAGCCAGTTTTGTTCACTGGTAGCTGAGGTTTCCCGGATATGTGGCTTCCTAACACTCTCCCCACCCACCCCACCCCCCAAAACAGAGCCTGAATCTTCATGAAGTGAATAAAACAATTATCCAAGAAGGAGTAAGGTGGATCTTGCCCTAAGCAGAGTTTATGCCACAAAGATTCTCCAAATCCCCCAAGACAGCACAGCCACTGGGGTTGAGCCATCTCAGGGAGCTCTGCAGGTGAGCCAGAGGACCAGATATAAGGCAGCTGGGGAGGAGCAGGGACATCAGCCTGTGCAGAGACCAAGGCCAAAGGTTGAACTTTGAAAGACTATTAAGTCATATATTGTATGGCAATATGGTGTCTGGACAAGTTGTGCAATGTGCTGAAGGGAAGGGATTGGAGAGCCTTGAAGACTCTTCTTCATTTGCCTGATCAACCCGACCTCCAGAGGGTTTGTTGCCCAGTAAGACGAGCTCAGTGCTCTTGTGATCATTTTTCTCTTATCGTTTCCATGCCGTTGATGGCCCTGAAGCTCATCACTGCATTTTAGAACCCAATCCTGAAATTGGGACCTTTTTTTTAAACTTCTGATACTGTAAAACTTCTTGGAAGCCAAAGCTTTCTTCCAAGCCCCATCCTCAGTTATCCTGGTTCCTGTTCTTCCCCGAGCTGATAGTACCAGGACCTGTTATTCCACAAAAGCACAGGCATCCGTCACTTCAATTCAATCCCTGTTCAGATTATAGATATGGACTTTGCTATCTTGATAAATGTCTTCTCTATGTTATTTTGTCTGAAAAACCTATAAAACCATTATTAAGAATGACCATTTTTAGATGGAAGAAATGAGCCCAGCATCTCAGTGGCTAAAACACAAAATATCCATGCTTTTAAACAAAATTGTTAAATATTCCGAAGCTCTCTAGTATAAACACCAAGTAGCATGTGTTTTCACATAAAGAAGACAGGGGCCATGCAACCTTTATCAAGTGGAGGTATTAGAATGTTGTAATGTTTGGAGACACAGTGTGACCAGTACAGGTTCCCAGAGAGGAATGCCCACCATATCACAGAAAGGTAGAGGTGGGATCTGGTATAGCCAGACCAAGACAGGGATGTCACGCTGAAGCCAAGTCAGTTAGCTGAAGATTCTCAACAGGAAGGCCTCTCTTAAGAGTCAGTAATAGGGTTGTTACCATCCACCACCTCAACAAAACAAAAAGCTTATAATTGTAAATGTTTACAGCACTGTCTTCGCAGAAACTTTCTGAGGTGATTCCAAAGAACTAGAGGGGAGATGGTCTATAACAGCTCTTGAAGTAAACgaggttcttagtctcagctctcctgacatatagggcttgatcattactggtagggattgttctgtgaattgcttactactacccctggtctctccccagtagatgccaggaacattcTAGCTGATACCTAACTGTCTTCCCAGGTGTTCGAGGGAGCAAACCACTGATCTAAACTCTAAACGCTGAAGTACGCAGGTTTTCTAAAAATGACAAGCCCTTGAAACCTTTCCCAGTAGGCAGCCTCGAGCTGGACTTGTGTCTTTGGAATGCTGATGAATTCTATAGATCAGCATTGCAAATACACTTCAAATACGTCTGAGTTCAAGTGCAGGGACTGAGTTCACCAAGGTGTGAAATGTGCTCAAAAAGTTCAAAAGTGTGTGTTTCTTTGTTTCTAAAACATTGTGGCATCTTTTTCATTTGTTTCTAAAACTTTTTTTTTAGAAACAAATGAAGCACTTGGAAAGTGAAAGTAAAATTACAAATATAAGGATTTACACTGAAGAGAGAAAAATTTTAGGAACTATAGCTGTGAAAAGATTTTGTTCAAAAGGCAGGCTAGCCTTACCCAAATTCATATATGGCAGGTGTCAACCTCCCAAGCTTACAGTTAGCAGGCAGCTTTTGCTCACTCATCCTTAGCCATGAGAGCCATTAAGTGTGGTCCAAGAAAGATGGCTCCAAACCCTACCCCCGACCCACCAGTGGTATTCAGAGATTAAAGCAGAATTGTAAATAGTGGCTTCAGGAGCTCTTTTTTAGAATGCTTTGCCCCTTCCTCTCACTGCCTTTTTTAGCCAATATAAATGTCAATTTGCACACCTTTTGTTGTGGTTTTATATTGTAACAGCATTTTTTTGAAACTATTGTATTTAAGATAAGGTTTCATATTATGTCCACAAGTAATTAAATTATGTTTGAAGGTGGCTATATGCTGTATCAGAAGTTGATGATGTTTTTCTTTAGCTGGTAAAGGAGGGTTTTGCATGACCTCACTGTTTGTTCTGTGGTTTGTTCTGTTGTATGATGTGTGTCTTGAGTTTTGCTGTGTGATGAAGTGCGCTGAGATTCCAGTGCCCTCAAGTTGTGTTTTAAGTAGCTATCAGAGGCAAGAGGGTTCCTAAGAGCAGGTTGACCTGTTGGCGACAGATGGCAATCACCATTTCTCATTCCTTCTTCTCCCTGTTACCCCAGCTTCCTGTCCCAGGTCCCTTCTGTGATTCTTACCTTAGTGTGCATGTGTGTCTGTCCTGGTGAGAGTCAGGAGCATCGATATGTTATCATTGCATTATCACCAAGGGCACGCACAGCCTAGCACCTGTTGCTTCAGATACCGTCACACTCTGTTTCCAATTTAGATACAACCACATAATAAAATGTTAGAGTCTTCAATGGGAAGCAGAGGTGCTTGTTATAAAGATGGGGGCTTATGCTTGTGTCACATTTTGTGTTCTTTTCTTCTTTTGTTTGGTTTTAACTTAATTGTGACCCTTGTAACATCATCTTGCCAAAAAAAAAAAAAAAGTTGAACTGGATTTATGTAGACATGTCAAGACGTACTATCTATTTCTTTGTCAGTTATAGCAATAAGAGTGGATAAACTCTAAAATCCAGATCTCCCACAATGAACATCCGTGTTCTTTCTATGATTTTTCTTTCTTTATGGTGAGCCACAATTAAACTTGAGATGTACAGCCACCCAAACCCAGGAAGCTCATGTGCATCTGGTGCTATGGCACTCACTGTGAATAAGTGTGACCAGATATTAATATGCAATATTGTTTCCAATCCTTTCTAATACATTTTTTC'"
      ]
     },
     "execution_count": 265,
     "metadata": {},
     "output_type": "execute_result"
    }
   ],
   "source": [
    "start_codon(\"NM_001301868\",a,1)"
   ]
  },
  {
   "cell_type": "code",
   "execution_count": 276,
   "id": "7c6e1504",
   "metadata": {
    "scrolled": false
   },
   "outputs": [
    {
     "name": "stdout",
     "output_type": "stream",
     "text": [
      "[[0, 544], [544, 598], [598, 718], [718, 979], [979, 1147], [1147, 1270], [1270, 1375], [1375, 5421]]\n",
      "[18, 30, 129, 132, 150, 183, 246, 294, 330, 435, 444, 465, 633, 636, 663, 816, 897, 954, 1005, 1056, 1113, 1140, 1176, 1251, 1293, 1329, 1455, 1521, 1542, 1572, 1584, 1611, 1635, 1734, 1908, 1917, 1950, 1962, 1971, 2004, 2013, 2022, 2076, 2079, 2091, 2190, 2250, 2283, 2295, 2355, 2394, 2433, 2454, 2478, 2589, 2592, 2664, 2694, 2715, 2745, 2775, 2799, 2820, 2829, 2859, 2907, 2937, 2940, 3027, 3210, 3246, 3264, 3291, 3297, 3360, 3459, 3501, 3645, 3672, 3720, 3729, 3735, 3756, 3759, 3852, 3864, 3885, 3978, 4125, 4134, 4194, 4197, 4200, 4245, 4305, 4404, 4443, 4446, 4629, 4638, 4647, 4665, 4746, 4779, 4827, 4839]\n",
      "[576, 588, 687, 690, 708, 741, 804, 852, 888, 993, 1002, 1023, 1191, 1194, 1221, 1374, 1455, 1512, 1563, 1614, 1671, 1698, 1734, 1809, 1851, 1887, 2013, 2079, 2100, 2130, 2142, 2169, 2193, 2292, 2466, 2475, 2508, 2520, 2529, 2562, 2571, 2580, 2634, 2637, 2649, 2748, 2808, 2841, 2853, 2913, 2952, 2991, 3012, 3036, 3147, 3150, 3222, 3252, 3273, 3303, 3333, 3357, 3378, 3387, 3417, 3465, 3495, 3498, 3585, 3768, 3804, 3822, 3849, 3855, 3918, 4017, 4059, 4203, 4230, 4278, 4287, 4293, 4314, 4317, 4410, 4422, 4443, 4536, 4683, 4692, 4752, 4755, 4758, 4803, 4863, 4962, 5001, 5004, 5187, 5196, 5205, 5223, 5304, 5337, 5385, 5397]\n",
      "[11650204, 11650204, 11657784, 11657784, 11657784, 11698310, 11698310, 11698310, 11698310, 11704006, 11704006, 11704006, 11708194, 11708194, 11708194, 11711218, 11718880, 11718880, 11718880, 11718880, 11718880, 11718880, 11718880, 11718880, 11718880, 11718880, 11718880, 11718880, 11718880, 11718880, 11718880, 11718880, 11718880, 11718880, 11718880, 11718880, 11718880, 11718880, 11718880, 11718880, 11718880, 11718880, 11718880, 11718880, 11718880, 11718880, 11718880, 11718880, 11718880, 11718880, 11718880, 11718880, 11718880, 11718880, 11718880, 11718880, 11718880, 11718880, 11718880, 11718880, 11718880, 11718880, 11718880, 11718880, 11718880, 11718880, 11718880, 11718880, 11718880, 11718880, 11718880, 11718880, 11718880, 11718880, 11718880, 11718880, 11718880, 11718880, 11718880, 11718880, 11718880, 11718880, 11718880, 11718880, 11718880, 11718880, 11718880, 11718880, 11718880, 11718880, 11718880, 11718880, 11718880, 11718880, 11718880, 11718880, 11718880, 11718880, 11718880, 11718880, 11718880, 11718880, 11718880, 11718880, 11718880, 11718880]\n",
      "[576, 588, 687, 690, 708, 741, 804, 852, 888, 993, 1002, 1023, 1191, 1194, 1221, 1374, 1455, 1512, 1563, 1614, 1671, 1698, 1734, 1809, 1851, 1887, 2013, 2079, 2100, 2130, 2142, 2169, 2193, 2292, 2466, 2475, 2508, 2520, 2529, 2562, 2571, 2580, 2634, 2637, 2649, 2748, 2808, 2841, 2853, 2913, 2952, 2991, 3012, 3036, 3147, 3150, 3222, 3252, 3273, 3303, 3333, 3357, 3378, 3387, 3417, 3465, 3495, 3498, 3585, 3768, 3804, 3822, 3849, 3855, 3918, 4017, 4059, 4203, 4230, 4278, 4287, 4293, 4314, 4317, 4410, 4422, 4443, 4536, 4683, 4692, 4752, 4755, 4758, 4803, 4863, 4962, 5001, 5004, 5187, 5196, 5205, 5223, 5304, 5337, 5385, 5397]\n",
      "[32, 44, 89, 92, 110, 23, 86, 134, 170, 14, 23, 44, 44, 47, 74, 104, 80, 137, 188, 239, 296, 323, 359, 434, 476, 512, 638, 704, 725, 755, 767, 794, 818, 917, 1091, 1100, 1133, 1145, 1154, 1187, 1196, 1205, 1259, 1262, 1274, 1373, 1433, 1466, 1478, 1538, 1577, 1616, 1637, 1661, 1772, 1775, 1847, 1877, 1898, 1928, 1958, 1982, 2003, 2012, 2042, 2090, 2120, 2123, 2210, 2393, 2429, 2447, 2474, 2480, 2543, 2642, 2684, 2828, 2855, 2903, 2912, 2918, 2939, 2942, 3035, 3047, 3068, 3161, 3308, 3317, 3377, 3380, 3383, 3428, 3488, 3587, 3626, 3629, 3812, 3821, 3830, 3848, 3929, 3962, 4010, 4022]\n",
      "[11650236 11650248 11657873 11657876 11657894 11698333 11698396 11698444\n",
      " 11698480 11704020 11704029 11704050 11708238 11708241 11708268 11711322\n",
      " 11718960 11719017 11719068 11719119 11719176 11719203 11719239 11719314\n",
      " 11719356 11719392 11719518 11719584 11719605 11719635 11719647 11719674\n",
      " 11719698 11719797 11719971 11719980 11720013 11720025 11720034 11720067\n",
      " 11720076 11720085 11720139 11720142 11720154 11720253 11720313 11720346\n",
      " 11720358 11720418 11720457 11720496 11720517 11720541 11720652 11720655\n",
      " 11720727 11720757 11720778 11720808 11720838 11720862 11720883 11720892\n",
      " 11720922 11720970 11721000 11721003 11721090 11721273 11721309 11721327\n",
      " 11721354 11721360 11721423 11721522 11721564 11721708 11721735 11721783\n",
      " 11721792 11721798 11721819 11721822 11721915 11721927 11721948 11722041\n",
      " 11722188 11722197 11722257 11722260 11722263 11722308 11722368 11722467\n",
      " 11722506 11722509 11722692 11722701 11722710 11722728 11722809 11722842\n",
      " 11722890 11722902]\n"
     ]
    },
    {
     "data": {
      "text/plain": [
       "array([11650248])"
      ]
     },
     "execution_count": 276,
     "metadata": {},
     "output_type": "execute_result"
    }
   ],
   "source": [
    "CT_target_base_strand_plus(\"NM_001301868\")"
   ]
  },
  {
   "cell_type": "code",
   "execution_count": 273,
   "id": "e3586fab",
   "metadata": {},
   "outputs": [],
   "source": [
    "def CT_target_base_strand_plus(name,):\n",
    "    name_df=gene_df[gene_df['name']==name].reset_index()\n",
    "    chrom = str(name_df.loc[0,'chrom'])\n",
    "    txStart = str(name_df.loc[0,'txStart'])\n",
    "    txEnd = str(name_df.loc[0,'txEnd'])\n",
    "    \n",
    "    query = f'{name}::{chrom}:{txStart}-{txEnd}'\n",
    "    seq = base_data[query]\n",
    "    available_base_num =target_gene_start(name,target_start(target_base_CT_plus(seq),seq))#配列的に狙えるほう\n",
    "    \n",
    "    \n",
    "    \n",
    "    start_exon_num= where_start_codon(name)\n",
    "    end_codon_num =end_codon(start_codon(name,exon_data(name,seq),start_exon_num))   \n",
    "    add_list =add_num(name,end_codon_num,add_num_list(name),start_exon_num)\n",
    " \n",
    "    end_codon_num=add_num_correct(name,end_codon_num,add_num_list(name),start_exon_num)\n",
    "    \n",
    "    available_base_num =np.array(available_base_num)\n",
    "    end_codon_num = np.array(end_codon_num)\n",
    "    add_list = np.array(add_list)\n",
    " \n",
    "    \n",
    "    num_able = available_base_num\n",
    "    num_codon = end_codon_num+add_list\n",
    "    print(num_codon)\n",
    "    num_codon = [x for x in num_codon if x <= int(name_df.loc[0,'cdsEnd'])]\n",
    "    result = np.intersect1d(num_able,num_codon)\n",
    "\n",
    "    return result"
   ]
  },
  {
   "cell_type": "code",
   "execution_count": 274,
   "id": "eaec1a55",
   "metadata": {},
   "outputs": [],
   "source": [
    "def AG_target_base_strand_plus(name,):\n",
    "    name_df=gene_df[gene_df['name']==name].reset_index()\n",
    "    chrom = str(name_df.loc[0,'chrom'])\n",
    "    txStart = str(name_df.loc[0,'txStart'])\n",
    "    txEnd = str(name_df.loc[0,'txEnd'])\n",
    "    \n",
    "    query = f'{name}::{chrom}:{txStart}-{txEnd}'\n",
    "    seq = base_data[query]\n",
    "    available_base_num =target_gene_start(name,target_start(target_base_AG_plus(seq),seq))#配列的に狙えるほう\n",
    "\n",
    "    \n",
    "    start_exon_num= where_start_codon(name)\n",
    "    end_codon_num =end_codon(start_codon(name,exon_data(name,seq),start_exon_num))   \n",
    "    add_list =add_num(name,end_codon_num,add_num_list(name),start_exon_num)\n",
    "    \n",
    "  \n",
    "    \n",
    "    available_base_num =np.array(available_base_num)\n",
    "    end_codon_num = np.array(end_codon_num)\n",
    "    add_list = np.array(add_list)\n",
    "\n",
    "    num_able = available_base_num+19#GGXXXなので19たした\n",
    "    num_codon = end_codon_num+add_list\n",
    "    \n",
    "    num_codon = [x for x in num_codon if x <= int(name_df.loc[0,'cdsEnd'])]\n",
    " \n",
    "    result = np.intersect1d(num_able,num_codon)\n",
    "  \n",
    "    return result"
   ]
  },
  {
   "cell_type": "code",
   "execution_count": 275,
   "id": "58168a43",
   "metadata": {},
   "outputs": [
    {
     "name": "stdout",
     "output_type": "stream",
     "text": [
      "[[0, 1307], [1307, 2415], [2415, 2610], [2610, 2670], [2670, 5553]]\n",
      "[21, 39, 138, 525, 561, 576, 744, 804, 807, 816, 819, 831, 975, 1074, 1485, 1488, 1542, 1659, 1704, 1950, 2049, 2118, 2169, 2427, 2439, 2484, 2493, 2499, 2502, 2559, 2655, 2721, 2733, 2736, 2760, 2826, 2841, 2970, 3000, 3054, 3060, 3093, 3234, 3246, 3363, 3408, 3423, 3444, 3465, 3519, 3525, 3543, 3567, 3603, 3612, 3648, 3708, 3855, 3903, 3915, 3921, 4005, 4014, 4179, 4251, 4275, 4284, 4296, 4380, 4581, 4695, 4698, 4797, 4821, 4836, 4878, 4896, 4902, 4911, 4935, 5013]\n",
      "[455, 473, 572, 959, 995, 1010, 1178, 1238, 1241, 1250, 1253, 1265, 1409, 1508, 1919, 1922, 1976, 2093, 2138, 2384, 2483, 2552, 2603, 2861, 2873, 2918, 2927, 2933, 2936, 2993, 3089, 3155, 3167, 3170, 3194, 3260, 3275, 3404, 3434, 3488, 3494, 3527, 3668, 3680, 3797, 3842, 3857, 3878, 3899, 3953, 3959, 3977, 4001, 4037, 4046, 4082, 4142, 4289, 4337, 4349, 4355, 4439, 4448, 4613, 4685, 4709, 4718, 4730, 4814, 5015, 5129, 5132, 5231, 5255, 5270, 5312, 5330, 5336, 5345, 5369, 5447]\n",
      "[44240309, 44240309, 44240309, 44240309, 44240309, 44240309, 44240309, 44240309, 44240309, 44240309, 44240309, 44240309, 44244584, 44244584, 44244584, 44244584, 44244584, 44244584, 44244584, 44244584, 44247804, 44247804, 44247804, 44251292, 44251292, 44251292, 44251292, 44251292, 44251292, 44251292, 44251292, 44251292, 44251292, 44251292, 44251292, 44251292, 44251292, 44251292, 44251292, 44251292, 44251292, 44251292, 44251292, 44251292, 44251292, 44251292, 44251292, 44251292, 44251292, 44251292, 44251292, 44251292, 44251292, 44251292, 44251292, 44251292, 44251292, 44251292, 44251292, 44251292, 44251292, 44251292, 44251292, 44251292, 44251292, 44251292, 44251292, 44251292, 44251292, 44251292, 44251292, 44251292, 44251292, 44251292, 44251292, 44251292, 44251292, 44251292, 44251292, 44251292, 44251292]\n",
      "[455, 473, 572, 959, 995, 1010, 1178, 1238, 1241, 1250, 1253, 1265, 1409, 1508, 1919, 1922, 1976, 2093, 2138, 2384, 2483, 2552, 2603, 2861, 2873, 2918, 2927, 2933, 2936, 2993, 3089, 3155, 3167, 3170, 3194, 3260, 3275, 3404, 3434, 3488, 3494, 3527, 3668, 3680, 3797, 3842, 3857, 3878, 3899, 3953, 3959, 3977, 4001, 4037, 4046, 4082, 4142, 4289, 4337, 4349, 4355, 4439, 4448, 4613, 4685, 4709, 4718, 4730, 4814, 5015, 5129, 5132, 5231, 5255, 5270, 5312, 5330, 5336, 5345, 5369, 5447]\n",
      "[44240309, 44240309, 44240309, 44240309, 44240309, 44240309, 44240309, 44240309, 44240309, 44240309, 44240309, 44240309, 102, 201, 612, 615, 669, 786, 831, 1077, 68, 137, 188, 191, 203, 248, 257, 263, 266, 323, 419, 485, 497, 500, 524, 590, 605, 734, 764, 818, 824, 857, 998, 1010, 1127, 1172, 1187, 1208, 1229, 1283, 1289, 1307, 1331, 1367, 1376, 1412, 1472, 1619, 1667, 1679, 1685, 1769, 1778, 1943, 2015, 2039, 2048, 2060, 2144, 2345, 2459, 2462, 2561, 2585, 2600, 2642, 2660, 2666, 2675, 2699, 2777]\n",
      "[88480618 88480618 88480618 88480618 88480618 88480618 88480618 88480618\n",
      " 88480618 88480618 88480618 88480618 44244686 44244785 44245196 44245199\n",
      " 44245253 44245370 44245415 44245661 44247872 44247941 44247992 44251483\n",
      " 44251495 44251540 44251549 44251555 44251558 44251615 44251711 44251777\n",
      " 44251789 44251792 44251816 44251882 44251897 44252026 44252056 44252110\n",
      " 44252116 44252149 44252290 44252302 44252419 44252464 44252479 44252500\n",
      " 44252521 44252575 44252581 44252599 44252623 44252659 44252668 44252704\n",
      " 44252764 44252911 44252959 44252971 44252977 44253061 44253070 44253235\n",
      " 44253307 44253331 44253340 44253352 44253436 44253637 44253751 44253754\n",
      " 44253853 44253877 44253892 44253934 44253952 44253958 44253967 44253991\n",
      " 44254069]\n"
     ]
    },
    {
     "data": {
      "text/plain": [
       "array([44244686])"
      ]
     },
     "execution_count": 275,
     "metadata": {},
     "output_type": "execute_result"
    }
   ],
   "source": [
    "CT_target_base_strand_plus(\"NM_001385633\")"
   ]
  },
  {
   "cell_type": "code",
   "execution_count": 277,
   "id": "99f17602",
   "metadata": {},
   "outputs": [
    {
     "name": "stdout",
     "output_type": "stream",
     "text": [
      "[[0, 544], [544, 598], [598, 718], [718, 979], [979, 1147], [1147, 1270], [1270, 1375], [1375, 5421]]\n",
      "[18, 30, 129, 132, 150, 183, 246, 294, 330, 435, 444, 465, 633, 636, 663, 816, 897, 954, 1005, 1056, 1113, 1140, 1176, 1251, 1293, 1329, 1455, 1521, 1542, 1572, 1584, 1611, 1635, 1734, 1908, 1917, 1950, 1962, 1971, 2004, 2013, 2022, 2076, 2079, 2091, 2190, 2250, 2283, 2295, 2355, 2394, 2433, 2454, 2478, 2589, 2592, 2664, 2694, 2715, 2745, 2775, 2799, 2820, 2829, 2859, 2907, 2937, 2940, 3027, 3210, 3246, 3264, 3291, 3297, 3360, 3459, 3501, 3645, 3672, 3720, 3729, 3735, 3756, 3759, 3852, 3864, 3885, 3978, 4125, 4134, 4194, 4197, 4200, 4245, 4305, 4404, 4443, 4446, 4629, 4638, 4647, 4665, 4746, 4779, 4827, 4839]\n",
      "[576, 588, 687, 690, 708, 741, 804, 852, 888, 993, 1002, 1023, 1191, 1194, 1221, 1374, 1455, 1512, 1563, 1614, 1671, 1698, 1734, 1809, 1851, 1887, 2013, 2079, 2100, 2130, 2142, 2169, 2193, 2292, 2466, 2475, 2508, 2520, 2529, 2562, 2571, 2580, 2634, 2637, 2649, 2748, 2808, 2841, 2853, 2913, 2952, 2991, 3012, 3036, 3147, 3150, 3222, 3252, 3273, 3303, 3333, 3357, 3378, 3387, 3417, 3465, 3495, 3498, 3585, 3768, 3804, 3822, 3849, 3855, 3918, 4017, 4059, 4203, 4230, 4278, 4287, 4293, 4314, 4317, 4410, 4422, 4443, 4536, 4683, 4692, 4752, 4755, 4758, 4803, 4863, 4962, 5001, 5004, 5187, 5196, 5205, 5223, 5304, 5337, 5385, 5397]\n",
      "[11650204, 11650204, 11657784, 11657784, 11657784, 11698310, 11698310, 11698310, 11698310, 11704006, 11704006, 11704006, 11708194, 11708194, 11708194, 11711218, 11718880, 11718880, 11718880, 11718880, 11718880, 11718880, 11718880, 11718880, 11718880, 11718880, 11718880, 11718880, 11718880, 11718880, 11718880, 11718880, 11718880, 11718880, 11718880, 11718880, 11718880, 11718880, 11718880, 11718880, 11718880, 11718880, 11718880, 11718880, 11718880, 11718880, 11718880, 11718880, 11718880, 11718880, 11718880, 11718880, 11718880, 11718880, 11718880, 11718880, 11718880, 11718880, 11718880, 11718880, 11718880, 11718880, 11718880, 11718880, 11718880, 11718880, 11718880, 11718880, 11718880, 11718880, 11718880, 11718880, 11718880, 11718880, 11718880, 11718880, 11718880, 11718880, 11718880, 11718880, 11718880, 11718880, 11718880, 11718880, 11718880, 11718880, 11718880, 11718880, 11718880, 11718880, 11718880, 11718880, 11718880, 11718880, 11718880, 11718880, 11718880, 11718880, 11718880, 11718880, 11718880, 11718880, 11718880, 11718880, 11718880, 11718880]\n",
      "[576, 588, 687, 690, 708, 741, 804, 852, 888, 993, 1002, 1023, 1191, 1194, 1221, 1374, 1455, 1512, 1563, 1614, 1671, 1698, 1734, 1809, 1851, 1887, 2013, 2079, 2100, 2130, 2142, 2169, 2193, 2292, 2466, 2475, 2508, 2520, 2529, 2562, 2571, 2580, 2634, 2637, 2649, 2748, 2808, 2841, 2853, 2913, 2952, 2991, 3012, 3036, 3147, 3150, 3222, 3252, 3273, 3303, 3333, 3357, 3378, 3387, 3417, 3465, 3495, 3498, 3585, 3768, 3804, 3822, 3849, 3855, 3918, 4017, 4059, 4203, 4230, 4278, 4287, 4293, 4314, 4317, 4410, 4422, 4443, 4536, 4683, 4692, 4752, 4755, 4758, 4803, 4863, 4962, 5001, 5004, 5187, 5196, 5205, 5223, 5304, 5337, 5385, 5397]\n",
      "[32, 44, 89, 92, 110, 23, 86, 134, 170, 14, 23, 44, 44, 47, 74, 104, 80, 137, 188, 239, 296, 323, 359, 434, 476, 512, 638, 704, 725, 755, 767, 794, 818, 917, 1091, 1100, 1133, 1145, 1154, 1187, 1196, 1205, 1259, 1262, 1274, 1373, 1433, 1466, 1478, 1538, 1577, 1616, 1637, 1661, 1772, 1775, 1847, 1877, 1898, 1928, 1958, 1982, 2003, 2012, 2042, 2090, 2120, 2123, 2210, 2393, 2429, 2447, 2474, 2480, 2543, 2642, 2684, 2828, 2855, 2903, 2912, 2918, 2939, 2942, 3035, 3047, 3068, 3161, 3308, 3317, 3377, 3380, 3383, 3428, 3488, 3587, 3626, 3629, 3812, 3821, 3830, 3848, 3929, 3962, 4010, 4022]\n",
      "[11650236 11650248 11657873 11657876 11657894 11698333 11698396 11698444\n",
      " 11698480 11704020 11704029 11704050 11708238 11708241 11708268 11711322\n",
      " 11718960 11719017 11719068 11719119 11719176 11719203 11719239 11719314\n",
      " 11719356 11719392 11719518 11719584 11719605 11719635 11719647 11719674\n",
      " 11719698 11719797 11719971 11719980 11720013 11720025 11720034 11720067\n",
      " 11720076 11720085 11720139 11720142 11720154 11720253 11720313 11720346\n",
      " 11720358 11720418 11720457 11720496 11720517 11720541 11720652 11720655\n",
      " 11720727 11720757 11720778 11720808 11720838 11720862 11720883 11720892\n",
      " 11720922 11720970 11721000 11721003 11721090 11721273 11721309 11721327\n",
      " 11721354 11721360 11721423 11721522 11721564 11721708 11721735 11721783\n",
      " 11721792 11721798 11721819 11721822 11721915 11721927 11721948 11722041\n",
      " 11722188 11722197 11722257 11722260 11722263 11722308 11722368 11722467\n",
      " 11722506 11722509 11722692 11722701 11722710 11722728 11722809 11722842\n",
      " 11722890 11722902]\n"
     ]
    },
    {
     "data": {
      "text/plain": [
       "array([11650248])"
      ]
     },
     "execution_count": 277,
     "metadata": {},
     "output_type": "execute_result"
    }
   ],
   "source": [
    "CT_target_base_strand_plus(\"NM_001301868\")"
   ]
  },
  {
   "cell_type": "code",
   "execution_count": 278,
   "id": "39496ab7",
   "metadata": {},
   "outputs": [
    {
     "name": "stdout",
     "output_type": "stream",
     "text": [
      "[[0, 1307], [1307, 2415], [2415, 2610], [2610, 2670], [2670, 5553]]\n",
      "[21, 39, 138, 525, 561, 576, 744, 804, 807, 816, 819, 831, 975, 1074, 1485, 1488, 1542, 1659, 1704, 1950, 2049, 2118, 2169, 2427, 2439, 2484, 2493, 2499, 2502, 2559, 2655, 2721, 2733, 2736, 2760, 2826, 2841, 2970, 3000, 3054, 3060, 3093, 3234, 3246, 3363, 3408, 3423, 3444, 3465, 3519, 3525, 3543, 3567, 3603, 3612, 3648, 3708, 3855, 3903, 3915, 3921, 4005, 4014, 4179, 4251, 4275, 4284, 4296, 4380, 4581, 4695, 4698, 4797, 4821, 4836, 4878, 4896, 4902, 4911, 4935, 5013]\n",
      "[455, 473, 572, 959, 995, 1010, 1178, 1238, 1241, 1250, 1253, 1265, 1409, 1508, 1919, 1922, 1976, 2093, 2138, 2384, 2483, 2552, 2603, 2861, 2873, 2918, 2927, 2933, 2936, 2993, 3089, 3155, 3167, 3170, 3194, 3260, 3275, 3404, 3434, 3488, 3494, 3527, 3668, 3680, 3797, 3842, 3857, 3878, 3899, 3953, 3959, 3977, 4001, 4037, 4046, 4082, 4142, 4289, 4337, 4349, 4355, 4439, 4448, 4613, 4685, 4709, 4718, 4730, 4814, 5015, 5129, 5132, 5231, 5255, 5270, 5312, 5330, 5336, 5345, 5369, 5447]\n",
      "[44240309, 44240309, 44240309, 44240309, 44240309, 44240309, 44240309, 44240309, 44240309, 44240309, 44240309, 44240309, 44244584, 44244584, 44244584, 44244584, 44244584, 44244584, 44244584, 44244584, 44247804, 44247804, 44247804, 44251292, 44251292, 44251292, 44251292, 44251292, 44251292, 44251292, 44251292, 44251292, 44251292, 44251292, 44251292, 44251292, 44251292, 44251292, 44251292, 44251292, 44251292, 44251292, 44251292, 44251292, 44251292, 44251292, 44251292, 44251292, 44251292, 44251292, 44251292, 44251292, 44251292, 44251292, 44251292, 44251292, 44251292, 44251292, 44251292, 44251292, 44251292, 44251292, 44251292, 44251292, 44251292, 44251292, 44251292, 44251292, 44251292, 44251292, 44251292, 44251292, 44251292, 44251292, 44251292, 44251292, 44251292, 44251292, 44251292, 44251292, 44251292]\n"
     ]
    },
    {
     "data": {
      "text/plain": [
       "array([], dtype=int32)"
      ]
     },
     "execution_count": 278,
     "metadata": {},
     "output_type": "execute_result"
    }
   ],
   "source": [
    "AG_target_base_strand_plus(\"NM_001385633\")"
   ]
  },
  {
   "cell_type": "code",
   "execution_count": 279,
   "id": "a817ecdc",
   "metadata": {},
   "outputs": [
    {
     "name": "stdout",
     "output_type": "stream",
     "text": [
      "[[0, 544], [544, 598], [598, 718], [718, 979], [979, 1147], [1147, 1270], [1270, 1375], [1375, 5421]]\n",
      "[18, 30, 129, 132, 150, 183, 246, 294, 330, 435, 444, 465, 633, 636, 663, 816, 897, 954, 1005, 1056, 1113, 1140, 1176, 1251, 1293, 1329, 1455, 1521, 1542, 1572, 1584, 1611, 1635, 1734, 1908, 1917, 1950, 1962, 1971, 2004, 2013, 2022, 2076, 2079, 2091, 2190, 2250, 2283, 2295, 2355, 2394, 2433, 2454, 2478, 2589, 2592, 2664, 2694, 2715, 2745, 2775, 2799, 2820, 2829, 2859, 2907, 2937, 2940, 3027, 3210, 3246, 3264, 3291, 3297, 3360, 3459, 3501, 3645, 3672, 3720, 3729, 3735, 3756, 3759, 3852, 3864, 3885, 3978, 4125, 4134, 4194, 4197, 4200, 4245, 4305, 4404, 4443, 4446, 4629, 4638, 4647, 4665, 4746, 4779, 4827, 4839]\n",
      "[576, 588, 687, 690, 708, 741, 804, 852, 888, 993, 1002, 1023, 1191, 1194, 1221, 1374, 1455, 1512, 1563, 1614, 1671, 1698, 1734, 1809, 1851, 1887, 2013, 2079, 2100, 2130, 2142, 2169, 2193, 2292, 2466, 2475, 2508, 2520, 2529, 2562, 2571, 2580, 2634, 2637, 2649, 2748, 2808, 2841, 2853, 2913, 2952, 2991, 3012, 3036, 3147, 3150, 3222, 3252, 3273, 3303, 3333, 3357, 3378, 3387, 3417, 3465, 3495, 3498, 3585, 3768, 3804, 3822, 3849, 3855, 3918, 4017, 4059, 4203, 4230, 4278, 4287, 4293, 4314, 4317, 4410, 4422, 4443, 4536, 4683, 4692, 4752, 4755, 4758, 4803, 4863, 4962, 5001, 5004, 5187, 5196, 5205, 5223, 5304, 5337, 5385, 5397]\n",
      "[11650204, 11650204, 11657784, 11657784, 11657784, 11698310, 11698310, 11698310, 11698310, 11704006, 11704006, 11704006, 11708194, 11708194, 11708194, 11711218, 11718880, 11718880, 11718880, 11718880, 11718880, 11718880, 11718880, 11718880, 11718880, 11718880, 11718880, 11718880, 11718880, 11718880, 11718880, 11718880, 11718880, 11718880, 11718880, 11718880, 11718880, 11718880, 11718880, 11718880, 11718880, 11718880, 11718880, 11718880, 11718880, 11718880, 11718880, 11718880, 11718880, 11718880, 11718880, 11718880, 11718880, 11718880, 11718880, 11718880, 11718880, 11718880, 11718880, 11718880, 11718880, 11718880, 11718880, 11718880, 11718880, 11718880, 11718880, 11718880, 11718880, 11718880, 11718880, 11718880, 11718880, 11718880, 11718880, 11718880, 11718880, 11718880, 11718880, 11718880, 11718880, 11718880, 11718880, 11718880, 11718880, 11718880, 11718880, 11718880, 11718880, 11718880, 11718880, 11718880, 11718880, 11718880, 11718880, 11718880, 11718880, 11718880, 11718880, 11718880, 11718880, 11718880, 11718880, 11718880, 11718880, 11718880]\n"
     ]
    },
    {
     "data": {
      "text/plain": [
       "array([], dtype=int32)"
      ]
     },
     "execution_count": 279,
     "metadata": {},
     "output_type": "execute_result"
    }
   ],
   "source": [
    "AG_target_base_strand_plus(\"NM_001301868\")"
   ]
  },
  {
   "cell_type": "code",
   "execution_count": 280,
   "id": "3d57b545",
   "metadata": {},
   "outputs": [
    {
     "data": {
      "text/html": [
       "<div>\n",
       "<style scoped>\n",
       "    .dataframe tbody tr th:only-of-type {\n",
       "        vertical-align: middle;\n",
       "    }\n",
       "\n",
       "    .dataframe tbody tr th {\n",
       "        vertical-align: top;\n",
       "    }\n",
       "\n",
       "    .dataframe thead th {\n",
       "        text-align: right;\n",
       "    }\n",
       "</style>\n",
       "<table border=\"1\" class=\"dataframe\">\n",
       "  <thead>\n",
       "    <tr style=\"text-align: right;\">\n",
       "      <th></th>\n",
       "      <th>geneName</th>\n",
       "      <th>name</th>\n",
       "      <th>chrom</th>\n",
       "      <th>strand</th>\n",
       "      <th>txStart</th>\n",
       "      <th>txEnd</th>\n",
       "      <th>cdsStart</th>\n",
       "      <th>cdsEnd</th>\n",
       "      <th>exonCount</th>\n",
       "      <th>exonStarts</th>\n",
       "      <th>exonEnds</th>\n",
       "    </tr>\n",
       "  </thead>\n",
       "  <tbody>\n",
       "    <tr>\n",
       "      <th>77</th>\n",
       "      <td>Sulf1</td>\n",
       "      <td>NM_001198565</td>\n",
       "      <td>chr1</td>\n",
       "      <td>+</td>\n",
       "      <td>12762653</td>\n",
       "      <td>12930596</td>\n",
       "      <td>12856750</td>\n",
       "      <td>12929066</td>\n",
       "      <td>22</td>\n",
       "      <td>12762653,12798817,12856302,12856691,12866989,1...</td>\n",
       "      <td>12762908,12798912,12856375,12856922,12867229,1...</td>\n",
       "    </tr>\n",
       "    <tr>\n",
       "      <th>78</th>\n",
       "      <td>Sulf1</td>\n",
       "      <td>NM_001198566</td>\n",
       "      <td>chr1</td>\n",
       "      <td>+</td>\n",
       "      <td>12762653</td>\n",
       "      <td>12930596</td>\n",
       "      <td>12856750</td>\n",
       "      <td>12929066</td>\n",
       "      <td>21</td>\n",
       "      <td>12762653,12856302,12856691,12866989,12875403,1...</td>\n",
       "      <td>12762908,12856375,12856922,12867229,12875555,1...</td>\n",
       "    </tr>\n",
       "    <tr>\n",
       "      <th>79</th>\n",
       "      <td>Sulf1</td>\n",
       "      <td>NM_172294</td>\n",
       "      <td>chr1</td>\n",
       "      <td>+</td>\n",
       "      <td>12788768</td>\n",
       "      <td>12930596</td>\n",
       "      <td>12856750</td>\n",
       "      <td>12929066</td>\n",
       "      <td>22</td>\n",
       "      <td>12788768,12798817,12856302,12856691,12866989,1...</td>\n",
       "      <td>12789007,12798912,12856375,12856922,12867229,1...</td>\n",
       "    </tr>\n",
       "  </tbody>\n",
       "</table>\n",
       "</div>"
      ],
      "text/plain": [
       "   geneName          name chrom strand   txStart     txEnd  cdsStart  \\\n",
       "77    Sulf1  NM_001198565  chr1      +  12762653  12930596  12856750   \n",
       "78    Sulf1  NM_001198566  chr1      +  12762653  12930596  12856750   \n",
       "79    Sulf1     NM_172294  chr1      +  12788768  12930596  12856750   \n",
       "\n",
       "      cdsEnd exonCount                                         exonStarts  \\\n",
       "77  12929066        22  12762653,12798817,12856302,12856691,12866989,1...   \n",
       "78  12929066        21  12762653,12856302,12856691,12866989,12875403,1...   \n",
       "79  12929066        22  12788768,12798817,12856302,12856691,12866989,1...   \n",
       "\n",
       "                                             exonEnds  \n",
       "77  12762908,12798912,12856375,12856922,12867229,1...  \n",
       "78  12762908,12856375,12856922,12867229,12875555,1...  \n",
       "79  12789007,12798912,12856375,12856922,12867229,1...  "
      ]
     },
     "execution_count": 280,
     "metadata": {},
     "output_type": "execute_result"
    }
   ],
   "source": [
    "gene_df[gene_df['geneName']=='Sulf1']"
   ]
  },
  {
   "cell_type": "code",
   "execution_count": 281,
   "id": "bf3ee7d2",
   "metadata": {},
   "outputs": [
    {
     "name": "stdout",
     "output_type": "stream",
     "text": [
      "[[0, 239], [239, 334], [334, 407], [407, 638], [638, 878], [878, 1030], [1030, 1200], [1200, 1351], [1351, 1527], [1527, 1656], [1656, 1713], [1713, 1843], [1843, 2060], [2060, 2313], [2313, 2410], [2410, 2505], [2505, 2571], [2571, 2747], [2747, 2890], [2890, 3014], [3014, 3048], [3048, 4609]]\n",
      "[15, 45, 81, 90, 102, 105, 111, 156, 180, 213, 348, 351, 465, 468, 474, 696, 726, 774, 783, 834, 843, 849, 966, 1068, 1218, 1287, 1290, 1335, 1338, 1350, 1365, 1374, 1380, 1383, 1413, 1458, 1548, 1560, 1566, 1623, 1692, 1740, 1758, 1896, 1911, 1956, 2034, 2067, 2070, 2118, 2139, 2193, 2256, 2259, 2274, 2325, 2421, 2466, 2478, 2493, 2502, 2514, 2586, 2592, 2601, 2619, 2637, 2673, 2679, 2688, 2745, 2766, 2784, 2793, 2814, 2901, 2931, 2955, 3096, 3099, 3102, 3105, 3138, 3153, 3240, 3264, 3297, 3321, 3363, 3369, 3453, 3456, 3459, 3549, 3564, 3591, 3639, 3699, 3708, 3825, 3840, 3867, 3885, 3954, 4020, 4077, 4122, 4134]\n",
      "[481, 511, 547, 556, 568, 571, 577, 622, 646, 679, 814, 817, 931, 934, 940, 1162, 1192, 1240, 1249, 1300, 1309, 1315, 1432, 1534, 1684, 1753, 1756, 1801, 1804, 1816, 1831, 1840, 1846, 1849, 1879, 1924, 2014, 2026, 2032, 2089, 2158, 2206, 2224, 2362, 2377, 2422, 2500, 2533, 2536, 2584, 2605, 2659, 2722, 2725, 2740, 2791, 2887, 2932, 2944, 2959, 2968, 2980, 3052, 3058, 3067, 3085, 3103, 3139, 3145, 3154, 3211, 3232, 3250, 3259, 3280, 3367, 3397, 3421, 3562, 3565, 3568, 3571, 3604, 3619, 3706, 3730, 3763, 3787, 3829, 3835, 3919, 3922, 3925, 4015, 4030, 4057, 4105, 4165, 4174, 4291, 4306, 4333, 4351, 4420, 4486, 4543, 4588, 4600]\n",
      "[12856691, 12856691, 12856691, 12856691, 12856691, 12856691, 12856691, 12856691, 12866989, 12866989, 12866989, 12866989, 12875403, 12875403, 12875403, 12878077, 12878077, 12887561, 12887561, 12887561, 12887561, 12887561, 12888601, 12890624, 12891018, 12892193, 12892193, 12892193, 12892193, 12892193, 12892193, 12892193, 12906336, 12906336, 12906336, 12906336, 12906336, 12906336, 12906336, 12908582, 12908582, 12908582, 12908582, 12910052, 12910052, 12910626, 12910626, 12911666, 12911666, 12912872, 12912872, 12912872, 12912872, 12912872, 12912872, 12918318, 12918318, 12918554, 12918554, 12918554, 12918554, 12918554, 12929035, 12929035, 12929035, 12929035, 12929035, 12929035, 12929035, 12929035, 12929035, 12929035, 12929035, 12929035, 12929035, 12929035, 12929035, 12929035, 12929035, 12929035, 12929035, 12929035, 12929035, 12929035, 12929035, 12929035, 12929035, 12929035, 12929035, 12929035, 12929035, 12929035, 12929035, 12929035, 12929035, 12929035, 12929035, 12929035, 12929035, 12929035, 12929035, 12929035, 12929035, 12929035, 12929035, 12929035, 12929035, 12929035]\n",
      "[481, 511, 547, 556, 568, 571, 577, 622, 646, 679, 814, 817, 931, 934, 940, 1162, 1192, 1240, 1249, 1300, 1309, 1315, 1432, 1534, 1684, 1753, 1756, 1801, 1804, 1816, 1831, 1840, 1846, 1849, 1879, 1924, 2014, 2026, 2032, 2089, 2158, 2206, 2224, 2362, 2377, 2422, 2500, 2533, 2536, 2584, 2605, 2659, 2722, 2725, 2740, 2791, 2887, 2932, 2944, 2959, 2968, 2980, 3052, 3058, 3067, 3085, 3103, 3139, 3145, 3154, 3211, 3232, 3250, 3259, 3280, 3367, 3397, 3421, 3562, 3565, 3568, 3571, 3604, 3619, 3706, 3730, 3763, 3787, 3829, 3835, 3919, 3922, 3925, 4015, 4030, 4057, 4105, 4165, 4174, 4291, 4306, 4333, 4351, 4420, 4486, 4543, 4588, 4600]\n",
      "[74, 104, 140, 149, 161, 164, 170, 215, 8, 41, 176, 179, 53, 56, 62, 132, 162, 40, 49, 100, 109, 115, 81, 7, 28, 40, 43, 88, 91, 103, 118, 127, 3, 6, 36, 81, 171, 183, 189, 29, 98, 146, 164, 49, 64, 12, 90, 28, 31, 13, 34, 88, 151, 154, 169, 44, 140, 42, 54, 69, 78, 90, 4, 10, 19, 37, 55, 91, 97, 106, 163, 184, 202, 211, 232, 319, 349, 373, 514, 517, 520, 523, 556, 571, 658, 682, 715, 739, 781, 787, 871, 874, 877, 967, 982, 1009, 1057, 1117, 1126, 1243, 1258, 1285, 1303, 1372, 1438, 1495, 1540, 1552]\n",
      "[12856765 12856795 12856831 12856840 12856852 12856855 12856861 12856906\n",
      " 12866997 12867030 12867165 12867168 12875456 12875459 12875465 12878209\n",
      " 12878239 12887601 12887610 12887661 12887670 12887676 12888682 12890631\n",
      " 12891046 12892233 12892236 12892281 12892284 12892296 12892311 12892320\n",
      " 12906339 12906342 12906372 12906417 12906507 12906519 12906525 12908611\n",
      " 12908680 12908728 12908746 12910101 12910116 12910638 12910716 12911694\n",
      " 12911697 12912885 12912906 12912960 12913023 12913026 12913041 12918362\n",
      " 12918458 12918596 12918608 12918623 12918632 12918644 12929039 12929045\n",
      " 12929054 12929072 12929090 12929126 12929132 12929141 12929198 12929219\n",
      " 12929237 12929246 12929267 12929354 12929384 12929408 12929549 12929552\n",
      " 12929555 12929558 12929591 12929606 12929693 12929717 12929750 12929774\n",
      " 12929816 12929822 12929906 12929909 12929912 12930002 12930017 12930044\n",
      " 12930092 12930152 12930161 12930278 12930293 12930320 12930338 12930407\n",
      " 12930473 12930530 12930575 12930587]\n"
     ]
    },
    {
     "data": {
      "text/plain": [
       "array([12908728, 12910101, 12918596])"
      ]
     },
     "execution_count": 281,
     "metadata": {},
     "output_type": "execute_result"
    }
   ],
   "source": [
    "CT_target_base_strand_plus(\"NM_172294\")"
   ]
  },
  {
   "cell_type": "code",
   "execution_count": 282,
   "id": "28013e8a",
   "metadata": {},
   "outputs": [
    {
     "name": "stdout",
     "output_type": "stream",
     "text": [
      "[[0, 239], [239, 334], [334, 407], [407, 638], [638, 878], [878, 1030], [1030, 1200], [1200, 1351], [1351, 1527], [1527, 1656], [1656, 1713], [1713, 1843], [1843, 2060], [2060, 2313], [2313, 2410], [2410, 2505], [2505, 2571], [2571, 2747], [2747, 2890], [2890, 3014], [3014, 3048], [3048, 4609]]\n",
      "[15, 45, 81, 90, 102, 105, 111, 156, 180, 213, 348, 351, 465, 468, 474, 696, 726, 774, 783, 834, 843, 849, 966, 1068, 1218, 1287, 1290, 1335, 1338, 1350, 1365, 1374, 1380, 1383, 1413, 1458, 1548, 1560, 1566, 1623, 1692, 1740, 1758, 1896, 1911, 1956, 2034, 2067, 2070, 2118, 2139, 2193, 2256, 2259, 2274, 2325, 2421, 2466, 2478, 2493, 2502, 2514, 2586, 2592, 2601, 2619, 2637, 2673, 2679, 2688, 2745, 2766, 2784, 2793, 2814, 2901, 2931, 2955, 3096, 3099, 3102, 3105, 3138, 3153, 3240, 3264, 3297, 3321, 3363, 3369, 3453, 3456, 3459, 3549, 3564, 3591, 3639, 3699, 3708, 3825, 3840, 3867, 3885, 3954, 4020, 4077, 4122, 4134]\n",
      "[481, 511, 547, 556, 568, 571, 577, 622, 646, 679, 814, 817, 931, 934, 940, 1162, 1192, 1240, 1249, 1300, 1309, 1315, 1432, 1534, 1684, 1753, 1756, 1801, 1804, 1816, 1831, 1840, 1846, 1849, 1879, 1924, 2014, 2026, 2032, 2089, 2158, 2206, 2224, 2362, 2377, 2422, 2500, 2533, 2536, 2584, 2605, 2659, 2722, 2725, 2740, 2791, 2887, 2932, 2944, 2959, 2968, 2980, 3052, 3058, 3067, 3085, 3103, 3139, 3145, 3154, 3211, 3232, 3250, 3259, 3280, 3367, 3397, 3421, 3562, 3565, 3568, 3571, 3604, 3619, 3706, 3730, 3763, 3787, 3829, 3835, 3919, 3922, 3925, 4015, 4030, 4057, 4105, 4165, 4174, 4291, 4306, 4333, 4351, 4420, 4486, 4543, 4588, 4600]\n",
      "[12856691, 12856691, 12856691, 12856691, 12856691, 12856691, 12856691, 12856691, 12866989, 12866989, 12866989, 12866989, 12875403, 12875403, 12875403, 12878077, 12878077, 12887561, 12887561, 12887561, 12887561, 12887561, 12888601, 12890624, 12891018, 12892193, 12892193, 12892193, 12892193, 12892193, 12892193, 12892193, 12906336, 12906336, 12906336, 12906336, 12906336, 12906336, 12906336, 12908582, 12908582, 12908582, 12908582, 12910052, 12910052, 12910626, 12910626, 12911666, 12911666, 12912872, 12912872, 12912872, 12912872, 12912872, 12912872, 12918318, 12918318, 12918554, 12918554, 12918554, 12918554, 12918554, 12929035, 12929035, 12929035, 12929035, 12929035, 12929035, 12929035, 12929035, 12929035, 12929035, 12929035, 12929035, 12929035, 12929035, 12929035, 12929035, 12929035, 12929035, 12929035, 12929035, 12929035, 12929035, 12929035, 12929035, 12929035, 12929035, 12929035, 12929035, 12929035, 12929035, 12929035, 12929035, 12929035, 12929035, 12929035, 12929035, 12929035, 12929035, 12929035, 12929035, 12929035, 12929035, 12929035, 12929035, 12929035, 12929035]\n",
      "[481, 511, 547, 556, 568, 571, 577, 622, 646, 679, 814, 817, 931, 934, 940, 1162, 1192, 1240, 1249, 1300, 1309, 1315, 1432, 1534, 1684, 1753, 1756, 1801, 1804, 1816, 1831, 1840, 1846, 1849, 1879, 1924, 2014, 2026, 2032, 2089, 2158, 2206, 2224, 2362, 2377, 2422, 2500, 2533, 2536, 2584, 2605, 2659, 2722, 2725, 2740, 2791, 2887, 2932, 2944, 2959, 2968, 2980, 3052, 3058, 3067, 3085, 3103, 3139, 3145, 3154, 3211, 3232, 3250, 3259, 3280, 3367, 3397, 3421, 3562, 3565, 3568, 3571, 3604, 3619, 3706, 3730, 3763, 3787, 3829, 3835, 3919, 3922, 3925, 4015, 4030, 4057, 4105, 4165, 4174, 4291, 4306, 4333, 4351, 4420, 4486, 4543, 4588, 4600]\n",
      "[74, 104, 140, 149, 161, 164, 170, 215, 8, 41, 176, 179, 53, 56, 62, 132, 162, 40, 49, 100, 109, 115, 81, 7, 28, 40, 43, 88, 91, 103, 118, 127, 3, 6, 36, 81, 171, 183, 189, 29, 98, 146, 164, 49, 64, 12, 90, 28, 31, 13, 34, 88, 151, 154, 169, 44, 140, 42, 54, 69, 78, 90, 4, 10, 19, 37, 55, 91, 97, 106, 163, 184, 202, 211, 232, 319, 349, 373, 514, 517, 520, 523, 556, 571, 658, 682, 715, 739, 781, 787, 871, 874, 877, 967, 982, 1009, 1057, 1117, 1126, 1243, 1258, 1285, 1303, 1372, 1438, 1495, 1540, 1552]\n",
      "[12856765 12856795 12856831 12856840 12856852 12856855 12856861 12856906\n",
      " 12866997 12867030 12867165 12867168 12875456 12875459 12875465 12878209\n",
      " 12878239 12887601 12887610 12887661 12887670 12887676 12888682 12890631\n",
      " 12891046 12892233 12892236 12892281 12892284 12892296 12892311 12892320\n",
      " 12906339 12906342 12906372 12906417 12906507 12906519 12906525 12908611\n",
      " 12908680 12908728 12908746 12910101 12910116 12910638 12910716 12911694\n",
      " 12911697 12912885 12912906 12912960 12913023 12913026 12913041 12918362\n",
      " 12918458 12918596 12918608 12918623 12918632 12918644 12929039 12929045\n",
      " 12929054 12929072 12929090 12929126 12929132 12929141 12929198 12929219\n",
      " 12929237 12929246 12929267 12929354 12929384 12929408 12929549 12929552\n",
      " 12929555 12929558 12929591 12929606 12929693 12929717 12929750 12929774\n",
      " 12929816 12929822 12929906 12929909 12929912 12930002 12930017 12930044\n",
      " 12930092 12930152 12930161 12930278 12930293 12930320 12930338 12930407\n",
      " 12930473 12930530 12930575 12930587]\n"
     ]
    },
    {
     "data": {
      "text/plain": [
       "array([12908728, 12910101, 12918596])"
      ]
     },
     "execution_count": 282,
     "metadata": {},
     "output_type": "execute_result"
    }
   ],
   "source": [
    "CT_target_base_strand_plus(\"NM_172294\")"
   ]
  },
  {
   "cell_type": "code",
   "execution_count": null,
   "id": "9f14d8c5",
   "metadata": {},
   "outputs": [],
   "source": []
  },
  {
   "cell_type": "code",
   "execution_count": null,
   "id": "8ce06640",
   "metadata": {},
   "outputs": [],
   "source": []
  },
  {
   "cell_type": "code",
   "execution_count": null,
   "id": "9f0d856a",
   "metadata": {},
   "outputs": [],
   "source": []
  }
 ],
 "metadata": {
  "kernelspec": {
   "display_name": "Python 3",
   "language": "python",
   "name": "python3"
  },
  "language_info": {
   "codemirror_mode": {
    "name": "ipython",
    "version": 3
   },
   "file_extension": ".py",
   "mimetype": "text/x-python",
   "name": "python",
   "nbconvert_exporter": "python",
   "pygments_lexer": "ipython3",
   "version": "3.8.8"
  }
 },
 "nbformat": 4,
 "nbformat_minor": 5
}
