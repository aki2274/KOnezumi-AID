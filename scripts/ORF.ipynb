{
 "cells": [
  {
   "cell_type": "code",
   "execution_count": null,
   "id": "3e1bde4d",
   "metadata": {},
   "outputs": [],
   "source": [
    "path = \"refFlat.txt\""
   ]
  },
  {
   "cell_type": "code",
   "execution_count": null,
   "id": "6d921a38",
   "metadata": {},
   "outputs": [],
   "source": [
    "def get_line(path):\n",
    "    with open(path, 'r', encoding='utf-8') as file:\n",
    "        first_line = file.readline()\n",
    "    return first_line.strip() "
   ]
  },
  {
   "cell_type": "code",
   "execution_count": null,
   "id": "9bf76b8d",
   "metadata": {},
   "outputs": [],
   "source": [
    "import re\n",
    "\n",
    "def split_by_space(text):\n",
    "    return re.split('\\s+', text)"
   ]
  },
  {
   "cell_type": "code",
   "execution_count": null,
   "id": "795d74c2",
   "metadata": {},
   "outputs": [],
   "source": [
    "def text_to_bed(text_list):\n",
    "    contents =[]\n",
    "    contents.append(text_list[2])\n",
    "    contents.append(text_list[4])\n",
    "    contents.append(text_list[5])\n",
    "    contents.append(text_list[0])\n",
    "    contents.append(0)\n",
    "    contents.append(text_list[3])\n",
    "    return contents"
   ]
  },
  {
   "cell_type": "code",
   "execution_count": null,
   "id": "ccc14aa1",
   "metadata": {},
   "outputs": [],
   "source": [
    "def result(path):\n",
    "    with open(path, \"r\", encoding=\"utf-8\") as file:\n",
    "        lines =file.readlines()\n",
    "    result = []\n",
    "    for line in lines:\n",
    "        line =split_by_space(line)\n",
    "        contents=text_to_bed(line)\n",
    "        result.append(contents)\n",
    "    return result\n",
    "    "
   ]
  },
  {
   "cell_type": "code",
   "execution_count": null,
   "id": "d3c236be",
   "metadata": {},
   "outputs": [],
   "source": [
    "def write_bed_file(data, output_file):\n",
    "    with open(output_file, 'w') as f:\n",
    "        for row in data:\n",
    "            chromosome = row[0]\n",
    "            start_position = row[1]\n",
    "            end_position = row[2]\n",
    "            name = row[3] \n",
    "            score = row[4]\n",
    "            strand = row[5]\n",
    "\n",
    "            bed_line = f\"{chromosome}\\t{start_position}\\t{end_position}\\t{name}\\t{score}\\t{strand}\\n\"\n",
    "            f.write(bed_line)"
   ]
  },
  {
   "cell_type": "code",
   "execution_count": null,
   "id": "a8ca074c",
   "metadata": {},
   "outputs": [],
   "source": [
    "def write_name_file(data, output_file):\n",
    "    with open(output_file, 'w') as f:\n",
    "        for row in data:\n",
    "            chromosome = row[0]\n",
    "            start_position = row[1]\n",
    "            end_position = row[2]\n",
    "            name_line = f\"{chromosome}:{start_position}-{end_position}\\n\"\n",
    "            f.write(name_line)"
   ]
  },
  {
   "cell_type": "code",
   "execution_count": null,
   "id": "0f07fd43",
   "metadata": {},
   "outputs": [],
   "source": [
    "write_bed_file(result(path), 'output.bed')"
   ]
  },
  {
   "cell_type": "code",
   "execution_count": null,
   "id": "c312dd36",
   "metadata": {},
   "outputs": [],
   "source": [
    "write_name_file(result(path), 'name.txt')"
   ]
  }
 ],
 "metadata": {
  "kernelspec": {
   "display_name": "Python 3",
   "language": "python",
   "name": "python3"
  },
  "language_info": {
   "codemirror_mode": {
    "name": "ipython",
    "version": 3
   },
   "file_extension": ".py",
   "mimetype": "text/x-python",
   "name": "python",
   "nbconvert_exporter": "python",
   "pygments_lexer": "ipython3",
   "version": "3.8.8"
  }
 },
 "nbformat": 4,
 "nbformat_minor": 5
}
