{
 "cells": [
  {
   "cell_type": "code",
   "execution_count": 281,
   "id": "5fa0a577",
   "metadata": {},
   "outputs": [],
   "source": [
    "import pandas as pd\n",
    "import numpy as np\n",
    "from pandas import DataFrame, Series\n",
    "\n",
    "path = \"refFlat.txt\"\n",
    "path_fa = \"result.fa\""
   ]
  },
  {
   "cell_type": "code",
   "execution_count": 282,
   "id": "d9009930",
   "metadata": {},
   "outputs": [],
   "source": [
    "def read_fasta(file_path):\n",
    "    sequences = {}\n",
    "    seq_id = None\n",
    "    current_seq = \"\"\n",
    "\n",
    "    with open(file_path, \"r\") as file:\n",
    "        for line in file:\n",
    "            line = line.strip()\n",
    "\n",
    "            if line.startswith(\">\"):  \n",
    "                if seq_id is not None:\n",
    "                    sequences[seq_id] = current_seq\n",
    "                    current_seq = \"\"\n",
    "                seq_id = line[1:]  \n",
    "            else:\n",
    "                current_seq += line\n",
    "\n",
    "        if seq_id is not None and current_seq != \"\":\n",
    "            sequences[seq_id] = current_seq\n",
    "\n",
    "    return sequences"
   ]
  },
  {
   "cell_type": "code",
   "execution_count": 283,
   "id": "e455b845",
   "metadata": {},
   "outputs": [],
   "source": [
    "import re\n",
    "\n",
    "def split_by_space(text):\n",
    "    return re.split('\\s+', text)"
   ]
  },
  {
   "cell_type": "code",
   "execution_count": 284,
   "id": "28364790",
   "metadata": {},
   "outputs": [],
   "source": [
    "def gene_data(text_list):\n",
    "    contents =[]\n",
    "    for i in range(len(text_list)-1):\n",
    "        contents.append(text_list[i])\n",
    "    return contents"
   ]
  },
  {
   "cell_type": "code",
   "execution_count": 285,
   "id": "68683a2f",
   "metadata": {},
   "outputs": [],
   "source": [
    "def result(path):\n",
    "    with open(path, \"r\", encoding=\"utf-8\") as file:\n",
    "        lines =file.readlines()\n",
    "    result = []\n",
    "    for line in lines:\n",
    "        line =split_by_space(line)\n",
    "        contents=gene_data(line)\n",
    "        result.append(contents)\n",
    "    return result\n",
    "    "
   ]
  },
  {
   "cell_type": "code",
   "execution_count": 286,
   "id": "4bc65f1c",
   "metadata": {},
   "outputs": [],
   "source": [
    "gene_data =result(path)\n",
    "col_names =['geneName','name','chrom','strand','txStart','txEnd','cdsStart','cdsEnd','exonCount','exonStarts','exonEnds']\n",
    "gene_df=pd.DataFrame(gene_data,columns=col_names)"
   ]
  },
  {
   "cell_type": "code",
   "execution_count": 287,
   "id": "c9ab9e94",
   "metadata": {},
   "outputs": [],
   "source": [
    "base_data = read_fasta(path_fa)"
   ]
  },
  {
   "cell_type": "code",
   "execution_count": 363,
   "id": "892e9ec2",
   "metadata": {},
   "outputs": [],
   "source": [
    "def target_base_CT_minus(seq):\n",
    "    match = re.findall(r'(?=(\\w{18,20}GG))', seq)#ここ不安\n",
    "    target_list=[]\n",
    "    for i in range(len(match)):\n",
    "\n",
    "        target = match[i][0:3]\n",
    "        if target =='CAA'or target =='CAG'or target =='CGA':\n",
    "            target_list.append(True)\n",
    "        \n",
    "        else:\n",
    "            target_list.append(False)\n",
    "    result =[match[s] for s in range(len(match)) if target_list[s]]\n",
    "    result = list(dict.fromkeys(result))\n",
    "    return result"
   ]
  },
  {
   "cell_type": "code",
   "execution_count": 364,
   "id": "c767b66c",
   "metadata": {},
   "outputs": [],
   "source": [
    "def target_base_AG_minus(seq):\n",
    "    match = re.findall('(?=(CC\\w{21}))', seq)\n",
    "    target_list=[]\n",
    "    for i in range(len(match)):\n",
    "        target_1 = match[i][20:23]\n",
    "        target_2 = match[i][19:22]\n",
    "        target_3 = match[i][18:21]\n",
    "        target_4 = match[i][17:20]\n",
    "        if target_1 =='TGG'or target_2 =='TGG'or target_3 =='TGG'or target_4 =='TGG':#kここはCCA?\n",
    "            target_list.append(True)\n",
    "        \n",
    "        else:\n",
    "            target_list.append(False)\n",
    "    result =[match[s] for s in range(len(match)) if target_list[s]]\n",
    "    result = list(dict.fromkeys(result))\n",
    "    return result"
   ]
  },
  {
   "cell_type": "code",
   "execution_count": null,
   "id": "dba55a51",
   "metadata": {},
   "outputs": [],
   "source": []
  },
  {
   "cell_type": "code",
   "execution_count": null,
   "id": "7511475f",
   "metadata": {},
   "outputs": [],
   "source": []
  },
  {
   "cell_type": "code",
   "execution_count": null,
   "id": "9d5c2f0b",
   "metadata": {},
   "outputs": [],
   "source": []
  },
  {
   "cell_type": "code",
   "execution_count": null,
   "id": "479d44b2",
   "metadata": {},
   "outputs": [],
   "source": []
  },
  {
   "cell_type": "code",
   "execution_count": null,
   "id": "9b14f171",
   "metadata": {},
   "outputs": [],
   "source": []
  },
  {
   "cell_type": "code",
   "execution_count": null,
   "id": "27b3190f",
   "metadata": {},
   "outputs": [],
   "source": []
  },
  {
   "cell_type": "code",
   "execution_count": 290,
   "id": "6e9912db",
   "metadata": {},
   "outputs": [],
   "source": [
    "def transcription(seq):\n",
    "    complementary = {'A':'T','T':'A','G':'C','C':'G'}\n",
    "    rev_seq = seq[::-1]\n",
    "    result = []\n",
    "    for base in rev_seq:\n",
    "        base =base.upper()\n",
    "        result.append(complementary[base])\n",
    "    \n",
    "    return ''.join(result)"
   ]
  },
  {
   "cell_type": "code",
   "execution_count": 291,
   "id": "333355b5",
   "metadata": {},
   "outputs": [],
   "source": [
    "def where_start_codon(name):\n",
    "    data = gene_df[gene_df['name']==name]\n",
    "    cdsStart =int(data['cdsEnd'].to_list()[0])#strand-minusなのでcdsEndが開始コドン\n",
    "    start = data['exonStarts'].to_list()[0]\n",
    "    end = data['exonEnds'].to_list()[0]#最後に空白があるからその対処\n",
    "    start = list(start.split(','))\n",
    "    end = list(end.split(','))\n",
    "    for s in range(len(start)-1):\n",
    "        if (int(start[s]) <= cdsStart<=int(end[s])):\n",
    "            exon_num =s\n",
    "    return exon_num\n"
   ]
  },
  {
   "cell_type": "code",
   "execution_count": 292,
   "id": "30e2cc04",
   "metadata": {},
   "outputs": [],
   "source": [
    "def trans_exon_start(name,sequence_data):\n",
    " \n",
    "    \n",
    "    \n",
    "    data = gene_df[gene_df['name']==name]\n",
    "    \n",
    "    set_num =int(data['txStart'].to_list()[0])\n",
    "    start = data['exonStarts'].to_list()[0]\n",
    "    end = data['exonEnds'].to_list()[0]#最後に空白があるからその対処\n",
    "    exon_seq_list = []\n",
    "    start_list = [num for num in start.split(\",\")]\n",
    "    end_list = [num for num in end.split(\",\")]\n",
    "    \n",
    "    for s in range(len(start_list)-1):\n",
    "        start_num = int(start_list[s])- set_num\n",
    "        \n",
    "        end_num= int(end_list[s]) - set_num\n",
    "    \n",
    "        \n",
    "        exon_seq =sequence_data[start_num:end_num]\n",
    "        exon_seq_list.append(exon_seq)\n",
    "\n",
    "    result = ''.join(exon_seq_list)\n",
    "    \n",
    "    exon_num=where_start_codon(name)\n",
    "    \n",
    "    exon_count = data['exonCount']\n",
    "    exon_start = int(exon_count)-1-exon_num\n",
    "    \n",
    "    if exon_start == 0:\n",
    "        result = result[:- (int(end_list[len(start_list)-2])-int(data['cdsEnd'].to_list()[0]))]\n",
    "        \n",
    "\n",
    "    else:\n",
    "        for s in range(exon_start):\n",
    "            exon_start_num =0\n",
    "            exon_start_num += int(end_list[-2-s])-int(start_list[-2-s])\n",
    "            \n",
    "\n",
    "        \n",
    "        exon_start_num += int(end_list[-2-exon_start])-int(data['cdsEnd'].to_list()[0])\n",
    "        result = result[:-(exon_start_num)]\n",
    "        \n",
    "    \n",
    "    return result\n",
    "    \n",
    "    "
   ]
  },
  {
   "cell_type": "code",
   "execution_count": 293,
   "id": "da137f79",
   "metadata": {},
   "outputs": [],
   "source": [
    "def end_codon(cds_seq):\n",
    "    matches = re.finditer('(?=(CAA)|(?=(CAG))|(?=(CGA))|(?=(TGG)))', cds_seq)\n",
    "    result=[]\n",
    "    for match in matches:\n",
    "        start_pos = match.start() \n",
    "        \n",
    "        if (start_pos % 3) == 0:\n",
    "            result.append(start_pos)\n",
    "    return result"
   ]
  },
  {
   "cell_type": "code",
   "execution_count": 294,
   "id": "fd2568de",
   "metadata": {},
   "outputs": [],
   "source": [
    "def add_num_list(name):#修正が必要\n",
    "    data = gene_df[gene_df['name']==name]\n",
    "    set_num =int(data['cdsStart'].to_list()[0])\n",
    "    start = data['exonStarts'].to_list()[0]\n",
    "    end = data['exonEnds'].to_list()[0]#最後に空白があるからその対処\n",
    "    start = list(start.split(','))\n",
    "    end = list(end.split(','))\n",
    "    add_list=[]\n",
    "    num = 0\n",
    "    for s in range(len(start)-1):\n",
    "        element_list=[]\n",
    "        element_list.append(num)\n",
    "        \n",
    "        num += int(end[s])-int(start[s])\n",
    "        \n",
    "        element_list.append(num)\n",
    "        add_list.append(element_list)\n",
    "        \n",
    "    return add_list"
   ]
  },
  {
   "cell_type": "code",
   "execution_count": 331,
   "id": "8d6758cc",
   "metadata": {},
   "outputs": [],
   "source": [
    "def correct_codon_num(name,end_codon_data,range_list):\n",
    "    \n",
    "    \n",
    "    data = gene_df[gene_df['name']==name]\n",
    "    exonCount = int(data['exonCount'])\n",
    "    set_num =int(data['txStart'].to_list()[0])\n",
    "    start = data['exonStarts'].to_list()[0]\n",
    "    end = data['exonEnds'].to_list()[0]#最後に空白があるからその対処\n",
    "    exon_seq_list = []\n",
    "    start_list = [num for num in start.split(\",\")]\n",
    "    end_list = [num for num in end.split(\",\")]\n",
    "    \n",
    "    exon_num=where_start_codon(name)\n",
    "    \n",
    "    exon_count = data['exonCount']\n",
    "    exon_start = int(exon_count)-1-exon_num\n",
    "    \n",
    "\n",
    "    if exon_start == 0:\n",
    "        add_num =  (int(end_list[len(start_list)-2])-int(data['cdsEnd'].to_list()[0]))\n",
    "        \n",
    "\n",
    "    else:\n",
    "        for s in range(exon_start):\n",
    "            add_num =0\n",
    "            add_num = int(end_list[-2-s])-int(start_list[-2-s])\n",
    "            \n",
    "\n",
    "        \n",
    "        add_num += int(end_list[-2-exon_start])-int(data['cdsEnd'].to_list()[0])\n",
    "     \n",
    "\n",
    "    end_codon_data = np.array(end_codon_data)   \n",
    "    end_codon_data = end_codon_data + add_num\n",
    "    \n",
    "    \n",
    "    end_codon_data = abs(end_codon_data - range_list[exonCount-1][1]+1)#+1するかは微妙なライン、この後の処理に合わせて変えるべき\n",
    "    \n",
    "    result = end_codon_data.tolist()\n",
    "    print(result)\n",
    "    return result"
   ]
  },
  {
   "cell_type": "code",
   "execution_count": 332,
   "id": "0c0692cf",
   "metadata": {},
   "outputs": [],
   "source": [
    "def codon_in_exon(name,correct_num,range_list):\n",
    "\n",
    "    data = gene_df[gene_df['name']==name]\n",
    "    set_num =int(data['txStart'].to_list()[0])\n",
    "    start = data['exonStarts'].to_list()[0]\n",
    "    end = data['exonEnds'].to_list()[0]#最後に空白があるからその対処\n",
    "    start = list(start.split(','))\n",
    "    end = list(end.split(','))\n",
    "    add_result=[]\n",
    "    \n",
    "    \n",
    "    \n",
    "    indices = []\n",
    "    for number in correct_num:\n",
    "        for index, interval in enumerate(range_list):\n",
    "            if int(interval[0]) <= int(number) < int(interval[1]):\n",
    "                indices.append(index)\n",
    "                break\n",
    "            \n",
    "    for i in indices:\n",
    "        if i == 0:\n",
    "            add_result.append(set_num)\n",
    "        else:\n",
    "            add_result.append(int(start[i]))\n",
    "\n",
    "    return add_result\n",
    "    "
   ]
  },
  {
   "cell_type": "code",
   "execution_count": 333,
   "id": "c1aabdb0",
   "metadata": {},
   "outputs": [],
   "source": [
    "def add_num_correct(name,correct_num, range_list):\n",
    "    data = gene_df[gene_df['name']==name]\n",
    "    set_num =int(data['cdsStart'].to_list()[0])\n",
    "    start = data['exonStarts'].to_list()[0]\n",
    "    end = data['exonEnds'].to_list()[0]#最後に空白があるからその対処\n",
    "    start = list(start.split(','))\n",
    "    end = list(end.split(','))\n",
    "    add_result=[]\n",
    "         \n",
    "     \n",
    "    indices = []\n",
    "    for number in correct_num:\n",
    "        for index, interval in enumerate(range_list):\n",
    "            if int(interval[0]) <= int(number) < int(interval[1]):\n",
    "                indices.append(index)\n",
    "                break\n",
    "    n =0        \n",
    "    for i in indices:\n",
    "        add_result.append(int(correct_num[n])-int(range_list[i][0]))\n",
    "        n += 1\n",
    "\n",
    "    return add_result"
   ]
  },
  {
   "cell_type": "code",
   "execution_count": 334,
   "id": "35f14f7c",
   "metadata": {},
   "outputs": [
    {
     "data": {
      "text/html": [
       "<div>\n",
       "<style scoped>\n",
       "    .dataframe tbody tr th:only-of-type {\n",
       "        vertical-align: middle;\n",
       "    }\n",
       "\n",
       "    .dataframe tbody tr th {\n",
       "        vertical-align: top;\n",
       "    }\n",
       "\n",
       "    .dataframe thead th {\n",
       "        text-align: right;\n",
       "    }\n",
       "</style>\n",
       "<table border=\"1\" class=\"dataframe\">\n",
       "  <thead>\n",
       "    <tr style=\"text-align: right;\">\n",
       "      <th></th>\n",
       "      <th>geneName</th>\n",
       "      <th>name</th>\n",
       "      <th>chrom</th>\n",
       "      <th>strand</th>\n",
       "      <th>txStart</th>\n",
       "      <th>txEnd</th>\n",
       "      <th>cdsStart</th>\n",
       "      <th>cdsEnd</th>\n",
       "      <th>exonCount</th>\n",
       "      <th>exonStarts</th>\n",
       "      <th>exonEnds</th>\n",
       "    </tr>\n",
       "  </thead>\n",
       "  <tbody>\n",
       "    <tr>\n",
       "      <th>32045</th>\n",
       "      <td>Gk2</td>\n",
       "      <td>NM_010294</td>\n",
       "      <td>chr5</td>\n",
       "      <td>-</td>\n",
       "      <td>97602988</td>\n",
       "      <td>97604882</td>\n",
       "      <td>97603171</td>\n",
       "      <td>97604836</td>\n",
       "      <td>1</td>\n",
       "      <td>97602988,</td>\n",
       "      <td>97604882,</td>\n",
       "    </tr>\n",
       "  </tbody>\n",
       "</table>\n",
       "</div>"
      ],
      "text/plain": [
       "      geneName       name chrom strand   txStart     txEnd  cdsStart  \\\n",
       "32045      Gk2  NM_010294  chr5      -  97602988  97604882  97603171   \n",
       "\n",
       "         cdsEnd exonCount exonStarts   exonEnds  \n",
       "32045  97604836         1  97602988,  97604882,  "
      ]
     },
     "execution_count": 334,
     "metadata": {},
     "output_type": "execute_result"
    }
   ],
   "source": [
    "gene_df[gene_df['geneName']=='Gk2']"
   ]
  },
  {
   "cell_type": "code",
   "execution_count": 335,
   "id": "088fe641",
   "metadata": {},
   "outputs": [
    {
     "data": {
      "text/plain": [
       "'NM_010294::chr5:97602988-97604882'"
      ]
     },
     "execution_count": 335,
     "metadata": {},
     "output_type": "execute_result"
    }
   ],
   "source": [
    "'NM_010294::chr5:97602988-97604882'"
   ]
  },
  {
   "cell_type": "code",
   "execution_count": 336,
   "id": "bd526e26",
   "metadata": {},
   "outputs": [],
   "source": [
    "a= end_codon(transcription(trans_exon_start('NM_010294',base_data['NM_010294::chr5:97602988-97604882'])))"
   ]
  },
  {
   "cell_type": "code",
   "execution_count": 337,
   "id": "2f2462fa",
   "metadata": {},
   "outputs": [
    {
     "name": "stdout",
     "output_type": "stream",
     "text": [
      "[1832, 1796, 1730, 1715, 1694, 1685, 1571, 1550, 1508, 1490, 1382, 1355, 1307, 1298, 1205, 1070, 1049, 1028, 977, 857, 734, 695, 641, 635, 581, 542, 536, 434, 392, 380, 374, 341, 311]\n"
     ]
    }
   ],
   "source": [
    "aa= codon_in_exon('NM_010294',correct_codon_num('NM_010294',a,add_num_list('NM_010294')),add_num_list('NM_010294'))"
   ]
  },
  {
   "cell_type": "code",
   "execution_count": 338,
   "id": "96648226",
   "metadata": {},
   "outputs": [
    {
     "name": "stdout",
     "output_type": "stream",
     "text": [
      "[1832, 1796, 1730, 1715, 1694, 1685, 1571, 1550, 1508, 1490, 1382, 1355, 1307, 1298, 1205, 1070, 1049, 1028, 977, 857, 734, 695, 641, 635, 581, 542, 536, 434, 392, 380, 374, 341, 311]\n"
     ]
    }
   ],
   "source": [
    "bb= add_num_correct('NM_010294',correct_codon_num('NM_010294',a,add_num_list('NM_010294')),add_num_list('NM_010294'))"
   ]
  },
  {
   "cell_type": "code",
   "execution_count": 339,
   "id": "a5f42069",
   "metadata": {},
   "outputs": [
    {
     "data": {
      "text/plain": [
       "array([97604820, 97604784, 97604718, 97604703, 97604682, 97604673,\n",
       "       97604559, 97604538, 97604496, 97604478, 97604370, 97604343,\n",
       "       97604295, 97604286, 97604193, 97604058, 97604037, 97604016,\n",
       "       97603965, 97603845, 97603722, 97603683, 97603629, 97603623,\n",
       "       97603569, 97603530, 97603524, 97603422, 97603380, 97603368,\n",
       "       97603362, 97603329, 97603299])"
      ]
     },
     "execution_count": 339,
     "metadata": {},
     "output_type": "execute_result"
    }
   ],
   "source": [
    "np.array(aa)+np.array(bb)"
   ]
  },
  {
   "cell_type": "code",
   "execution_count": 366,
   "id": "2768b606",
   "metadata": {},
   "outputs": [
    {
     "data": {
      "text/plain": [
       "'GTCTCCTAACTGGCATCACCAGGGAAACAGTCCACTGACCAGTTTCATGGCAGCCTCGAAGCAAACCTCTGCGGGACCGTTGGTAGGAGCGGTGGTCCAGGGAACCAACTCCACTCGCTTTCTAGTTTTCAATAGCAAAACAGCAGAACTAGTTTGCTCTCATCAGGTGGAACTGACACAAGAATACCCAAAAGAAGGATGGGTGGAGCAAGACCCCAAGGAAATCCTTAAATCTGTCTATGAGTGCATAGCGAAAGCTTGTGAAAAACTTGCTGAAGTGAACATTGATATTTCCAACATTAAAGCTATCGGCGTGAGTAACCAGCGGGAAACCACTGTGGTCTGGGACAAGTTCACGGGAGACCCTCTGTACAATGCCGTGGTGTGGCTTGATCTCAGAACCCAGTCTACTGTGGAGACTCTCACTAAGAAAATCCCAGGAAATAGCAACTTTGTCAAGTCTAAGACCGGCCTTCCTCTTAGCACTTACTTCAGTGCTGTGAAGCTGCGGTGGATGCTGGACAACCTAAGACCCATTCAAAAGGCTGTTGAGGAAGGCAGAGCCATGTTTGGAACCATCGACTCTTGGCTCATCTGGTGTATGACCGGAGGAGTCAATGGAGGCATCCATTGCACCGATGTAACAAATGCATGCAGAACGATGCTTTTTAACATCCACTCTTTGGAATGGGATAAAGATCTCTGTGACTTTTTTGAAATTCCAATGAGCATCCTCCCAAATGTATGCAGTTCTTCTGAGATCTATGGCCTGATGACATCAGGGGCCTTGGAAGGCGTGCCAATATCTGGATGTTTGGGGGATCAGTCTGCTGCTTTAGTGGGACAAATGTGTTTCCATGAAGGTCAAGCCAAAAACACATACGGAACAGGCTGTTTTTTACTATGTAATACAGGCCAGAAATGTGTGTTTTCTGAACATGGCCTTCTGACCACATTGGCTTACAAACTAGGCAAAAATAAGCCAGTTTTTTATGCCTTAGAAGGTTCTGTTGCTATAGCTGGTGCTGTTATTCGCTGGCTAAGAGACAATTTCGAAATTATAACAACCTCAGGGGAAGTTGAAAATCTTGCAAGAGAGGTAGGCACTTCCTATGGCTGCTACTTTGTCCCAGCCTTTTCGGGGCTGTATGCACCTTACTGGGAACCCAGTGCAAGAGGGATAATCTGTGGTCTCACTCAGTTCACCAACAAATGCCATATTGCCTTTGCTGCGTTAGAAGCTGTTTGTTTCCAAACCCGAGAGATTTTGGATGCCATGAATCGCGACTGTGGAATTCCACTCAGTCATTTGCAGGTCGATGGAGGAATGACCAACAACAGGATTCTTATGCAGCTACAGGCAGATATTCTGCACATTCCGGTAGTTAAGTCTGTCATGCCTGAAACGACGGCCCTGGGAGCTGCCATGGCAGCCGGAGCTGCAGAAGGGGTAAATGTTTGGAGTCTTGAACCTGAAGATTTGTCTACGATCTTGATGGAACGATATGAACCACAAATCCAAGCCACAGAGAGTGAAATTCGTTTTTCAACATGGAAGAGAGCAGTGATGAAGTCAATGGGTTGGGTTACAGCAAAGGACCCTGAAAATGGCGATAACCCTGTCTTCTCTTGTCTGCCCTTGGGTTTTTTTATAGTGAGTAGCATGACGTTATTAATTGGAGCAAGATGTGTCTCAACTGCTGAAGAGTAATTTGAACCACGGACTTGCAATGTGTGAACTTTTTACAGAAAGAATTCCATCTTTTAGTGTGAAACCAATATTATAGGTTTATTTTTACCTATAGGCCACTTGCTTACAGGAACCCATGAGGCCCCTACAAATACTCCTTAAAATAAAGGTTTTGAATAAAGAGAACACATTAGAAAAACAGTA'"
      ]
     },
     "execution_count": 366,
     "metadata": {},
     "output_type": "execute_result"
    }
   ],
   "source": [
    "transcription(base_data['NM_010294::chr5:97602988-97604882'])"
   ]
  },
  {
   "cell_type": "code",
   "execution_count": null,
   "id": "07cdccd0",
   "metadata": {},
   "outputs": [],
   "source": []
  },
  {
   "cell_type": "code",
   "execution_count": 367,
   "id": "c623feb5",
   "metadata": {},
   "outputs": [
    {
     "data": {
      "text/plain": [
       "['CAAACCTCTGCGGGACCGTTGG',\n",
       " 'CAAGAATACCCAAAAGAAGG',\n",
       " 'CAGAACCCAGTCTACTGTGG',\n",
       " 'CAGTGCTGTGAAGCTGCGGTGG',\n",
       " 'CAAAAGGCTGTTGAGGAAGG',\n",
       " 'CAGTTCTTCTGAGATCTATGG',\n",
       " 'CAATATCTGGATGTTTGGGGG',\n",
       " 'CAGTCTGCTGCTTTAGTGGG',\n",
       " 'CAAATGTGTTTCCATGAAGG',\n",
       " 'CAAGCCAAAAACACATACGG',\n",
       " 'CAAAAACACATACGGAACAGG',\n",
       " 'CAGTTTTTTATGCCTTAGAAGG',\n",
       " 'CGAAATTATAACAACCTCAGGG',\n",
       " 'CAGTCATTTGCAGGTCGATGG',\n",
       " 'CAGATATTCTGCACATTCCGG',\n",
       " 'CAGCCGGAGCTGCAGAAGGGG',\n",
       " 'CAGAAGGGGTAAATGTTTGG',\n",
       " 'CAGCAAAGGACCCTGAAAATGG',\n",
       " 'CAAATACTCCTTAAAATAAAGG']"
      ]
     },
     "execution_count": 367,
     "metadata": {},
     "output_type": "execute_result"
    }
   ],
   "source": [
    "target_base_CT_minus(transcription(base_data['NM_010294::chr5:97602988-97604882']))"
   ]
  },
  {
   "cell_type": "code",
   "execution_count": 368,
   "id": "b9c45999",
   "metadata": {},
   "outputs": [],
   "source": [
    "def CT_target_start(target_list,qua):    \n",
    "    result = []\n",
    "    for i in target_list:\n",
    "        matches = re.finditer(i, qua)\n",
    "        for match in matches:\n",
    "            start_index = match.start()\n",
    "            result.append(start_index)\n",
    "    return result"
   ]
  },
  {
   "cell_type": "code",
   "execution_count": 391,
   "id": "89342a3d",
   "metadata": {},
   "outputs": [],
   "source": [
    "da = CT_target_start(target_base_CT_minus(transcription(base_data['NM_010294::chr5:97602988-97604882'])),transcription(base_data['NM_010294::chr5:97602988-97604882']))"
   ]
  },
  {
   "cell_type": "code",
   "execution_count": 392,
   "id": "3289fff7",
   "metadata": {},
   "outputs": [],
   "source": [
    "aaa = np.array([1832, 1796, 1730, 1715, 1694, 1685, 1571, 1550, 1508, 1490, 1382, 1355, 1307, 1298, 1205, 1070, 1049, 1028, 977, 857, 734, 695, 641, 635, 581, 542, 536, 434, 392, 380, 374, 341, 311])"
   ]
  },
  {
   "cell_type": "code",
   "execution_count": 393,
   "id": "59416cc8",
   "metadata": {},
   "outputs": [
    {
     "data": {
      "text/plain": [
       "array([1832, 1796, 1730, 1715, 1694, 1685, 1571, 1550, 1508, 1490, 1382,\n",
       "       1355, 1307, 1298, 1205, 1070, 1049, 1028,  977,  857,  734,  695,\n",
       "        641,  635,  581,  542,  536,  434,  392,  380,  374,  341,  311])"
      ]
     },
     "execution_count": 393,
     "metadata": {},
     "output_type": "execute_result"
    }
   ],
   "source": [
    "aaa"
   ]
  },
  {
   "cell_type": "code",
   "execution_count": 394,
   "id": "edeb2dcd",
   "metadata": {},
   "outputs": [
    {
     "data": {
      "text/plain": [
       "[[0, 1894]]"
      ]
     },
     "execution_count": 394,
     "metadata": {},
     "output_type": "execute_result"
    }
   ],
   "source": [
    "add_num_list('NM_010294')"
   ]
  },
  {
   "cell_type": "code",
   "execution_count": 395,
   "id": "07619f26",
   "metadata": {},
   "outputs": [],
   "source": [
    "da =1894-np.array(da)-1"
   ]
  },
  {
   "cell_type": "code",
   "execution_count": 396,
   "id": "ceeadab1",
   "metadata": {},
   "outputs": [
    {
     "data": {
      "text/plain": [
       "array([1832, 1715, 1497, 1401, 1355, 1146, 1093, 1070, 1049, 1028, 1023,\n",
       "        910,  840,  591,  532,  463,  451,  304,   55])"
      ]
     },
     "execution_count": 396,
     "metadata": {},
     "output_type": "execute_result"
    }
   ],
   "source": [
    "da"
   ]
  },
  {
   "cell_type": "code",
   "execution_count": 397,
   "id": "346b4912",
   "metadata": {},
   "outputs": [
    {
     "data": {
      "text/plain": [
       "array([1028, 1049, 1070, 1355, 1715, 1832])"
      ]
     },
     "execution_count": 397,
     "metadata": {},
     "output_type": "execute_result"
    }
   ],
   "source": [
    "np.intersect1d(aaa,da)"
   ]
  },
  {
   "cell_type": "code",
   "execution_count": 402,
   "id": "e1b1b3c3",
   "metadata": {},
   "outputs": [
    {
     "data": {
      "text/plain": [
       "'CATTCAAAAGGCTGTTGAGGAAGGCAGAGCCATGTTTGGAACCATCGACTCTTGGCTCATCTGGTGTATGACCGGAGGAGTCAATGGAGGCATCCATTGCACCGATGTAACAAATGCATGCAGAACGATGCTTTTTAACATCCACTCTTTGGAATGGGATAAAGATCTCTGTGACTTTTTTGAAATTCCAATGAGCATCCTCCCAAATGTATGCAGTTCTTCTGAGATCTATGGCCTGATGACATCAGGGGCCTTGGAAGGCGTGCCAATATCTGGATGTTTGGGGGATCAGTCTGCTGCTTTAGTGGGACAAATGTGTTTCCATGAAGGTCAAGCCAAAAACACATACGGAACAGGCTGTTTTTTACTATGTAATACAGGCCAGAAATGTGTGTTTTCTGAACATGGCCTTCTGACCACATTGGCTTACAAACTAGGCAAAAATAAGCCAGTTTTTTATGCCTTAGAAGGTTCTGTTGCTATAGCTGGTGCTGTTATTCGCTGGCTAAGAGACAATTTCGAAATTATAACAACCTCAGGGGAAGTTGAAAATCTTGCAAGAGAGGTAGGCACTTCCTATGGCTGCTACTTTGTCCCAGCCTTTTCGGGGCTGTATGCACCTTACTGGGAACCCAGTGCAAGAGGGATAATCTGTGGTCTCACTCAGTTCACCAACAAATGCCATATTGCCTTTGCTGCGTTAGAAGCTGTTTGTTTCCAAACCCGAGAGATTTTGGATGCCATGAATCGCGACTGTGGAATTCCACTCAGTCATTTGCAGGTCGATGGAGGAATGACCAACAACAGGATTCTTATGCAGCTACAGGCAGATATTCTGCACATTCCGGTAGTTAAGTCTGTCATGCCTGAAACGACGGCCCTGGGAGCTGCCATGGCAGCCGGAGCTGCAGAAGGGGTAAATGTTTGGAGTCTTGAACCTGAAGATTTGTCTACGATCTTGATGGAACGATATGAACCACAAATCCAAGCCACAGAGAGTGAAATTCGTTTTTCAACATGGAAGAGAGCAGTGATGAAGTCAATGGGTTGGGTTACAGCAAAGGACCCTGAAAATGGCGATAACCCTGTCTTCTCTTGTCTGCCCTTGGGTTTTTTTATAGTGAGTAGCATGACGTTATTAATTGGAGCAAGATGTGTCTCAACTGCTGAAGAGTAATTTGAACCACGGACTTGCAATGTGTGAACTTTTTACAGAAAGAATTCCATCTTTTAGTGTGAAACCAATATTATAGGTTTATTTTTACCTATAGGCCACTTGCTTACAGGAACCCATGAGGCCCCTACAAATACTCCTTAAAATAAAGGTTTTGAATAAAGAGAACACATTAGAAAAACAGTA'"
      ]
     },
     "execution_count": 402,
     "metadata": {},
     "output_type": "execute_result"
    }
   ],
   "source": [
    "transcription(base_data['NM_010294::chr5:97602988-97604882'][:1360])"
   ]
  },
  {
   "cell_type": "code",
   "execution_count": null,
   "id": "2a0a34e1",
   "metadata": {},
   "outputs": [],
   "source": []
  }
 ],
 "metadata": {
  "kernelspec": {
   "display_name": "Python 3",
   "language": "python",
   "name": "python3"
  },
  "language_info": {
   "codemirror_mode": {
    "name": "ipython",
    "version": 3
   },
   "file_extension": ".py",
   "mimetype": "text/x-python",
   "name": "python",
   "nbconvert_exporter": "python",
   "pygments_lexer": "ipython3",
   "version": "3.8.8"
  }
 },
 "nbformat": 4,
 "nbformat_minor": 5
}
