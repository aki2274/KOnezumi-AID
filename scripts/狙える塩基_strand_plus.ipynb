{
 "cells": [
  {
   "cell_type": "code",
   "execution_count": 1,
   "id": "ad239b1e",
   "metadata": {},
   "outputs": [],
   "source": [
    "import pandas as pd\n",
    "import numpy as np\n",
    "from pandas import DataFrame, Series\n",
    "\n",
    "path = \"refFlat.txt\"\n",
    "path_fa = \"result.fa\""
   ]
  },
  {
   "cell_type": "code",
   "execution_count": 2,
   "id": "15fdd2a8",
   "metadata": {},
   "outputs": [],
   "source": [
    "def read_fasta(file_path):\n",
    "    sequences = {}\n",
    "    seq_id = None\n",
    "    current_seq = \"\"\n",
    "\n",
    "    with open(file_path, \"r\") as file:\n",
    "        for line in file:\n",
    "            line = line.strip()\n",
    "\n",
    "            if line.startswith(\">\"):  \n",
    "                if seq_id is not None:\n",
    "                    sequences[seq_id] = current_seq\n",
    "                    current_seq = \"\"\n",
    "                seq_id = line[1:]  \n",
    "            else:\n",
    "                current_seq += line\n",
    "\n",
    "        if seq_id is not None and current_seq != \"\":\n",
    "            sequences[seq_id] = current_seq\n",
    "\n",
    "    return sequences\n",
    "\n"
   ]
  },
  {
   "cell_type": "code",
   "execution_count": 3,
   "id": "f9d1ba5d",
   "metadata": {},
   "outputs": [],
   "source": [
    "import re\n",
    "\n",
    "def split_by_space(text):\n",
    "    return re.split('\\s+', text)"
   ]
  },
  {
   "cell_type": "code",
   "execution_count": 4,
   "id": "4b13ee7a",
   "metadata": {},
   "outputs": [],
   "source": [
    "def gene_data(text_list):\n",
    "    contents =[]\n",
    "    for i in range(len(text_list)-1):\n",
    "        contents.append(text_list[i])\n",
    "    return contents"
   ]
  },
  {
   "cell_type": "code",
   "execution_count": 5,
   "id": "a6f7d54c",
   "metadata": {},
   "outputs": [],
   "source": [
    "def result(path):\n",
    "    with open(path, \"r\", encoding=\"utf-8\") as file:\n",
    "        lines =file.readlines()\n",
    "    result = []\n",
    "    for line in lines:\n",
    "        line =split_by_space(line)\n",
    "        contents=gene_data(line)\n",
    "        result.append(contents)\n",
    "    return result\n",
    "    "
   ]
  },
  {
   "cell_type": "code",
   "execution_count": 6,
   "id": "e4b25897",
   "metadata": {},
   "outputs": [],
   "source": [
    "gene_data =result(path)\n",
    "col_names =['geneName','name','chrom','strand','txStart','txEnd','cdsStart','cdsEnd','exonCount','exonStarts','exonEnds']\n",
    "gene_df=pd.DataFrame(gene_data,columns=col_names)"
   ]
  },
  {
   "cell_type": "code",
   "execution_count": 7,
   "id": "fd8857d2",
   "metadata": {},
   "outputs": [],
   "source": [
    "base_data = read_fasta(path_fa)"
   ]
  },
  {
   "cell_type": "code",
   "execution_count": 8,
   "id": "146fdf3d",
   "metadata": {},
   "outputs": [],
   "source": [
    "def target_base_CT_plus(seq):\n",
    "    match = re.findall('(?=(\\w{20}GG))', seq)\n",
    "    target_list=[]\n",
    "    for i in range(len(match)):\n",
    "        target = match[i][0:3]\n",
    "        if target =='CAA'or target =='CAG'or target =='CGA':\n",
    "            target_list.append(True)\n",
    "        \n",
    "        else:\n",
    "            target_list.append(False)\n",
    "    result =[match[s] for s in range(len(match)) if target_list[s]]\n",
    "    result = list(dict.fromkeys(result))\n",
    "    return result"
   ]
  },
  {
   "cell_type": "code",
   "execution_count": 9,
   "id": "325e7334",
   "metadata": {},
   "outputs": [],
   "source": [
    "def target_base_AG_plus(seq):\n",
    "    match = re.findall('(?=(CC\\w{20}))', seq)\n",
    "    target_list=[]\n",
    "    for i in range(len(match)):\n",
    "        target = match[i][-3:]\n",
    "        if target =='TGG':#kここはCCA?\n",
    "            target_list.append(True)\n",
    "        \n",
    "        else:\n",
    "            target_list.append(False)\n",
    "    result =[match[s] for s in range(len(match)) if target_list[s]]\n",
    "    result = list(dict.fromkeys(result))\n",
    "    return result"
   ]
  },
  {
   "cell_type": "code",
   "execution_count": 10,
   "id": "f814ddb8",
   "metadata": {},
   "outputs": [],
   "source": [
    "def target_start(target_list,qua):    \n",
    "    result = []\n",
    "    for i in target_list:\n",
    "        matches = re.finditer(i, qua)\n",
    "        for match in matches:\n",
    "            start_index = match.start()\n",
    "            result.append(start_index)\n",
    "    return result"
   ]
  },
  {
   "cell_type": "code",
   "execution_count": 11,
   "id": "be458403",
   "metadata": {},
   "outputs": [],
   "source": [
    "def target_gene_start(name,target):\n",
    "    data = gene_df[gene_df['name']==name]\n",
    "    num = data['txStart'].astype(int).to_numpy()\n",
    "    target = np.array(target)\n",
    "    result = target+num\n",
    "    #ここ-1が必要かもしれない？\n",
    "    return result\n",
    "    "
   ]
  },
  {
   "cell_type": "code",
   "execution_count": null,
   "id": "dbb8b375",
   "metadata": {},
   "outputs": [],
   "source": []
  },
  {
   "cell_type": "code",
   "execution_count": null,
   "id": "3071b006",
   "metadata": {},
   "outputs": [],
   "source": []
  },
  {
   "cell_type": "code",
   "execution_count": 12,
   "id": "01492624",
   "metadata": {},
   "outputs": [],
   "source": [
    "def exon_data(name,sequence_data):\n",
    "    data = gene_df[gene_df['name']==name]\n",
    "    set_num =int(data['txStart'].to_list()[0])\n",
    "    start = data['exonStarts'].to_list()[0]\n",
    "    end = data['exonEnds'].to_list()[0]#最後に空白があるからその対処\n",
    "    exon_seq_list = []\n",
    "    start_list = [num for num in start.split(\",\")]\n",
    "    end_list = [num for num in end.split(\",\")]\n",
    "    for s in range(len(start_list)-1):\n",
    "        start_num = int(start_list[s])- set_num\n",
    "        \n",
    "        end_num= int(end_list[s]) - set_num\n",
    "    \n",
    "        \n",
    "        exon_seq =sequence_data[start_num:end_num]\n",
    "        exon_seq_list.append(exon_seq)\n",
    "        \n",
    "    \n",
    "    \n",
    "    return ''.join(exon_seq_list)"
   ]
  },
  {
   "cell_type": "code",
   "execution_count": 13,
   "id": "448bdc9b",
   "metadata": {},
   "outputs": [],
   "source": [
    "def where_start_codon(name):\n",
    "    data = gene_df[gene_df['name']==name]\n",
    "    cdsStart =int(data['cdsStart'].to_list()[0])\n",
    "    set_num =int(data['cdsStart'].to_list()[0])-int(data['txStart'].to_list()[0])\n",
    "    start = data['exonStarts'].to_list()[0]\n",
    "    end = data['exonEnds'].to_list()[0]#最後に空白があるからその対処\n",
    "    start = list(start.split(','))\n",
    "    end = list(end.split(','))\n",
    "    for s in range(len(start)-1):\n",
    "        if (int(start[s]) <= cdsStart<=int(end[s])):\n",
    "             exon_num =s\n",
    "            \n",
    "    return exon_num\n"
   ]
  },
  {
   "cell_type": "code",
   "execution_count": 14,
   "id": "4a9f056d",
   "metadata": {},
   "outputs": [],
   "source": [
    "def start_codon(name,exon_data,exon_num):\n",
    "    data = gene_df[gene_df['name']==name]\n",
    "    set_num =int(data['cdsStart'].to_list()[0])-int(data['txStart'].to_list()[0])\n",
    "    CDs =''\n",
    "    start = data['exonStarts'].to_list()[0]\n",
    "    end = data['exonEnds'].to_list()[0]#最後に空白があるからその対処\n",
    "    start = list(start.split(','))\n",
    "    end = list(end.split(','))\n",
    "    cds_list=[]\n",
    "    if exon_num == 0:\n",
    "            cds_list.append(exon_data[set_num:])\n",
    "            \n",
    "    \n",
    "    \n",
    "    else:     \n",
    "        start_num = int(data['cdsStart'].to_list()[0])- int(start[exon_num])\n",
    "\n",
    "        for s in range(exon_num):\n",
    "            start_num += int(end[s])-int(start[s])\n",
    "        cds_list.append(exon_data[start_num:])\n",
    "        \n",
    "    return ''.join(cds_list)"
   ]
  },
  {
   "cell_type": "code",
   "execution_count": 15,
   "id": "1c83ebfd",
   "metadata": {},
   "outputs": [],
   "source": [
    "def end_codon(cds_seq):\n",
    "    matches = re.finditer('(?=(CAA)|(?=(CAG))|(?=(CGA))|(?=(TGG)))', cds_seq)\n",
    "    result=[]\n",
    "    for match in matches:\n",
    "        start_pos = match.start() \n",
    "        \n",
    "        if (start_pos % 3) == 0:\n",
    "            result.append(start_pos)\n",
    "    return result"
   ]
  },
  {
   "cell_type": "code",
   "execution_count": 16,
   "id": "b682f9bb",
   "metadata": {},
   "outputs": [],
   "source": [
    "#こいつらに要修正"
   ]
  },
  {
   "cell_type": "code",
   "execution_count": 17,
   "id": "a1c6110c",
   "metadata": {},
   "outputs": [],
   "source": [
    "def add_num_list(name):#修正が必要\n",
    "    data = gene_df[gene_df['name']==name]\n",
    "    set_num =int(data['cdsStart'].to_list()[0])\n",
    "    start = data['exonStarts'].to_list()[0]\n",
    "    end = data['exonEnds'].to_list()[0]#最後に空白があるからその対処\n",
    "    start = list(start.split(','))\n",
    "    end = list(end.split(','))\n",
    "    add_list=[]\n",
    "    num = 0\n",
    "    for s in range(len(start)-1):\n",
    "        element_list=[]\n",
    "        element_list.append(num)\n",
    "        \n",
    "        num += int(end[s])-int(start[s])\n",
    "        \n",
    "        element_list.append(num)\n",
    "        add_list.append(element_list)\n",
    "        \n",
    "    return add_list"
   ]
  },
  {
   "cell_type": "code",
   "execution_count": 18,
   "id": "aad0d469",
   "metadata": {},
   "outputs": [],
   "source": [
    "def add_num_correct(name,number_list, interval_list,exon_num):\n",
    "    data = gene_df[gene_df['name']==name]\n",
    "    set_num =int(data['cdsStart'].to_list()[0])\n",
    "    start = data['exonStarts'].to_list()[0]\n",
    "    end = data['exonEnds'].to_list()[0]#最後に空白があるからその対処\n",
    "    start = list(start.split(','))\n",
    "    end = list(end.split(','))\n",
    "    add_result=[]\n",
    "    \n",
    "    number_list = np.array(number_list)\n",
    "    start_num=int(interval_list[exon_num][0])\n",
    "    number_list = number_list + (set_num-int(start[exon_num])+start_num)\n",
    "    number_list = number_list.tolist()#ここでエクソン上で何番目かになってる（cdsからエクソン上に）\n",
    "    \n",
    "    \n",
    "    indices = []\n",
    "    for number in number_list:\n",
    "        for index, interval in enumerate(interval_list):\n",
    "           # print(index)\n",
    "            if int(interval[0]) <= int(number) < int(interval[1]):\n",
    "                indices.append(index)\n",
    "                break\n",
    "    n =0        \n",
    "    for i in indices:\n",
    "        \n",
    "        if i == 0:\n",
    "            add_result.append(set_num)\n",
    "            n +=1\n",
    "        else:\n",
    "            add_result.append(int(number_list[n])-int(interval_list[i][0]))\n",
    "            n += 1\n",
    "\n",
    "    return add_result"
   ]
  },
  {
   "cell_type": "code",
   "execution_count": 19,
   "id": "f3c1a136",
   "metadata": {},
   "outputs": [],
   "source": [
    "def add_num(name,number_list, interval_list,exon_num):\n",
    "\n",
    "    data = gene_df[gene_df['name']==name]\n",
    "    set_num =int(data['cdsStart'].to_list()[0])\n",
    "    start = data['exonStarts'].to_list()[0]\n",
    "    end = data['exonEnds'].to_list()[0]#最後に空白があるからその対処\n",
    "    start = list(start.split(','))\n",
    "    end = list(end.split(','))\n",
    "    add_result=[]\n",
    "    \n",
    "    number_list = np.array(number_list)\n",
    "    start_num=int(interval_list[exon_num][0])\n",
    "    number_list = number_list + (set_num-int(start[exon_num])+start_num)\n",
    "    number_list = number_list.tolist()#ここでエクソン上で何番目かになってる（cdsからエクソン上に）\n",
    "\n",
    "    \n",
    "    \n",
    "    indices = []\n",
    "    for number in number_list:\n",
    "        for index, interval in enumerate(interval_list):\n",
    "           # print(index)\n",
    "            if int(interval[0]) <= int(number) < int(interval[1]):\n",
    "                indices.append(index)\n",
    "                break\n",
    "            \n",
    "    for i in indices:\n",
    "        if i == 0:\n",
    "            add_result.append(set_num)\n",
    "        else:\n",
    "            add_result.append(int(start[i]))\n",
    "\n",
    "    return add_result"
   ]
  },
  {
   "cell_type": "code",
   "execution_count": 22,
   "id": "c96d9675",
   "metadata": {},
   "outputs": [
    {
     "data": {
      "text/html": [
       "<div>\n",
       "<style scoped>\n",
       "    .dataframe tbody tr th:only-of-type {\n",
       "        vertical-align: middle;\n",
       "    }\n",
       "\n",
       "    .dataframe tbody tr th {\n",
       "        vertical-align: top;\n",
       "    }\n",
       "\n",
       "    .dataframe thead th {\n",
       "        text-align: right;\n",
       "    }\n",
       "</style>\n",
       "<table border=\"1\" class=\"dataframe\">\n",
       "  <thead>\n",
       "    <tr style=\"text-align: right;\">\n",
       "      <th></th>\n",
       "      <th>geneName</th>\n",
       "      <th>name</th>\n",
       "      <th>chrom</th>\n",
       "      <th>strand</th>\n",
       "      <th>txStart</th>\n",
       "      <th>txEnd</th>\n",
       "      <th>cdsStart</th>\n",
       "      <th>cdsEnd</th>\n",
       "      <th>exonCount</th>\n",
       "      <th>exonStarts</th>\n",
       "      <th>exonEnds</th>\n",
       "    </tr>\n",
       "  </thead>\n",
       "  <tbody>\n",
       "    <tr>\n",
       "      <th>5050</th>\n",
       "      <td>Ikzf1</td>\n",
       "      <td>NM_001301868</td>\n",
       "      <td>chr11</td>\n",
       "      <td>+</td>\n",
       "      <td>11635924</td>\n",
       "      <td>11722926</td>\n",
       "      <td>11650218</td>\n",
       "      <td>11719581</td>\n",
       "      <td>8</td>\n",
       "      <td>11635924,11650204,11657784,11698310,11704006,1...</td>\n",
       "      <td>11636468,11650258,11657904,11698571,11704174,1...</td>\n",
       "    </tr>\n",
       "  </tbody>\n",
       "</table>\n",
       "</div>"
      ],
      "text/plain": [
       "     geneName          name  chrom strand   txStart     txEnd  cdsStart  \\\n",
       "5050    Ikzf1  NM_001301868  chr11      +  11635924  11722926  11650218   \n",
       "\n",
       "        cdsEnd exonCount                                         exonStarts  \\\n",
       "5050  11719581         8  11635924,11650204,11657784,11698310,11704006,1...   \n",
       "\n",
       "                                               exonEnds  \n",
       "5050  11636468,11650258,11657904,11698571,11704174,1...  "
      ]
     },
     "execution_count": 22,
     "metadata": {},
     "output_type": "execute_result"
    }
   ],
   "source": [
    "gene_df[gene_df['name']==\"NM_001301868\"]"
   ]
  },
  {
   "cell_type": "code",
   "execution_count": 23,
   "id": "01c7affa",
   "metadata": {},
   "outputs": [],
   "source": [
    "#a = exon_data(\"NM_001301868\",base_data['NM_001301868::chr11:11635924-11722926'])"
   ]
  },
  {
   "cell_type": "code",
   "execution_count": 24,
   "id": "51dc3739",
   "metadata": {},
   "outputs": [],
   "source": [
    "#base_data['NM_001301868::chr11:11635924-11722926'][11723161-11635924:]"
   ]
  },
  {
   "cell_type": "code",
   "execution_count": 25,
   "id": "bedaeb88",
   "metadata": {},
   "outputs": [],
   "source": [
    "#a[5397:]"
   ]
  },
  {
   "cell_type": "code",
   "execution_count": 26,
   "id": "ac66f264",
   "metadata": {},
   "outputs": [],
   "source": [
    "#start_codon(\"NM_001301868\",a,1)"
   ]
  },
  {
   "cell_type": "code",
   "execution_count": 27,
   "id": "7c6e1504",
   "metadata": {
    "scrolled": false
   },
   "outputs": [],
   "source": [
    "#CT_target_base_strand_plus(\"NM_001301868\")"
   ]
  },
  {
   "cell_type": "code",
   "execution_count": 28,
   "id": "e3586fab",
   "metadata": {},
   "outputs": [],
   "source": [
    "def CT_target_base_strand_plus(name,):\n",
    "    name_df=gene_df[gene_df['name']==name].reset_index()\n",
    "    chrom = str(name_df.loc[0,'chrom'])\n",
    "    txStart = str(name_df.loc[0,'txStart'])\n",
    "    txEnd = str(name_df.loc[0,'txEnd'])\n",
    "    \n",
    "    query = f'{name}::{chrom}:{txStart}-{txEnd}'\n",
    "    seq = base_data[query]\n",
    "    available_base_num =target_gene_start(name,target_start(target_base_CT_plus(seq),seq))#配列的に狙えるほう\n",
    "    \n",
    "    \n",
    "    \n",
    "    start_exon_num= where_start_codon(name)\n",
    "    end_codon_num =end_codon(start_codon(name,exon_data(name,seq),start_exon_num))   \n",
    "    add_list =add_num(name,end_codon_num,add_num_list(name),start_exon_num)\n",
    " \n",
    "    end_codon_num=add_num_correct(name,end_codon_num,add_num_list(name),start_exon_num)\n",
    "    \n",
    "    available_base_num =np.array(available_base_num)\n",
    "    end_codon_num = np.array(end_codon_num)\n",
    "    add_list = np.array(add_list)\n",
    " \n",
    "    \n",
    "    num_able = available_base_num\n",
    "    num_codon = end_codon_num+add_list\n",
    "\n",
    "    num_codon = [x for x in num_codon if x <= int(name_df.loc[0,'cdsEnd'])]\n",
    "    result = np.intersect1d(num_able,num_codon)\n",
    "\n",
    "    return result"
   ]
  },
  {
   "cell_type": "code",
   "execution_count": 29,
   "id": "eaec1a55",
   "metadata": {},
   "outputs": [],
   "source": [
    "def AG_target_base_strand_plus(name,):\n",
    "    name_df=gene_df[gene_df['name']==name].reset_index()\n",
    "    chrom = str(name_df.loc[0,'chrom'])\n",
    "    txStart = str(name_df.loc[0,'txStart'])\n",
    "    txEnd = str(name_df.loc[0,'txEnd'])\n",
    "    \n",
    "    query = f'{name}::{chrom}:{txStart}-{txEnd}'\n",
    "    seq = base_data[query]\n",
    "    available_base_num =target_gene_start(name,target_start(target_base_AG_plus(seq),seq))#配列的に狙えるほう\n",
    "\n",
    "    \n",
    "    start_exon_num= where_start_codon(name)\n",
    "    end_codon_num =end_codon(start_codon(name,exon_data(name,seq),start_exon_num))   \n",
    "    add_list =add_num(name,end_codon_num,add_num_list(name),start_exon_num)\n",
    "    \n",
    "  \n",
    "    end_codon_num=add_num_correct(name,end_codon_num,add_num_list(name),start_exon_num)\n",
    "    \n",
    "    available_base_num =np.array(available_base_num)\n",
    "    end_codon_num = np.array(end_codon_num)\n",
    "    add_list = np.array(add_list)\n",
    "\n",
    "    num_able = available_base_num+19#GGXXXなので19たした\n",
    "    num_codon = end_codon_num+add_list\n",
    "    \n",
    "    num_codon = [x for x in num_codon if x <= int(name_df.loc[0,'cdsEnd'])]\n",
    "    \n",
    "    \n",
    "    result = np.intersect1d(num_able,num_codon)\n",
    "  \n",
    "    return result"
   ]
  },
  {
   "cell_type": "code",
   "execution_count": 30,
   "id": "58168a43",
   "metadata": {},
   "outputs": [
    {
     "data": {
      "text/plain": [
       "array([44244686])"
      ]
     },
     "execution_count": 30,
     "metadata": {},
     "output_type": "execute_result"
    }
   ],
   "source": [
    "CT_target_base_strand_plus(\"NM_001385633\")"
   ]
  },
  {
   "cell_type": "code",
   "execution_count": 31,
   "id": "99f17602",
   "metadata": {},
   "outputs": [
    {
     "data": {
      "text/plain": [
       "array([11650248])"
      ]
     },
     "execution_count": 31,
     "metadata": {},
     "output_type": "execute_result"
    }
   ],
   "source": [
    "CT_target_base_strand_plus(\"NM_001301868\")"
   ]
  },
  {
   "cell_type": "code",
   "execution_count": 32,
   "id": "39496ab7",
   "metadata": {},
   "outputs": [
    {
     "data": {
      "text/plain": [
       "array([], dtype=int32)"
      ]
     },
     "execution_count": 32,
     "metadata": {},
     "output_type": "execute_result"
    }
   ],
   "source": [
    "AG_target_base_strand_plus(\"NM_001385633\")"
   ]
  },
  {
   "cell_type": "code",
   "execution_count": 33,
   "id": "a817ecdc",
   "metadata": {},
   "outputs": [
    {
     "data": {
      "text/plain": [
       "array([], dtype=int32)"
      ]
     },
     "execution_count": 33,
     "metadata": {},
     "output_type": "execute_result"
    }
   ],
   "source": [
    "AG_target_base_strand_plus(\"NM_001301868\")"
   ]
  },
  {
   "cell_type": "code",
   "execution_count": 34,
   "id": "3d57b545",
   "metadata": {},
   "outputs": [
    {
     "data": {
      "text/html": [
       "<div>\n",
       "<style scoped>\n",
       "    .dataframe tbody tr th:only-of-type {\n",
       "        vertical-align: middle;\n",
       "    }\n",
       "\n",
       "    .dataframe tbody tr th {\n",
       "        vertical-align: top;\n",
       "    }\n",
       "\n",
       "    .dataframe thead th {\n",
       "        text-align: right;\n",
       "    }\n",
       "</style>\n",
       "<table border=\"1\" class=\"dataframe\">\n",
       "  <thead>\n",
       "    <tr style=\"text-align: right;\">\n",
       "      <th></th>\n",
       "      <th>geneName</th>\n",
       "      <th>name</th>\n",
       "      <th>chrom</th>\n",
       "      <th>strand</th>\n",
       "      <th>txStart</th>\n",
       "      <th>txEnd</th>\n",
       "      <th>cdsStart</th>\n",
       "      <th>cdsEnd</th>\n",
       "      <th>exonCount</th>\n",
       "      <th>exonStarts</th>\n",
       "      <th>exonEnds</th>\n",
       "    </tr>\n",
       "  </thead>\n",
       "  <tbody>\n",
       "    <tr>\n",
       "      <th>77</th>\n",
       "      <td>Sulf1</td>\n",
       "      <td>NM_001198565</td>\n",
       "      <td>chr1</td>\n",
       "      <td>+</td>\n",
       "      <td>12762653</td>\n",
       "      <td>12930596</td>\n",
       "      <td>12856750</td>\n",
       "      <td>12929066</td>\n",
       "      <td>22</td>\n",
       "      <td>12762653,12798817,12856302,12856691,12866989,1...</td>\n",
       "      <td>12762908,12798912,12856375,12856922,12867229,1...</td>\n",
       "    </tr>\n",
       "    <tr>\n",
       "      <th>78</th>\n",
       "      <td>Sulf1</td>\n",
       "      <td>NM_001198566</td>\n",
       "      <td>chr1</td>\n",
       "      <td>+</td>\n",
       "      <td>12762653</td>\n",
       "      <td>12930596</td>\n",
       "      <td>12856750</td>\n",
       "      <td>12929066</td>\n",
       "      <td>21</td>\n",
       "      <td>12762653,12856302,12856691,12866989,12875403,1...</td>\n",
       "      <td>12762908,12856375,12856922,12867229,12875555,1...</td>\n",
       "    </tr>\n",
       "    <tr>\n",
       "      <th>79</th>\n",
       "      <td>Sulf1</td>\n",
       "      <td>NM_172294</td>\n",
       "      <td>chr1</td>\n",
       "      <td>+</td>\n",
       "      <td>12788768</td>\n",
       "      <td>12930596</td>\n",
       "      <td>12856750</td>\n",
       "      <td>12929066</td>\n",
       "      <td>22</td>\n",
       "      <td>12788768,12798817,12856302,12856691,12866989,1...</td>\n",
       "      <td>12789007,12798912,12856375,12856922,12867229,1...</td>\n",
       "    </tr>\n",
       "  </tbody>\n",
       "</table>\n",
       "</div>"
      ],
      "text/plain": [
       "   geneName          name chrom strand   txStart     txEnd  cdsStart  \\\n",
       "77    Sulf1  NM_001198565  chr1      +  12762653  12930596  12856750   \n",
       "78    Sulf1  NM_001198566  chr1      +  12762653  12930596  12856750   \n",
       "79    Sulf1     NM_172294  chr1      +  12788768  12930596  12856750   \n",
       "\n",
       "      cdsEnd exonCount                                         exonStarts  \\\n",
       "77  12929066        22  12762653,12798817,12856302,12856691,12866989,1...   \n",
       "78  12929066        21  12762653,12856302,12856691,12866989,12875403,1...   \n",
       "79  12929066        22  12788768,12798817,12856302,12856691,12866989,1...   \n",
       "\n",
       "                                             exonEnds  \n",
       "77  12762908,12798912,12856375,12856922,12867229,1...  \n",
       "78  12762908,12856375,12856922,12867229,12875555,1...  \n",
       "79  12789007,12798912,12856375,12856922,12867229,1...  "
      ]
     },
     "execution_count": 34,
     "metadata": {},
     "output_type": "execute_result"
    }
   ],
   "source": [
    "gene_df[gene_df['geneName']=='Sulf1']"
   ]
  },
  {
   "cell_type": "code",
   "execution_count": 35,
   "id": "bf3ee7d2",
   "metadata": {},
   "outputs": [
    {
     "data": {
      "text/plain": [
       "array([12908728, 12910101, 12918596])"
      ]
     },
     "execution_count": 35,
     "metadata": {},
     "output_type": "execute_result"
    }
   ],
   "source": [
    "CT_target_base_strand_plus(\"NM_001198565\")"
   ]
  },
  {
   "cell_type": "code",
   "execution_count": 36,
   "id": "778d23eb",
   "metadata": {},
   "outputs": [
    {
     "data": {
      "text/plain": [
       "array([12908728, 12910101, 12918596])"
      ]
     },
     "execution_count": 36,
     "metadata": {},
     "output_type": "execute_result"
    }
   ],
   "source": [
    "CT_target_base_strand_plus(\"NM_001198566\")"
   ]
  },
  {
   "cell_type": "code",
   "execution_count": 37,
   "id": "28013e8a",
   "metadata": {},
   "outputs": [
    {
     "data": {
      "text/plain": [
       "array([12908728, 12910101, 12918596])"
      ]
     },
     "execution_count": 37,
     "metadata": {},
     "output_type": "execute_result"
    }
   ],
   "source": [
    "CT_target_base_strand_plus(\"NM_172294\")"
   ]
  },
  {
   "cell_type": "code",
   "execution_count": 38,
   "id": "62defba8",
   "metadata": {},
   "outputs": [
    {
     "data": {
      "text/plain": [
       "array([12875465, 12906339])"
      ]
     },
     "execution_count": 38,
     "metadata": {},
     "output_type": "execute_result"
    }
   ],
   "source": [
    "AG_target_base_strand_plus(\"NM_001198565\")"
   ]
  },
  {
   "cell_type": "code",
   "execution_count": 39,
   "id": "35d0cae6",
   "metadata": {},
   "outputs": [
    {
     "data": {
      "text/plain": [
       "array([12875465, 12906339])"
      ]
     },
     "execution_count": 39,
     "metadata": {},
     "output_type": "execute_result"
    }
   ],
   "source": [
    "AG_target_base_strand_plus(\"NM_001198566\")"
   ]
  },
  {
   "cell_type": "code",
   "execution_count": 40,
   "id": "8ce06640",
   "metadata": {},
   "outputs": [
    {
     "data": {
      "text/plain": [
       "array([12875465, 12906339])"
      ]
     },
     "execution_count": 40,
     "metadata": {},
     "output_type": "execute_result"
    }
   ],
   "source": [
    "AG_target_base_strand_plus(\"NM_172294\")"
   ]
  },
  {
   "cell_type": "code",
   "execution_count": 41,
   "id": "9f0d856a",
   "metadata": {},
   "outputs": [
    {
     "data": {
      "text/html": [
       "<div>\n",
       "<style scoped>\n",
       "    .dataframe tbody tr th:only-of-type {\n",
       "        vertical-align: middle;\n",
       "    }\n",
       "\n",
       "    .dataframe tbody tr th {\n",
       "        vertical-align: top;\n",
       "    }\n",
       "\n",
       "    .dataframe thead th {\n",
       "        text-align: right;\n",
       "    }\n",
       "</style>\n",
       "<table border=\"1\" class=\"dataframe\">\n",
       "  <thead>\n",
       "    <tr style=\"text-align: right;\">\n",
       "      <th></th>\n",
       "      <th>geneName</th>\n",
       "      <th>name</th>\n",
       "      <th>chrom</th>\n",
       "      <th>strand</th>\n",
       "      <th>txStart</th>\n",
       "      <th>txEnd</th>\n",
       "      <th>cdsStart</th>\n",
       "      <th>cdsEnd</th>\n",
       "      <th>exonCount</th>\n",
       "      <th>exonStarts</th>\n",
       "      <th>exonEnds</th>\n",
       "    </tr>\n",
       "  </thead>\n",
       "  <tbody>\n",
       "    <tr>\n",
       "      <th>30185</th>\n",
       "      <td>Mul1</td>\n",
       "      <td>NM_026689</td>\n",
       "      <td>chr4</td>\n",
       "      <td>+</td>\n",
       "      <td>138161982</td>\n",
       "      <td>138169576</td>\n",
       "      <td>138162070</td>\n",
       "      <td>138166991</td>\n",
       "      <td>4</td>\n",
       "      <td>138161982,138164938,138165552,138166261,</td>\n",
       "      <td>138162190,138165026,138165673,138169576,</td>\n",
       "    </tr>\n",
       "  </tbody>\n",
       "</table>\n",
       "</div>"
      ],
      "text/plain": [
       "      geneName       name chrom strand    txStart      txEnd   cdsStart  \\\n",
       "30185     Mul1  NM_026689  chr4      +  138161982  138169576  138162070   \n",
       "\n",
       "          cdsEnd exonCount                                exonStarts  \\\n",
       "30185  138166991         4  138161982,138164938,138165552,138166261,   \n",
       "\n",
       "                                       exonEnds  \n",
       "30185  138162190,138165026,138165673,138169576,  "
      ]
     },
     "execution_count": 41,
     "metadata": {},
     "output_type": "execute_result"
    }
   ],
   "source": [
    "gene_df[gene_df['geneName']=='Mul1']"
   ]
  },
  {
   "cell_type": "code",
   "execution_count": 42,
   "id": "2fdd49ec",
   "metadata": {},
   "outputs": [
    {
     "data": {
      "text/plain": [
       "array([138165587, 138166583, 138166796])"
      ]
     },
     "execution_count": 42,
     "metadata": {},
     "output_type": "execute_result"
    }
   ],
   "source": [
    "CT_target_base_strand_plus(\"NM_026689\")"
   ]
  },
  {
   "cell_type": "code",
   "execution_count": 43,
   "id": "9135e2d9",
   "metadata": {},
   "outputs": [
    {
     "data": {
      "text/plain": [
       "array([], dtype=int32)"
      ]
     },
     "execution_count": 43,
     "metadata": {},
     "output_type": "execute_result"
    }
   ],
   "source": [
    "AG_target_base_strand_plus(\"NM_026689\")"
   ]
  },
  {
   "cell_type": "code",
   "execution_count": 45,
   "id": "a113f09c",
   "metadata": {},
   "outputs": [
    {
     "data": {
      "text/html": [
       "<div>\n",
       "<style scoped>\n",
       "    .dataframe tbody tr th:only-of-type {\n",
       "        vertical-align: middle;\n",
       "    }\n",
       "\n",
       "    .dataframe tbody tr th {\n",
       "        vertical-align: top;\n",
       "    }\n",
       "\n",
       "    .dataframe thead th {\n",
       "        text-align: right;\n",
       "    }\n",
       "</style>\n",
       "<table border=\"1\" class=\"dataframe\">\n",
       "  <thead>\n",
       "    <tr style=\"text-align: right;\">\n",
       "      <th></th>\n",
       "      <th>geneName</th>\n",
       "      <th>name</th>\n",
       "      <th>chrom</th>\n",
       "      <th>strand</th>\n",
       "      <th>txStart</th>\n",
       "      <th>txEnd</th>\n",
       "      <th>cdsStart</th>\n",
       "      <th>cdsEnd</th>\n",
       "      <th>exonCount</th>\n",
       "      <th>exonStarts</th>\n",
       "      <th>exonEnds</th>\n",
       "    </tr>\n",
       "  </thead>\n",
       "  <tbody>\n",
       "    <tr>\n",
       "      <th>20704</th>\n",
       "      <td>A1cf</td>\n",
       "      <td>NM_001081074</td>\n",
       "      <td>chr19</td>\n",
       "      <td>+</td>\n",
       "      <td>31846212</td>\n",
       "      <td>31929765</td>\n",
       "      <td>31870499</td>\n",
       "      <td>31924910</td>\n",
       "      <td>12</td>\n",
       "      <td>31846212,31870454,31886191,31888505,31895283,3...</td>\n",
       "      <td>31846259,31870598,31886326,31888636,31895522,3...</td>\n",
       "    </tr>\n",
       "    <tr>\n",
       "      <th>20705</th>\n",
       "      <td>A1cf</td>\n",
       "      <td>NM_001365078</td>\n",
       "      <td>chr19</td>\n",
       "      <td>+</td>\n",
       "      <td>31846212</td>\n",
       "      <td>31929765</td>\n",
       "      <td>31870499</td>\n",
       "      <td>31924910</td>\n",
       "      <td>12</td>\n",
       "      <td>31846212,31870454,31886191,31888505,31895283,3...</td>\n",
       "      <td>31846259,31870598,31886326,31888636,31895522,3...</td>\n",
       "    </tr>\n",
       "  </tbody>\n",
       "</table>\n",
       "</div>"
      ],
      "text/plain": [
       "      geneName          name  chrom strand   txStart     txEnd  cdsStart  \\\n",
       "20704     A1cf  NM_001081074  chr19      +  31846212  31929765  31870499   \n",
       "20705     A1cf  NM_001365078  chr19      +  31846212  31929765  31870499   \n",
       "\n",
       "         cdsEnd exonCount                                         exonStarts  \\\n",
       "20704  31924910        12  31846212,31870454,31886191,31888505,31895283,3...   \n",
       "20705  31924910        12  31846212,31870454,31886191,31888505,31895283,3...   \n",
       "\n",
       "                                                exonEnds  \n",
       "20704  31846259,31870598,31886326,31888636,31895522,3...  \n",
       "20705  31846259,31870598,31886326,31888636,31895522,3...  "
      ]
     },
     "execution_count": 45,
     "metadata": {},
     "output_type": "execute_result"
    }
   ],
   "source": [
    "gene_df[gene_df['geneName']=='A1cf']"
   ]
  },
  {
   "cell_type": "code",
   "execution_count": 46,
   "id": "84dfe737",
   "metadata": {},
   "outputs": [
    {
     "data": {
      "text/plain": [
       "array([31870571])"
      ]
     },
     "execution_count": 46,
     "metadata": {},
     "output_type": "execute_result"
    }
   ],
   "source": [
    "CT_target_base_strand_plus(\"NM_001365078\")"
   ]
  },
  {
   "cell_type": "code",
   "execution_count": 47,
   "id": "1beb3686",
   "metadata": {},
   "outputs": [
    {
     "data": {
      "text/plain": [
       "array([], dtype=int32)"
      ]
     },
     "execution_count": 47,
     "metadata": {},
     "output_type": "execute_result"
    }
   ],
   "source": [
    "AG_target_base_strand_plus(\"NM_001365078\")"
   ]
  },
  {
   "cell_type": "code",
   "execution_count": null,
   "id": "a7ce4770",
   "metadata": {},
   "outputs": [],
   "source": []
  }
 ],
 "metadata": {
  "kernelspec": {
   "display_name": "Python 3",
   "language": "python",
   "name": "python3"
  },
  "language_info": {
   "codemirror_mode": {
    "name": "ipython",
    "version": 3
   },
   "file_extension": ".py",
   "mimetype": "text/x-python",
   "name": "python",
   "nbconvert_exporter": "python",
   "pygments_lexer": "ipython3",
   "version": "3.8.8"
  }
 },
 "nbformat": 4,
 "nbformat_minor": 5
}
