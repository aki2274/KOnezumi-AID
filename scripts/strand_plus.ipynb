{
 "cells": [
  {
   "cell_type": "code",
   "execution_count": 1,
   "id": "ad239b1e",
   "metadata": {},
   "outputs": [],
   "source": [
    "import pandas as pd\n",
    "import numpy as np\n",
    "from pandas import DataFrame, Series\n",
    "\n",
    "path = \"refFlat.txt\"\n",
    "path_fa = \"result.fa\""
   ]
  },
  {
   "cell_type": "code",
   "execution_count": 2,
   "id": "15fdd2a8",
   "metadata": {},
   "outputs": [],
   "source": [
    "def read_fasta(file_path):\n",
    "    sequences = {}\n",
    "    seq_id = None\n",
    "    current_seq = \"\"\n",
    "\n",
    "    with open(file_path, \"r\") as file:\n",
    "        for line in file:\n",
    "            line = line.strip()\n",
    "\n",
    "            if line.startswith(\">\"):  \n",
    "                if seq_id is not None:\n",
    "                    sequences[seq_id] = current_seq\n",
    "                    current_seq = \"\"\n",
    "                seq_id = line[1:]  \n",
    "            else:\n",
    "                current_seq += line\n",
    "\n",
    "        if seq_id is not None and current_seq != \"\":\n",
    "            sequences[seq_id] = current_seq\n",
    "\n",
    "    return sequences\n",
    "\n"
   ]
  },
  {
   "cell_type": "code",
   "execution_count": 3,
   "id": "f9d1ba5d",
   "metadata": {},
   "outputs": [],
   "source": [
    "import re\n",
    "\n",
    "def split_by_space(text):\n",
    "    return re.split('\\s+', text)"
   ]
  },
  {
   "cell_type": "code",
   "execution_count": 4,
   "id": "4b13ee7a",
   "metadata": {},
   "outputs": [],
   "source": [
    "def gene_data(text_list):\n",
    "    contents =[]\n",
    "    for i in range(len(text_list)-1):\n",
    "        contents.append(text_list[i])\n",
    "    return contents"
   ]
  },
  {
   "cell_type": "code",
   "execution_count": 5,
   "id": "a6f7d54c",
   "metadata": {},
   "outputs": [],
   "source": [
    "def result(path):\n",
    "    with open(path, \"r\", encoding=\"utf-8\") as file:\n",
    "        lines =file.readlines()\n",
    "    result = []\n",
    "    for line in lines:\n",
    "        line =split_by_space(line)\n",
    "        contents=gene_data(line)\n",
    "        result.append(contents)\n",
    "    return result\n",
    "    "
   ]
  },
  {
   "cell_type": "code",
   "execution_count": 6,
   "id": "e4b25897",
   "metadata": {},
   "outputs": [],
   "source": [
    "gene_data =result(path)\n",
    "col_names =['geneName','name','chrom','strand','txStart','txEnd','cdsStart','cdsEnd','exonCount','exonStarts','exonEnds']\n",
    "gene_df=pd.DataFrame(gene_data,columns=col_names)"
   ]
  },
  {
   "cell_type": "code",
   "execution_count": 7,
   "id": "fd8857d2",
   "metadata": {},
   "outputs": [],
   "source": [
    "base_data = read_fasta(path_fa)"
   ]
  },
  {
   "cell_type": "code",
   "execution_count": 8,
   "id": "789349f9",
   "metadata": {},
   "outputs": [],
   "source": [
    "df=gene_df[gene_df.duplicated('name', keep=False)]"
   ]
  },
  {
   "cell_type": "code",
   "execution_count": null,
   "id": "31ca11f7",
   "metadata": {},
   "outputs": [],
   "source": []
  },
  {
   "cell_type": "code",
   "execution_count": 9,
   "id": "146fdf3d",
   "metadata": {},
   "outputs": [],
   "source": [
    "def target_base_CT_plus(seq):\n",
    "    match = re.findall('(?=(\\w{20}GG))', seq)\n",
    "    target_list=[]\n",
    "    for i in range(len(match)):\n",
    "        target = match[i][0:3]\n",
    "        if target =='CAA'or target =='CAG'or target =='CGA':\n",
    "            target_list.append(True)\n",
    "        \n",
    "        else:\n",
    "            target_list.append(False)\n",
    "    result =[match[s] for s in range(len(match)) if target_list[s]]\n",
    "    result = list(dict.fromkeys(result))\n",
    "    return result"
   ]
  },
  {
   "cell_type": "code",
   "execution_count": 10,
   "id": "325e7334",
   "metadata": {},
   "outputs": [],
   "source": [
    "def target_base_AG_plsu(seq):\n",
    "    match = re.findall('(?=(CC\\w{20}))', seq)\n",
    "    target_list=[]\n",
    "    print(match)\n",
    "    for i in range(len(match)):\n",
    "        target = match[i][-3:]\n",
    "        print(target)\n",
    "        if target =='TGG':\n",
    "            target_list.append(True)\n",
    "        \n",
    "        else:\n",
    "            target_list.append(False)\n",
    "    result =[match[s] for s in range(len(match)) if target_list[s]]\n",
    "    result = list(dict.fromkeys(result))\n",
    "    return result"
   ]
  },
  {
   "cell_type": "code",
   "execution_count": 11,
   "id": "f814ddb8",
   "metadata": {},
   "outputs": [],
   "source": [
    "def target_start(target_list,qua):    \n",
    "    result = []\n",
    "    for i in target_list:\n",
    "        matches = re.finditer(i, qua)\n",
    "        for match in matches:\n",
    "            start_index = match.start()\n",
    "            result.append(start_index)\n",
    "    return result"
   ]
  },
  {
   "cell_type": "code",
   "execution_count": 12,
   "id": "be458403",
   "metadata": {},
   "outputs": [],
   "source": [
    "def target_gene_start(name,target):\n",
    "    data = gene_df[gene_df['name']==name]\n",
    "    num = data['txStart'].astype(int).to_numpy()\n",
    "    target = np.array(target)\n",
    "    print(num)\n",
    "    print(target)\n",
    "    result = target+num\n",
    "    #ここ-1が必要かもしれない？\n",
    "    return result\n",
    "    "
   ]
  },
  {
   "cell_type": "code",
   "execution_count": 13,
   "id": "3d2b4909",
   "metadata": {},
   "outputs": [],
   "source": [
    "samp = base_data[\"NM_001385633::chr7:44239875-44254175\"]"
   ]
  },
  {
   "cell_type": "code",
   "execution_count": 14,
   "id": "d1717819",
   "metadata": {},
   "outputs": [
    {
     "name": "stdout",
     "output_type": "stream",
     "text": [
      "[44239875]\n",
      "[  940  1010  1125  1492  1937  2813  2910  3599  3607  3939  4182  4259\n",
      "  4483  4546  4811  5806  5868  5947  6648  6688  6747  6757  6854  7045\n",
      "  7050  7082  7926  8028  8424  8617  8770  9406  9714 10339 11442 11556\n",
      " 11674 12151 13084 13360 14021 14077 14116 14120]\n"
     ]
    },
    {
     "data": {
      "text/plain": [
       "array([44240815, 44240885, 44241000, 44241367, 44241812, 44242688,\n",
       "       44242785, 44243474, 44243482, 44243814, 44244057, 44244134,\n",
       "       44244358, 44244421, 44244686, 44245681, 44245743, 44245822,\n",
       "       44246523, 44246563, 44246622, 44246632, 44246729, 44246920,\n",
       "       44246925, 44246957, 44247801, 44247903, 44248299, 44248492,\n",
       "       44248645, 44249281, 44249589, 44250214, 44251317, 44251431,\n",
       "       44251549, 44252026, 44252959, 44253235, 44253896, 44253952,\n",
       "       44253991, 44253995])"
      ]
     },
     "execution_count": 14,
     "metadata": {},
     "output_type": "execute_result"
    }
   ],
   "source": [
    "target_gene_start(\"NM_001385633\",target_start(target_base_CT_plus(samp),samp))"
   ]
  },
  {
   "cell_type": "code",
   "execution_count": 15,
   "id": "39043596",
   "metadata": {},
   "outputs": [],
   "source": [
    "target_list= target_base_CT_plus(samp)"
   ]
  },
  {
   "cell_type": "code",
   "execution_count": 16,
   "id": "a7af885f",
   "metadata": {},
   "outputs": [
    {
     "data": {
      "text/plain": [
       "['CGAGGAGGAGCTGGGCTTCTGG',\n",
       " 'CAGCACCGTGACGCTGAGGAGG',\n",
       " 'CAGGAGGCGGCGGCCTGGACGG',\n",
       " 'CGAAAACTTAAGCGTCCCTGGG',\n",
       " 'CAAACTACTGGTCCTAGTCAGG',\n",
       " 'CAGTGCCGCATTCGTACTGCGG',\n",
       " 'CGACATTTGGGGTTGAGTTGGG',\n",
       " 'CAGTGCTGCAGCCTGCAGGTGG',\n",
       " 'CAGCCTGCAGGTGGGGGAGGGG',\n",
       " 'CAGTGGGATACTGACAATGAGG',\n",
       " 'CAAACCCAGGTTTTTGAGCCGG',\n",
       " 'CAAAATATATAAAGAGGGCTGG',\n",
       " 'CAGAAAGGGCTCTTTCCCTGGG',\n",
       " 'CAGAACTGATTGCTAGAAGTGG',\n",
       " 'CAGGCCTCCCCAATCCCTGGGG',\n",
       " 'CAACAGGGCAGGTGAGGCTGGG',\n",
       " 'CAGGGTTGGAGGGGATGCAGGG',\n",
       " 'CAAGTGGCTAGAAGGCTGGAGG',\n",
       " 'CGACTACTAGGAAGGCTGGAGG',\n",
       " 'CAGTTTGTGACTGTGGCCGGGG',\n",
       " 'CAAGTGGAGTCAGGCAGCCTGG',\n",
       " 'CAGGCAGCCTGGAGGTTAGAGG',\n",
       " 'CAGGGTCTGCAGAGGGCAGCGG',\n",
       " 'CAGGCCAGGAAGAGGAGGGAGG',\n",
       " 'CAGGAAGAGGAGGGAGGAGAGG',\n",
       " 'CAGTTGCGCCTGATTTCTCGGG',\n",
       " 'CAGTAGACCCCCGTCCCAATGG',\n",
       " 'CAATCACTCCCGGAAGCCGGGG',\n",
       " 'CAACGCCAACGCAGCAGCCTGG',\n",
       " 'CGACTCCCACTGTCACCCCAGG',\n",
       " 'CAGTCACCAAGGTGGTTTATGG',\n",
       " 'CAGAGGCTGAACACACTGGTGG',\n",
       " 'CAGGTGTGAGAGAAAGCCTAGG',\n",
       " 'CAACAGTGAGCCTGTGTTGGGG',\n",
       " 'CAGCATTGTGGGCCTGAGCGGG',\n",
       " 'CAGCCCTCCCCCCTGTGGGGGG',\n",
       " 'CGATGCCAGCAGACACCCCCGG',\n",
       " 'CAGCTGCTCTTGGGCTTGGAGG',\n",
       " 'CAAATCTCGTCTTGGCTCCAGG',\n",
       " 'CAGGGGTTGAGGAGTGGGGTGG',\n",
       " 'CAATGGGCGCTCTCAGGGATGG',\n",
       " 'CAACTCTGGTGCTAATGGCGGG',\n",
       " 'CAGGCAGGGAGGAAGGAGTCGG',\n",
       " 'CAGGGAGGAAGGAGTCGGCAGG']"
      ]
     },
     "execution_count": 16,
     "metadata": {},
     "output_type": "execute_result"
    }
   ],
   "source": [
    "target_base_CT_plus(samp)"
   ]
  },
  {
   "cell_type": "code",
   "execution_count": 17,
   "id": "f498a607",
   "metadata": {},
   "outputs": [
    {
     "data": {
      "text/plain": [
       "[940,\n",
       " 1010,\n",
       " 1125,\n",
       " 1492,\n",
       " 1937,\n",
       " 2813,\n",
       " 2910,\n",
       " 3599,\n",
       " 3607,\n",
       " 3939,\n",
       " 4182,\n",
       " 4259,\n",
       " 4483,\n",
       " 4546,\n",
       " 4811,\n",
       " 5806,\n",
       " 5868,\n",
       " 5947,\n",
       " 6648,\n",
       " 6688,\n",
       " 6747,\n",
       " 6757,\n",
       " 6854,\n",
       " 7045,\n",
       " 7050,\n",
       " 7082,\n",
       " 7926,\n",
       " 8028,\n",
       " 8424,\n",
       " 8617,\n",
       " 8770,\n",
       " 9406,\n",
       " 9714,\n",
       " 10339,\n",
       " 11442,\n",
       " 11556,\n",
       " 11674,\n",
       " 12151,\n",
       " 13084,\n",
       " 13360,\n",
       " 14021,\n",
       " 14077,\n",
       " 14116,\n",
       " 14120]"
      ]
     },
     "execution_count": 17,
     "metadata": {},
     "output_type": "execute_result"
    }
   ],
   "source": [
    "target_start(target_base_CT_plus(samp),samp)"
   ]
  },
  {
   "cell_type": "code",
   "execution_count": null,
   "id": "dbb8b375",
   "metadata": {},
   "outputs": [],
   "source": []
  },
  {
   "cell_type": "code",
   "execution_count": null,
   "id": "e4ad926a",
   "metadata": {},
   "outputs": [],
   "source": []
  },
  {
   "cell_type": "code",
   "execution_count": null,
   "id": "448bdc9b",
   "metadata": {},
   "outputs": [],
   "source": []
  }
 ],
 "metadata": {
  "kernelspec": {
   "display_name": "Python 3",
   "language": "python",
   "name": "python3"
  },
  "language_info": {
   "codemirror_mode": {
    "name": "ipython",
    "version": 3
   },
   "file_extension": ".py",
   "mimetype": "text/x-python",
   "name": "python",
   "nbconvert_exporter": "python",
   "pygments_lexer": "ipython3",
   "version": "3.8.8"
  }
 },
 "nbformat": 4,
 "nbformat_minor": 5
}
